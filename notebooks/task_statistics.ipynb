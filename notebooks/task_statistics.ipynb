{
 "cells": [
  {
   "cell_type": "markdown",
   "metadata": {},
   "source": [
    "## Setup\n",
    "### Imports"
   ]
  },
  {
   "cell_type": "code",
   "execution_count": 1,
   "metadata": {
    "ExecuteTime": {
     "end_time": "2019-04-13T03:57:03.299844Z",
     "start_time": "2019-04-13T03:57:03.266445Z"
    },
    "pycharm": {
     "is_executing": false
    }
   },
   "outputs": [],
   "source": [
    "import sys\n",
    "sys.path.append('../')\n",
    "del sys\n",
    "\n",
    "%reload_ext autoreload\n",
    "%autoreload 2\n",
    "\n",
    "from toolbox.parsers import standard_parser, add_annotations_arguments, add_task_arguments\n",
    "from toolbox.utils import load_task\n",
    "from modeling.utils import format_context"
   ]
  },
  {
   "cell_type": "markdown",
   "metadata": {},
   "source": [
    "### Parameters"
   ]
  },
  {
   "cell_type": "code",
   "execution_count": 2,
   "metadata": {},
   "outputs": [],
   "source": [
    "ap = standard_parser()\n",
    "add_annotations_arguments(ap)\n",
    "add_task_arguments(ap)\n",
    "args = ap.parse_args([\"--root\", \"..\"])"
   ]
  },
  {
   "cell_type": "markdown",
   "metadata": {},
   "source": [
    "### Load the modeling task"
   ]
  },
  {
   "cell_type": "code",
   "execution_count": 3,
   "metadata": {},
   "outputs": [
    {
     "name": "stdout",
     "output_type": "stream",
     "text": [
      "Task loaded from ../results/modeling_task/context-dependent-same-type_50-25-25_rs24_bs4_cf-v0_tf-v0.pkl.\n",
      "\n"
     ]
    }
   ],
   "source": [
    "task = load_task(args)"
   ]
  },
  {
   "cell_type": "markdown",
   "metadata": {},
   "source": [
    "### Statistics"
   ]
  },
  {
   "cell_type": "code",
   "execution_count": 4,
   "metadata": {},
   "outputs": [
    {
     "name": "stdout",
     "output_type": "stream",
     "text": [
      "Aggregatable instances in train: 858\n",
      "Aggregatable instances in valid: 430\n",
      "Aggregatable instances in test: 430\n",
      "Aggregatable instances (total): 1718\n",
      "\n",
      "Average relevant aggregation per instance (all): 2.70\n",
      "Average relevant aggregation per instance (person): 2.59\n",
      "Average relevant aggregation per instance (location): 2.86\n",
      "Average relevant aggregation per instance (org): 2.70\n"
     ]
    }
   ],
   "source": [
    "from collections import defaultdict\n",
    "from numpy import mean\n",
    "\n",
    "print(\"Aggregatable instances in train: %i\" % len(task.train_loader))\n",
    "print(\"Aggregatable instances in valid: %i\" % len(task.valid_loader))\n",
    "print(\"Aggregatable instances in test: %i\" % len(task.test_loader))\n",
    "print(\"Aggregatable instances (total): %i\" % (len(task.train_loader)+len(task.valid_loader)+len(task.test_loader)))\n",
    "print()\n",
    "\n",
    "d1 = defaultdict(list)\n",
    "for data_loader in [task.train_loader, task.valid_loader, task.test_loader]:\n",
    "    for ranking_task in data_loader:\n",
    "        d2 = defaultdict(int)\n",
    "        for inputs, outputs in ranking_task:\n",
    "            d2['all']+= outputs.sum().item()\n",
    "            d2[inputs['entities_type']]+= outputs.sum().item()\n",
    "        for key, value in d2.items():\n",
    "            d1[key].append(value)\n",
    "\n",
    "for key, value in d1.items():\n",
    "    print(\"Average relevant aggregation per instance (%s): %.2f\" % (key, mean(value)))"
   ]
  },
  {
   "cell_type": "code",
   "execution_count": 14,
   "metadata": {},
   "outputs": [
    {
     "name": "stdout",
     "output_type": "stream",
     "text": [
      "20592 10320 10320\n"
     ]
    }
   ],
   "source": [
    "c1, c2, c3 = 0, 0, 0\n",
    "\n",
    "for ranking_task in task.train_loader:\n",
    "    for _, outputs in ranking_task:\n",
    "        #c1 += outputs.sum().item()\n",
    "        c1 += len(outputs)\n",
    "\n",
    "for ranking_task in task.valid_loader:\n",
    "    for _, outputs in ranking_task:\n",
    "        #c2 += outputs.sum().item()\n",
    "        c2 += len(outputs)\n",
    "        \n",
    "for ranking_task in task.test_loader:\n",
    "    for _, outputs in ranking_task:\n",
    "        #c3 += outputs.sum().item()\n",
    "        c3 += len(outputs)\n",
    "        \n",
    "print(c1, c2, c3)"
   ]
  },
  {
   "cell_type": "markdown",
   "metadata": {},
   "source": [
    "## Display the examples"
   ]
  },
  {
   "cell_type": "code",
   "execution_count": 5,
   "metadata": {},
   "outputs": [],
   "source": [
    "def example(task, entities, context_extract):\n",
    "    for data_loader, loader_name in zip([task.train_loader, task.valid_loader, task.test_loader], [\"train\", \"valid\", \"test\"]):\n",
    "        all_choices, all_outputs = [], []\n",
    "        for ranking_task in data_loader:\n",
    "            inputs, _ = ranking_task[0]\n",
    "            if sorted(inputs['entities']) == sorted(entities) and context_extract in inputs['nyt_contexts'][0]:\n",
    "                print(loader_name)\n",
    "                for key, value in inputs.items():\n",
    "                    if key != 'choices':\n",
    "                        print(key, '->', value)\n",
    "                print()\n",
    "\n",
    "                context = format_context(inputs, args.context_format, args.context_max_size)\n",
    "                print('context: ->', context)\n",
    "\n",
    "                print()\n",
    "                for i, o in ranking_task:\n",
    "                    all_choices.extend(i['choices'])\n",
    "                    all_outputs.extend(o.tolist())\n",
    "                \n",
    "                final_choices = []\n",
    "                for choice, label in zip(all_choices, all_outputs):\n",
    "                    if not label:\n",
    "                        final_choices.append(choice)\n",
    "                    else:\n",
    "                        final_choices.append(\"\\\\textbf{\" + choice + \"}\")\n",
    "                \n",
    "                print(\", \".join(final_choices))\n",
    "                    \n",
    "                all_choices, all_outputs = [], []\n",
    "                \n",
    "                print('\\n\\n')"
   ]
  },
  {
   "cell_type": "code",
   "execution_count": 6,
   "metadata": {
    "scrolled": false
   },
   "outputs": [
    {
     "name": "stdout",
     "output_type": "stream",
     "text": [
      "valid\n",
      "entities -> ['Francois Bayrou', 'Nicolas Sarkozy', 'Segolene Royal']\n",
      "entities_type -> person\n",
      "wiki_articles -> ['François Bayrou is a French centrist politician and the president of the Democratic Movement , who was a candidate in the 2002, 2007 and 2012 French presidential elections.', 'Nicolas Paul Stéphane Sarközy de Nagy-Bocsa ; born 28 January 1955) is a retired French politician who served as President of France and ex officio Co-Prince of Andorra from 16 May 2007 until 15 May 2012.', 'Ségolène Royal ; born 22 September 1953), is a French politician and former Socialist Party candidate for President of France.']\n",
      "nyt_titles -> ['French Candidate Holds a Curious Debate']\n",
      "nyt_contexts -> [\"There they are, the two of them, in a big hotel, chatting together,'' he said, adding,'' I, I am in the midst of the French people.'' Since his defeat, Mr. Bayrou has been much more critical of Mr. Sarkozy than of Ms. Royal , portraying him this week as having'' a taste for intimidation and threat.''\"]\n",
      "features -> tensor([[1.0000, 0.0000, 0.0000, 0.0000, 0.0000, 0.3514, 0.2754, 0.0000, 0.0000,\n",
      "         0.4134, 0.0000, 0.0000, 0.0000, 0.4061, 0.3879],\n",
      "        [1.0000, 0.0000, 0.0000, 0.0000, 0.0000, 0.3302, 0.2299, 0.0000, 0.0000,\n",
      "         0.4242, 0.0000, 0.0000, 0.0000, 0.3970, 0.3497],\n",
      "        [0.0000, 0.0000, 0.0000, 0.0000, 0.0000, 0.2099, 0.1839, 0.0000, 0.0000,\n",
      "         0.2828, 0.0000, 0.0000, 0.0000, 0.2528, 0.3246],\n",
      "        [3.0000, 0.0000, 0.0000, 0.0000, 0.0000, 0.2413, 0.2600, 0.0000, 0.0000,\n",
      "         0.3277, 0.0000, 0.0000, 0.0000, 0.2946, 0.3731]])\n",
      "\n",
      "context: -> François Bayrou is a French centrist politician and the president of the Democratic Movement , who was a candidate in the 2002, 2007 and 2012 French presidential elections. Nicolas Paul Stéphane Sarközy de Nagy-Bocsa ; born 28 January 1955) is a retired French politician who served as President of France and ex officio Co-Prince of Andorra from 16 May 2007 until 15 May 2012. Ségolène Royal ; born 22 September 1953), is a French politician and former Socialist Party candidate for President of France. French Candidate Holds a Curious Debate: There they are, the two of them, in a big hotel, chatting together,'' he said, adding,'' I, I am in the midst of the French people.'' Since his defeat, Mr. Bayrou has been much more critical of Mr. Sarkozy than of Ms. Royal , portraying him this week as having'' a taste for intimidation and threat.'' Francois Bayrou, Nicolas Sarkozy, Segolene Royal\n",
      "\n",
      "new york crime victims, alabama couple, successful actors, world leaders, statesmen, business associates, \\textbf{politicians}, russian political leaders, men who's first name begins with the letter r, white collar criminal, former iranian presidents, golfers, italians, german businessmen, american government employees, home buyers, ex coworkers, suspects, \\textbf{french politicians}, american business men, media participants, church members, high-profile americans, ex-presidents\n",
      "\n",
      "\n",
      "\n",
      "test\n",
      "entities -> ['Francois Bayrou', 'Nicolas Sarkozy', 'Segolene Royal']\n",
      "entities_type -> person\n",
      "wiki_articles -> ['François Bayrou is a French centrist politician and the president of the Democratic Movement , who was a candidate in the 2002, 2007 and 2012 French presidential elections.', 'Nicolas Paul Stéphane Sarközy de Nagy-Bocsa ; born 28 January 1955) is a retired French politician who served as President of France and ex officio Co-Prince of Andorra from 16 May 2007 until 15 May 2012.', 'Ségolène Royal ; born 22 September 1953), is a French politician and former Socialist Party candidate for President of France.']\n",
      "nyt_titles -> ['Street Violence by Paris Youths Intrudes Again Into French Politics']\n",
      "nyt_contexts -> [\"The Socialist candidate , Ségolène Royal , who is running second in the opinion polls, said the incident showed that Mr. Sarkozy had failed as interior minister.'' In five years with a right-wing government that has made crime its main campaign issue, you can see that it is a failure all the way,'' she said on Canal+ television. François Bayrou , a centrist presidential candidate , also took aim at Mr. Sarkozy , saying,'' It is very important to end this climate of perpetual confrontation between police and some citizens.''\"]\n",
      "features -> tensor([[1.0000, 0.0000, 0.0000, 0.0000, 0.0000, 0.1083, 0.0509, 0.0000, 0.0000,\n",
      "         0.0821, 0.0000, 0.0000, 0.0000, 0.1068, 0.0761],\n",
      "        [1.0000, 0.0000, 0.0000, 0.0000, 0.0000, 0.1524, 0.1462, 1.0000, 1.0000,\n",
      "         0.3771, 1.0000, 1.0000, 1.0000, 0.2910, 0.3852],\n",
      "        [0.0000, 5.0000, 2.0000, 1.0000, 3.0000, 0.7327, 0.6117, 2.0000, 2.0000,\n",
      "         0.5540, 7.0000, 2.0000, 2.0000, 0.6903, 0.5407],\n",
      "        [1.0000, 0.0000, 0.0000, 0.0000, 0.0000, 0.1650, 0.1458, 0.0000, 0.0000,\n",
      "         0.2738, 0.0000, 0.0000, 0.0000, 0.2383, 0.2845]])\n",
      "\n",
      "context: -> François Bayrou is a French centrist politician and the president of the Democratic Movement , who was a candidate in the 2002, 2007 and 2012 French presidential elections. Nicolas Paul Stéphane Sarközy de Nagy-Bocsa ; born 28 January 1955) is a retired French politician who served as President of France and ex officio Co-Prince of Andorra from 16 May 2007 until 15 May 2012. Ségolène Royal ; born 22 September 1953), is a French politician and former Socialist Party candidate for President of France. Street Violence by Paris Youths Intrudes Again Into French Politics: The Socialist candidate , Ségolène Royal , who is running second in the opinion polls, said the incident showed that Mr. Sarkozy had failed as interior minister.'' In five years with a right-wing government that has made crime its main campaign issue, you can see that it is a failure all the way,'' she said on Canal+ television. François Bayrou , a centrist presidential candidate , also took aim at Mr. Sarkozy , saying,'' It is very important to end this climate of perpetual confrontation between police and some citizens.'' Francois Bayrou, Nicolas Sarkozy, Segolene Royal\n",
      "\n",
      "afghans, police officers, \\textbf{french presidential candidates}, intelligence analysts, tv talent, american lobbyists, former presidents, defectors, former boxers, \\textbf{politicians}, real estate company owners, participants in anna nicole smith case, american men, \\textbf{french politicians}, new york mafiosos, people involved in the scandal, iraqi citizens, billionaire businessmen, male speed skaters, investors, men involved in professional sports, screen artists, poets, alleged criminals\n",
      "\n",
      "\n",
      "\n",
      "train\n",
      "entities -> ['Chicago', 'London']\n",
      "entities_type -> location\n",
      "wiki_articles -> [\"Chicago , locally also ), officially the City of Chicago, is the most populous city in the U.S. state of Illinois and the third most populous city in the United States. With an estimated population of 2,705,994 , it is also the most populous city in the Midwestern United States. Chicago is the county seat of Cook County, the second most populous county in the US, with portions of the northwest side of the city extending into DuPage County near O'Hare Airport. Chicago is the principal city of the Chicago metropolitan area, often referred to as Chicagoland.\", \"London is the capital and largest city of England and the United Kingdom. Standing on the River Thames in the south-east of England, at the head of its 50-mile estuary leading to the North Sea, London has been a major settlement for two millennia. Londinium was founded by the Romans. The City of London, London's ancient core − an area of just 1.12 square miles and colloquially known as the Square Mile − retains boundaries that follow closely its medieval limits. The City of Westminster is also an Inner London borough holding city status.\"]\n",
      "nyt_titles -> ['Virtually Cool']\n",
      "nyt_contexts -> [\"The author of the hour was Chris Anderson, who after the drinks entertained the crowd with a simulcast PowerPoint lecture on the topic of his new best seller,'' The Long Tail,'' which describes how the chokehold of mass culture is being loosened by the new Internet-enabled economics of niche culture and niche commerce. The party was sponsored in part by a small SoHo-based new-media company called Flavorpill, which produces free e-mail magazines and weekly event guides for New York, Los Angeles, San Francisco, Chicago and London .\"]\n",
      "features -> tensor([[0.0000, 0.0000, 0.0000, 0.0000, 0.0000, 0.6363, 0.3803, 0.0000, 0.0000,\n",
      "         0.4225, 0.0000, 0.0000, 0.0000, 0.6212, 0.4486],\n",
      "        [2.0000, 1.0000, 1.0000, 0.0000, 1.0000, 0.5231, 0.5015, 0.0000, 0.0000,\n",
      "         0.3021, 1.0000, 1.0000, 0.0000, 0.4846, 0.3331],\n",
      "        [0.0000, 0.0000, 0.0000, 0.0000, 0.0000, 0.2310, 0.1785, 0.0000, 0.0000,\n",
      "         0.1515, 0.0000, 0.0000, 0.0000, 0.2189, 0.1572],\n",
      "        [0.0000, 0.0000, 0.0000, 0.0000, 0.0000, 0.5827, 0.3535, 0.0000, 0.0000,\n",
      "         0.4230, 0.0000, 0.0000, 0.0000, 0.5825, 0.4429]])\n",
      "\n",
      "context: -> Chicago , locally also ), officially the City of Chicago, is the most populous city in the U.S. state of Illinois and the third most populous city in the United States. With an estimated population of 2,705,994 , it is also the most populous city in the Midwestern United States. Chicago is the county seat of Cook County, the second most populous county in the US, with portions of the northwest side of the city extending into DuPage County near O'Hare Airport. Chicago is the principal city of the Chicago metropolitan area, often referred to as Chicagoland. London is the capital and largest city of England and the United Kingdom. Standing on the River Thames in the south-east of England, at the head of its 50-mile estuary leading to the North Sea, London has been a major settlement for two millennia. Londinium was founded by the Romans. The City of London, London's ancient core − an area of just 1.12 square miles and colloquially known as the Square Mile − retains boundaries that follow closely its medieval limits. The City of Westminster is also an Inner London borough holding city status. Virtually Cool: The author of the hour was Chris Anderson, who after the drinks entertained the crowd with a simulcast PowerPoint lecture on the topic of his new best seller,'' The Long Tail,'' which describes how the chokehold of mass culture is being loosened by the new Internet-enabled economics of niche culture and niche commerce. The party was sponsored in part by a small SoHo-based new-media company called Flavorpill, which produces free e-mail magazines and weekly event guides for New York, Los Angeles, San Francisco, Chicago and London . Chicago, London\n",
      "\n",
      "western asia cities, \\textbf{major cities}, western-asia countries, eastern european locales, large political entities, neighboring middle eastern countries, rival nations, east coast states, major american cities, middle eastern counties, \\textbf{major metropolitan cities}, eastern locations, african locations, central asian countries, sovereign states of the usa, security council members, new england areas, middle eastern regions, saudi arabian neighbors, places near the mediterranean sea, \\textbf{cities}, iraqi areas, surrounding countries, political climates\n",
      "\n",
      "\n",
      "\n",
      "train\n",
      "entities -> ['Microsoft Corp.', 'Sony Corp.']\n",
      "entities_type -> org\n",
      "wiki_articles -> ['Microsoft Corporation is an American multinational technology company with headquarters in Redmond, Washington. It develops, manufactures, licenses, supports, and sells computer software, consumer electronics, personal computers, and related services. Its best known software products are the Microsoft Windows line of operating systems, the Microsoft Office suite, and the Internet Explorer and Edge web browsers. Its flagship hardware products are the Xbox video game consoles and the Microsoft Surface lineup of touchscreen personal computers.', 'Sony Corporation is a Japanese multinational conglomerate corporation headquartered in Kōnan, Minato, Tokyo. Its diversified business includes consumer and professional electronics, gaming, entertainment and financial services.']\n",
      "nyt_titles -> ['Battleground For Consoles Moves Online']\n",
      "nyt_contexts -> ['Over all, though, it is Microsoft that has had the steeper mountain to climb . In the last generation of video game consoles, Sony had a roughly 60 percent market share, compared to 20 percent for each Microsoft and Nintendo.']\n",
      "features -> tensor([[1.0000, 6.0000, 3.0000, 3.0000, 2.0000, 0.6157, 0.9061, 0.0000, 0.0000,\n",
      "         0.3280, 6.0000, 3.0000, 3.0000, 0.5555, 0.5347],\n",
      "        [3.0000, 0.0000, 0.0000, 0.0000, 0.0000, 0.1851, 0.2382, 0.0000, 0.0000,\n",
      "         0.2116, 0.0000, 0.0000, 0.0000, 0.2000, 0.2509],\n",
      "        [1.0000, 2.0000, 2.0000, 0.0000, 2.0000, 0.6331, 0.5580, 0.0000, 0.0000,\n",
      "         0.4042, 2.0000, 2.0000, 0.0000, 0.6091, 0.5017],\n",
      "        [0.0000, 0.0000, 0.0000, 0.0000, 0.0000, 0.3321, 0.4138, 0.0000, 0.0000,\n",
      "         0.1654, 0.0000, 0.0000, 0.0000, 0.2945, 0.2550]])\n",
      "\n",
      "context: -> Microsoft Corporation is an American multinational technology company with headquarters in Redmond, Washington. It develops, manufactures, licenses, supports, and sells computer software, consumer electronics, personal computers, and related services. Its best known software products are the Microsoft Windows line of operating systems, the Microsoft Office suite, and the Internet Explorer and Edge web browsers. Its flagship hardware products are the Xbox video game consoles and the Microsoft Surface lineup of touchscreen personal computers. Sony Corporation is a Japanese multinational conglomerate corporation headquartered in Kōnan, Minato, Tokyo. Its diversified business includes consumer and professional electronics, gaming, entertainment and financial services. Battleground For Consoles Moves Online: Over all, though, it is Microsoft that has had the steeper mountain to climb . In the last generation of video game consoles, Sony had a roughly 60 percent market share, compared to 20 percent for each Microsoft and Nintendo. Microsoft Corp., Sony Corp.\n",
      "\n",
      "multinational consumer electronics corporations, militant groups, american entertainment companies, transportation organizations, entertainment groups, \\textbf{technology companies}, palestinian political organizations, palestinian political parties, rivals, medical organizations, hockey teams, entities of the palestinian legislative council, multinational aerospace corporation, \\textbf{multinational corporations}, communications groups, transportation corporations, business partners, military organizations, california organizations, retailers, new york city organizations, american pharmaceutical company, political organizations, european telecommunications firms\n",
      "\n",
      "\n",
      "\n",
      "train\n",
      "entities -> ['Microsoft Corp.', 'Sony Corp.']\n",
      "entities_type -> org\n",
      "wiki_articles -> ['Microsoft Corporation is an American multinational technology company with headquarters in Redmond, Washington. It develops, manufactures, licenses, supports, and sells computer software, consumer electronics, personal computers, and related services. Its best known software products are the Microsoft Windows line of operating systems, the Microsoft Office suite, and the Internet Explorer and Edge web browsers. Its flagship hardware products are the Xbox video game consoles and the Microsoft Surface lineup of touchscreen personal computers.', 'Sony Corporation is a Japanese multinational conglomerate corporation headquartered in Kōnan, Minato, Tokyo. Its diversified business includes consumer and professional electronics, gaming, entertainment and financial services.']\n",
      "nyt_titles -> ['In Game of Games, Wii Outshoots PlayStation']\n",
      "nyt_contexts -> [\"The ratio has widened from the first three months of the year, when the Wii outsold Sony 's new console 2 to 1. During April, Microsoft sold 174,000 of its Xbox 360 game consoles, NPD reported.\"]\n",
      "features -> tensor([[1.0000, 0.0000, 0.0000, 0.0000, 0.0000, 0.2394, 0.3116, 0.0000, 0.0000,\n",
      "         0.0363, 0.0000, 0.0000, 0.0000, 0.1909, 0.1135],\n",
      "        [1.0000, 0.0000, 0.0000, 0.0000, 0.0000, 0.4281, 0.5910, 0.0000, 0.0000,\n",
      "         0.1221, 0.0000, 0.0000, 0.0000, 0.3508, 0.2537],\n",
      "        [0.0000, 1.0000, 1.0000, 0.0000, 1.0000, 0.5406, 0.4554, 0.0000, 0.0000,\n",
      "         0.3773, 1.0000, 1.0000, 0.0000, 0.5471, 0.4539],\n",
      "        [0.0000, 0.0000, 0.0000, 0.0000, 0.0000, 0.3228, 0.3501, 0.0000, 0.0000,\n",
      "         0.2071, 0.0000, 0.0000, 0.0000, 0.3080, 0.2693]])\n",
      "\n",
      "context: -> Microsoft Corporation is an American multinational technology company with headquarters in Redmond, Washington. It develops, manufactures, licenses, supports, and sells computer software, consumer electronics, personal computers, and related services. Its best known software products are the Microsoft Windows line of operating systems, the Microsoft Office suite, and the Internet Explorer and Edge web browsers. Its flagship hardware products are the Xbox video game consoles and the Microsoft Surface lineup of touchscreen personal computers. Sony Corporation is a Japanese multinational conglomerate corporation headquartered in Kōnan, Minato, Tokyo. Its diversified business includes consumer and professional electronics, gaming, entertainment and financial services. In Game of Games, Wii Outshoots PlayStation: The ratio has widened from the first three months of the year, when the Wii outsold Sony 's new console 2 to 1. During April, Microsoft sold 174,000 of its Xbox 360 game consoles, NPD reported. Microsoft Corp., Sony Corp.\n",
      "\n",
      "institutions, beverage companies, japanese corporations, media outlets, \\textbf{gaming hardware companies}, aeronautical companies, entertainment businesses, american professional basketball teams, california corporations, new york city organizations, terrorist organizations, components of american government, medical companies, european telecom companies, \\textbf{companies}, palestinian resistance groups, \\textbf{technology companies}, american founded groups, news agencies, medical experts, military organizations, tech giants, organizations involved in the case, catholic universities\n",
      "\n",
      "\n",
      "\n"
     ]
    }
   ],
   "source": [
    "entities_list = [\n",
    "    [\"Francois Bayrou\", \"Nicolas Sarkozy\", \"Segolene Royal\"],\n",
    "    [\"Chicago\", \"London\"],\n",
    "    [\"Microsoft Corp.\", \"Sony Corp.\"],\n",
    "]\n",
    "context_extracts_list = [\n",
    "    \"\", #\"The Socialist candidate\",\n",
    "    \"\",\n",
    "    \"\", # \"Nintendo\",\n",
    "]\n",
    "\n",
    "for entities, context_extract in zip(entities_list, context_extracts_list):\n",
    "    example(task, entities, context_extract)"
   ]
  },
  {
   "cell_type": "markdown",
   "metadata": {},
   "source": [
    "### Check if examples are unseen"
   ]
  },
  {
   "cell_type": "code",
   "execution_count": 7,
   "metadata": {},
   "outputs": [
    {
     "name": "stdout",
     "output_type": "stream",
     "text": [
      "2 1 1\n"
     ]
    }
   ],
   "source": [
    "c1, c2, c3 = 0, 0, 0\n",
    "for data_loader in [task.train_loader]:\n",
    "    for ranking_task in data_loader:\n",
    "        inputs, _ = ranking_task[0]\n",
    "        if 'Francois Bayrou' in inputs['entities']:\n",
    "            c1 += 1\n",
    "        if 'Nicolas Sarkozy' in inputs['entities']:\n",
    "            c2 += 1\n",
    "        if 'Segolene Royal' in inputs['entities']:\n",
    "            c3 += 1\n",
    "            \n",
    "print(c1, c2, c3)"
   ]
  },
  {
   "cell_type": "code",
   "execution_count": 7,
   "metadata": {},
   "outputs": [
    {
     "name": "stdout",
     "output_type": "stream",
     "text": [
      "french politician\n",
      "metropolitan cities\n",
      "technology corporations\n",
      "technology firms\n"
     ]
    }
   ],
   "source": [
    "s = set()\n",
    "for data_loader in [task.train_loader, task.valid_loader, task.test_loader]:\n",
    "    for ranking_task in data_loader:\n",
    "        for inputs, _ in ranking_task:\n",
    "            s.update(inputs['choices'])\n",
    "\n",
    "for a in [\n",
    "\"politicians\",\n",
    "\"american politicians\",\n",
    "\"french politicians\",\n",
    "\"political figures\",\n",
    "\"French politicians\",\n",
    "\"political leaders\",\n",
    "\"politician\",\n",
    "\"political candidates\",\n",
    "\"politicans\",\n",
    "\"politicians\",\n",
    "\n",
    "\"american cities\",\n",
    "\"cities\",\n",
    "\"political powers\",\n",
    "\"american regions\",\n",
    "\"american areas\",\n",
    "\"major cities\",\n",
    "\"politicians\",\n",
    "\"us cities\",\n",
    "\"world cities\",\n",
    "\"people\",\n",
    "\n",
    "\"multinational companies\",\n",
    "\"corporations\",\n",
    "\"multinational corporations\",\n",
    "\"american companies\",\n",
    "\"textbf{technology companies\",\n",
    "\"tech companies\",\n",
    "\"companies\",\n",
    "\"businesses\",\n",
    "\"countries\",\n",
    "\"technology firms\",\n",
    "\n",
    "\n",
    "    \n",
    "    \n",
    "    \"french politicians\",\n",
    "        \"politicians\",\n",
    "        \"american politicians\",\n",
    "        \"republicans\",\n",
    "        \"french politician\",\n",
    "        \"political figures\",\n",
    "        \"politician\",\n",
    "        \"political candidates\",\n",
    "        \"nations\",\n",
    "        \"leaders\",\n",
    "    \n",
    "    \"american cities\",\n",
    "        \"major cities\",\n",
    "        \"cities\",\n",
    "        \"metropolitan cities\",\n",
    "        \"major metropolitan cities\",\n",
    "        \"large cities\",\n",
    "        \"metropolitan areas\",\n",
    "        \"populations\",\n",
    "        \"regions\",\n",
    "        \"political powers\",\n",
    "    \n",
    "    'multinational corporations',\n",
    "        'multinational companies',\n",
    "        'corporations',\n",
    "        'technology companies',\n",
    "        'american corporations',\n",
    "        'tech companies',\n",
    "        'companies',\n",
    "        'technology corporations',\n",
    "        'tech corporations',\n",
    "        'technology firms',\n",
    "]:\n",
    "    if a not in s:\n",
    "        print(a)"
   ]
  },
  {
   "cell_type": "markdown",
   "metadata": {},
   "source": [
    "### Check number of set of unseen entities"
   ]
  },
  {
   "cell_type": "code",
   "execution_count": 8,
   "metadata": {},
   "outputs": [
    {
     "name": "stdout",
     "output_type": "stream",
     "text": [
      "1674\n",
      "4144\n"
     ]
    }
   ],
   "source": [
    "se = set()\n",
    "l = []\n",
    "\n",
    "for data_loader in [task.train_loader, task.valid_loader, task.test_loader]:\n",
    "    for ranking_task in data_loader:\n",
    "        inputs, _ = ranking_task[0]\n",
    "        entities = inputs['entities']\n",
    "        se.update(set(entities))\n",
    "        l.extend(entities)\n",
    "\n",
    "print(len(se))\n",
    "print(len(l))"
   ]
  },
  {
   "cell_type": "code",
   "execution_count": 9,
   "metadata": {},
   "outputs": [
    {
     "name": "stdout",
     "output_type": "stream",
     "text": [
      "125\n",
      "269\n",
      "128\n",
      "279\n"
     ]
    }
   ],
   "source": [
    "se, l1, l2 = set(), [], []\n",
    "\n",
    "data_loader = task.train_loader\n",
    "for ranking_task in data_loader:\n",
    "    inputs, outputs = ranking_task[0]\n",
    "    entities = inputs['entities']\n",
    "    se.update(set(entities))\n",
    "\n",
    "data_loader = task.valid_loader\n",
    "for ranking_task in data_loader:\n",
    "    inputs, outputs = ranking_task[0]\n",
    "    entities = inputs['entities']\n",
    "    if all([entity not in se for entity in entities]):\n",
    "        l1.append(entities)\n",
    "    \n",
    "data_loader = task.test_loader\n",
    "for ranking_task in data_loader:\n",
    "    inputs, outputs = ranking_task[0]\n",
    "    entities = inputs['entities']\n",
    "    if all([entity not in se for entity in entities]):\n",
    "        l2.append(entities)\n",
    "\n",
    "print(len(l1))\n",
    "print(sum([len(x) for x in l1]))\n",
    "print(len(l2))\n",
    "print(sum([len(x) for x in l2]))"
   ]
  },
  {
   "cell_type": "code",
   "execution_count": 10,
   "metadata": {},
   "outputs": [
    {
     "ename": "TypeError",
     "evalue": "unhashable type: 'list'",
     "output_type": "error",
     "traceback": [
      "\u001b[0;31m---------------------------------------------------------------------------\u001b[0m",
      "\u001b[0;31mTypeError\u001b[0m                                 Traceback (most recent call last)",
      "\u001b[0;32m<ipython-input-10-9bcfd5634e7e>\u001b[0m in \u001b[0;36m<module>\u001b[0;34m\u001b[0m\n\u001b[0;32m----> 1\u001b[0;31m \u001b[0mprint\u001b[0m\u001b[0;34m(\u001b[0m\u001b[0mlen\u001b[0m\u001b[0;34m(\u001b[0m\u001b[0;34m{\u001b[0m\u001b[0mx\u001b[0m \u001b[0;32mfor\u001b[0m \u001b[0mx\u001b[0m \u001b[0;32min\u001b[0m \u001b[0ml1\u001b[0m\u001b[0;34m}\u001b[0m\u001b[0;34m)\u001b[0m\u001b[0;34m)\u001b[0m\u001b[0;34m\u001b[0m\u001b[0;34m\u001b[0m\u001b[0m\n\u001b[0m",
      "\u001b[0;32m<ipython-input-10-9bcfd5634e7e>\u001b[0m in \u001b[0;36m<setcomp>\u001b[0;34m(.0)\u001b[0m\n\u001b[0;32m----> 1\u001b[0;31m \u001b[0mprint\u001b[0m\u001b[0;34m(\u001b[0m\u001b[0mlen\u001b[0m\u001b[0;34m(\u001b[0m\u001b[0;34m{\u001b[0m\u001b[0mx\u001b[0m \u001b[0;32mfor\u001b[0m \u001b[0mx\u001b[0m \u001b[0;32min\u001b[0m \u001b[0ml1\u001b[0m\u001b[0;34m}\u001b[0m\u001b[0;34m)\u001b[0m\u001b[0;34m)\u001b[0m\u001b[0;34m\u001b[0m\u001b[0;34m\u001b[0m\u001b[0m\n\u001b[0m",
      "\u001b[0;31mTypeError\u001b[0m: unhashable type: 'list'"
     ]
    }
   ],
   "source": [
    "print(len({x for x in l1}))"
   ]
  },
  {
   "cell_type": "markdown",
   "metadata": {},
   "source": [
    "### Check if examples entities are already seen"
   ]
  },
  {
   "cell_type": "code",
   "execution_count": null,
   "metadata": {},
   "outputs": [],
   "source": [
    "for entities in entities_list:\n",
    "    for entity in entities:\n",
    "        if entity not in se:\n",
    "            print(entity)"
   ]
  },
  {
   "cell_type": "code",
   "execution_count": null,
   "metadata": {},
   "outputs": [],
   "source": []
  }
 ],
 "metadata": {
  "jupytext": {
   "formats": "ipynb,py:percent"
  },
  "kernelspec": {
   "display_name": "Python 3 (ipykernel)",
   "language": "python",
   "name": "python3"
  },
  "language_info": {
   "codemirror_mode": {
    "name": "ipython",
    "version": 3
   },
   "file_extension": ".py",
   "mimetype": "text/x-python",
   "name": "python",
   "nbconvert_exporter": "python",
   "pygments_lexer": "ipython3",
   "version": "3.7.16"
  },
  "pycharm": {
   "stem_cell": {
    "cell_type": "raw",
    "metadata": {
     "collapsed": false
    },
    "source": []
   }
  },
  "toc": {
   "base_numbering": 1,
   "nav_menu": {},
   "number_sections": true,
   "sideBar": true,
   "skip_h1_title": false,
   "title_cell": "Table of Contents",
   "title_sidebar": "Contents",
   "toc_cell": false,
   "toc_position": {},
   "toc_section_display": true,
   "toc_window_display": false
  }
 },
 "nbformat": 4,
 "nbformat_minor": 2
}

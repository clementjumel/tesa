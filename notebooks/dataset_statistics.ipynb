{
 "cells": [
  {
   "cell_type": "markdown",
   "metadata": {},
   "source": [
    "# Setup\n",
    "### Imports"
   ]
  },
  {
   "cell_type": "code",
   "execution_count": 1,
   "metadata": {
    "ExecuteTime": {
     "end_time": "2019-04-13T03:57:03.299844Z",
     "start_time": "2019-04-13T03:57:03.266445Z"
    },
    "pycharm": {
     "is_executing": false
    }
   },
   "outputs": [],
   "source": [
    "import sys\n",
    "sys.path.append('../')\n",
    "del sys\n",
    "\n",
    "%reload_ext autoreload\n",
    "%autoreload 2\n",
    "\n",
    "from toolbox.parsers import standard_parser, add_annotations_arguments\n",
    "from database_creation.annotation_task import AnnotationTask\n",
    "from preprocess_annotations import filter_annotations\n",
    "from os.path import join as path_join"
   ]
  },
  {
   "cell_type": "markdown",
   "metadata": {},
   "source": [
    "### Parameters"
   ]
  },
  {
   "cell_type": "code",
   "execution_count": 2,
   "metadata": {},
   "outputs": [],
   "source": [
    "ap = standard_parser()\n",
    "add_annotations_arguments(ap)\n",
    "args = ap.parse_args([\"--root\", \"..\"])"
   ]
  },
  {
   "cell_type": "markdown",
   "metadata": {},
   "source": [
    "### Load the annotations data (and first preprocessing step)"
   ]
  },
  {
   "cell_type": "code",
   "execution_count": 3,
   "metadata": {
    "scrolled": false
   },
   "outputs": [
    {
     "name": "stdout",
     "output_type": "stream",
     "text": [
      "Processing the modeling task...\n",
      "Computing the annotated queries...\n",
      "Initial length of queries: 0.\n",
      "Object loaded from ../results/annotation_task/annotations/v2_0/task/queries_short.pkl.\n",
      "Object loaded from ../results/annotation_task/annotations/v2_1/task/queries.pkl.\n",
      "Object loaded from ../results/annotation_task/annotations/v2_2/task/queries.pkl.\n",
      "Final length of queries: 61056.\n",
      "Done. Elapsed time: 1s.\n",
      "\n",
      "Computing the annotations...\n",
      "Initial length of annotations: 0.\n",
      "batch_00 loaded from annotations/v2_0/results/batch_00_complete.csv\n",
      "Correcting \"n this article, Nevada and Ohio are discussed. The two American states...\" to \" The two American states...\"\n",
      "Correcting \"In this article, California and Oregon are discussed. The two neighboring states...\" to \" The two neighboring states...\"\n",
      "Correcting \"In this article, California and Oregon are discussed. The two West Coast states...\" to \" The two West Coast states...\"\n",
      "batch_01 loaded from annotations/v2_0/results/batch_01_complete.csv\n",
      "Discarding \"The\"\n",
      "Discarding \"The four people involved in the Rafferty and Parker murder case\"\n",
      "Discarding \"The two people involved in the accusations against Mr. Brookins and Mr. Hernandez\"\n",
      "Discarding \"The Canadian and American politicians\"\n",
      "Correcting \"THE CHESS CHAMPIONS\" to \"The chess champions\"\n",
      "Correcting \"THE WHITE AND BLACK\" to \"The white and black\"\n",
      "Discarding \"The white and black\"\n",
      "Discarding \"The North and South America countries\"\n",
      "Discarding \"Both are politlca entities\"\n",
      "batch_02 loaded from annotations/v2_1/results/batch_02_complete.csv\n",
      "Discarding \"Both groups have a military wing\"\n",
      "Discarding \"The financial/media concern\"\n",
      "Discarding \"Both countries are in Western Asia\"\n",
      "Correcting \"FOOTBALL TEAM\" to \"Football team\"\n",
      "Discarding \"Na\"\n",
      "batch_03 loaded from annotations/v2_1/results/batch_03_complete.csv\n",
      "Discarding \"The convicted Hynix managers/directors\"\n",
      "Discarding \"The areas that include or are included by Eurasia\"\n",
      "Discarding \"Evo Morales and Hugo Salvatierra\"\n",
      "Discarding \"The politician and the organ builder\"\n",
      "batch_04 loaded from annotations/v2_2/results/batch_04_complete.csv\n",
      "Discarding \"The country and its capital city\"\n",
      "Discarding \"The major united states city and the state nearby\"\n",
      "Discarding \"The judge and the woman he sentenced to jail\"\n",
      "Discarding \"Are in European territory\"\n",
      "Discarding \"The states that have seen declining enrollment in Medicaid\"\n",
      "batch_05 loaded from annotations/v2_2/results/batch_05_complete.csv\n",
      "Discarding \"Former attorneys and politicians\"\n",
      "Discarding \"The director/choreographers\"\n",
      "Discarding \"The writer/directors\"\n",
      "Final length of annotations: 2100.\n",
      "Done. Elapsed time: 1s.\n",
      "\n",
      "Done. Elapsed time: 2s.\n",
      "\n"
     ]
    }
   ],
   "source": [
    "annotation_task = AnnotationTask(silent=args.silent,\n",
    "                                     results_path=path_join(args.root, args.annotations_path),\n",
    "                                     years=None,\n",
    "                                     max_tuple_size=None,\n",
    "                                     short=None,\n",
    "                                     short_size=None,\n",
    "                                     random=None,\n",
    "                                     debug=None,\n",
    "                                     random_seed=None,\n",
    "                                     save=None,\n",
    "                                     corpus_path=None)\n",
    "annotation_task.process_task(exclude_pilot=args.exclude_pilot)\n",
    "\n",
    "queries = annotation_task.queries\n",
    "annotations = annotation_task.annotations"
   ]
  },
  {
   "cell_type": "markdown",
   "metadata": {},
   "source": [
    "We discarded 23 aggregation annotations in the first step."
   ]
  },
  {
   "cell_type": "code",
   "execution_count": 11,
   "metadata": {},
   "outputs": [
    {
     "name": "stdout",
     "output_type": "stream",
     "text": [
      "1718\n"
     ]
    },
    {
     "ename": "TypeError",
     "evalue": "'Annotation' object is not iterable",
     "output_type": "error",
     "traceback": [
      "\u001b[0;31m---------------------------------------------------------------------------\u001b[0m",
      "\u001b[0;31mTypeError\u001b[0m                                 Traceback (most recent call last)",
      "\u001b[0;32m<ipython-input-11-31624098d0de>\u001b[0m in \u001b[0;36m<module>\u001b[0;34m\u001b[0m\n\u001b[1;32m      2\u001b[0m \u001b[0;32mfor\u001b[0m \u001b[0mid_\u001b[0m\u001b[0;34m,\u001b[0m \u001b[0mannotation_list\u001b[0m \u001b[0;32min\u001b[0m \u001b[0mannotations\u001b[0m\u001b[0;34m.\u001b[0m\u001b[0mitems\u001b[0m\u001b[0;34m(\u001b[0m\u001b[0;34m)\u001b[0m\u001b[0;34m:\u001b[0m\u001b[0;34m\u001b[0m\u001b[0;34m\u001b[0m\u001b[0m\n\u001b[1;32m      3\u001b[0m     \u001b[0;32mfor\u001b[0m \u001b[0mannotation\u001b[0m \u001b[0;32min\u001b[0m \u001b[0mannotation_list\u001b[0m\u001b[0;34m:\u001b[0m\u001b[0;34m\u001b[0m\u001b[0;34m\u001b[0m\u001b[0m\n\u001b[0;32m----> 4\u001b[0;31m         \u001b[0mprint\u001b[0m\u001b[0;34m(\u001b[0m\u001b[0mdict\u001b[0m\u001b[0;34m(\u001b[0m\u001b[0mannotation\u001b[0m\u001b[0;34m)\u001b[0m\u001b[0;34m)\u001b[0m\u001b[0;34m\u001b[0m\u001b[0;34m\u001b[0m\u001b[0m\n\u001b[0m\u001b[1;32m      5\u001b[0m     \u001b[0;32mbreak\u001b[0m\u001b[0;34m\u001b[0m\u001b[0;34m\u001b[0m\u001b[0m\n",
      "\u001b[0;31mTypeError\u001b[0m: 'Annotation' object is not iterable"
     ]
    }
   ],
   "source": [
    "print(len(annotations))\n",
    "for id_, annotation_list in annotations.items():\n",
    "    for annotation in annotation_list:\n",
    "        print(annotation)\n",
    "    break"
   ]
  },
  {
   "cell_type": "code",
   "execution_count": 14,
   "metadata": {},
   "outputs": [
    {
     "name": "stdout",
     "output_type": "stream",
     "text": [
      "2\n",
      "2.4\n",
      "6\n"
     ]
    }
   ],
   "source": [
    "from numpy import mean\n",
    "l = []\n",
    "for id_, annotation_list in annotations.items():\n",
    "    query = queries[id_]    \n",
    "    l.append(len(query.entities))\n",
    "print(min(l))\n",
    "print(mean(l))\n",
    "print(max(l))"
   ]
  },
  {
   "cell_type": "markdown",
   "metadata": {},
   "source": [
    "### Number of annotators"
   ]
  },
  {
   "cell_type": "code",
   "execution_count": 4,
   "metadata": {},
   "outputs": [
    {
     "name": "stdout",
     "output_type": "stream",
     "text": [
      "63\n"
     ]
    }
   ],
   "source": [
    "ids=set()\n",
    "for id_, annotation_list in annotations.items():\n",
    "    for annotation in annotation_list:\n",
    "        ids.add(annotation.worker_id)\n",
    "\n",
    "print(len(ids))"
   ]
  },
  {
   "cell_type": "markdown",
   "metadata": {},
   "source": [
    "### 2nd and 3rd preprocessing steps"
   ]
  },
  {
   "cell_type": "code",
   "execution_count": 5,
   "metadata": {},
   "outputs": [
    {
     "name": "stdout",
     "output_type": "stream",
     "text": [
      "Filtering the annotations; annotations answered: 4993, n/a: 1306...\n",
      "Number of workers discarded: 21\n",
      "First filter done (number of assignments); annotations answered: 4963, n/a: 1299...\n",
      "Second filter done (number of answers); annotations answered: 4675, n/a 453.\n",
      "\n"
     ]
    }
   ],
   "source": [
    "annotations = filter_annotations(annotations, args=args)"
   ]
  },
  {
   "cell_type": "markdown",
   "metadata": {},
   "source": [
    "### Number of annotators"
   ]
  },
  {
   "cell_type": "code",
   "execution_count": 6,
   "metadata": {},
   "outputs": [
    {
     "name": "stdout",
     "output_type": "stream",
     "text": [
      "42\n"
     ]
    }
   ],
   "source": [
    "ids=set()\n",
    "for id_, annotation_list in annotations.items():\n",
    "    for annotation in annotation_list:\n",
    "        ids.add(annotation.worker_id)\n",
    "\n",
    "print(len(ids))"
   ]
  },
  {
   "cell_type": "markdown",
   "metadata": {},
   "source": [
    "### Remaining data"
   ]
  },
  {
   "cell_type": "code",
   "execution_count": 5,
   "metadata": {},
   "outputs": [],
   "source": [
    "from collections import defaultdict\n",
    "\n",
    "to_del = []\n",
    "for id_, annotations_list in annotations.items():\n",
    "    annotations[id_] = [annotation for annotation in annotations_list if annotation.preprocessed_answers]\n",
    "    \n",
    "    if not annotations[id_]:\n",
    "        to_del.append(id_)\n",
    "        \n",
    "for id_ in to_del:\n",
    "    del annotations[id_]\n",
    "    \n",
    "length1 = sum([len([annotation for annotation in annotation_list if annotation.preprocessed_answers])\n",
    "               for _, annotation_list in annotations.items()])\n",
    "length2 = sum([len([annotation for annotation in annotation_list if not annotation.preprocessed_answers])\n",
    "               for _, annotation_list in annotations.items()])\n",
    "\n",
    "detailed_aggreg = defaultdict(list)\n",
    "detailed_entities = defaultdict(list)\n",
    "for id_, annotation_list in annotations.items():\n",
    "    type_ = queries[id_].entities_type_\n",
    "    entities = ', '.join(sorted(queries[id_].entities))\n",
    "    detailed_entities['all'].append(entities)\n",
    "    detailed_entities[type_].append(entities)\n",
    "    \n",
    "    for annotation in annotation_list:\n",
    "        for aggregation in annotation.preprocessed_answers:\n",
    "            detailed_aggreg['all'].append(aggregation)\n",
    "            detailed_aggreg[type_].append(aggregation)"
   ]
  },
  {
   "cell_type": "markdown",
   "metadata": {},
   "source": [
    "### Table data"
   ]
  },
  {
   "cell_type": "code",
   "execution_count": 6,
   "metadata": {},
   "outputs": [
    {
     "name": "stdout",
     "output_type": "stream",
     "text": [
      "Initial number of aggreg. instances: 2100\n",
      "Initial number of annotations: 6299\n",
      "\n",
      "Initial number of n/a annotations: 1283\n",
      "First filter discarded aggregation annotations: 23\n",
      "Second filter discarded aggregation annotaions: 30\n",
      "Third filter discarded aggregation annotaions: 288\n",
      "Final number of aggreg instances: 1718\n",
      "Final number of (aggregation) annotations: 4675\n",
      "\n",
      "Entities sets (tot./unique) all: 1718/1336\n",
      "Entities sets (tot./unique) location: 629/412\n",
      "Entities sets (tot./unique) person: 941/801\n",
      "Entities sets (tot./unique) org: 148/123\n",
      "\n",
      "Aggregations (tot./unique) all: 5397/1681\n",
      "Aggregations (tot./unique) location: 2041/505\n",
      "Aggregations (tot./unique) person: 2900/951\n",
      "Aggregations (tot./unique) org: 456/239\n"
     ]
    }
   ],
   "source": [
    "initial_aggreg_instances = 2100\n",
    "initial_annotations = 4993+1306\n",
    "initial_na = 1306-23\n",
    "first_filter_discarded_answered_annotations = 23\n",
    "second_filter_discarded_answered_annotations = 4993-4963\n",
    "third_filter_discarded_answered_annotations = 4963-4675\n",
    "final_aggregation_annotations = 4675\n",
    "\n",
    "assert initial_annotations  - initial_na \\\n",
    "                            - first_filter_discarded_answered_annotations \\\n",
    "                            - second_filter_discarded_answered_annotations \\\n",
    "                            - third_filter_discarded_answered_annotations \\\n",
    "            == final_aggregation_annotations\n",
    "\n",
    "print(\"Initial number of aggreg. instances: %i\" % initial_aggreg_instances)\n",
    "print(\"Initial number of annotations: %i\" % initial_annotations)\n",
    "print()\n",
    "print(\"Initial number of n/a annotations: %i\" % initial_na)\n",
    "print(\"First filter discarded aggregation annotations: %i\" % first_filter_discarded_answered_annotations)\n",
    "print(\"Second filter discarded aggregation annotaions: %i\" % second_filter_discarded_answered_annotations)\n",
    "print(\"Third filter discarded aggregation annotaions: %i\" % third_filter_discarded_answered_annotations)\n",
    "print(\"Final number of aggreg instances: %i\" % len(annotations))\n",
    "print(\"Final number of (aggregation) annotations: %i\" % final_aggregation_annotations)\n",
    "print()\n",
    "for type_, l in detailed_entities.items():\n",
    "    print(\"Entities sets (tot./unique) %s: %i/%i\" % (type_, len(l), len(set(l))))\n",
    "print()\n",
    "for type_, l in detailed_aggreg.items():\n",
    "    print(\"Aggregations (tot./unique) %s: %i/%i\" % (type_, len(l), len(set(l))))"
   ]
  },
  {
   "cell_type": "code",
   "execution_count": null,
   "metadata": {},
   "outputs": [],
   "source": []
  }
 ],
 "metadata": {
  "jupytext": {
   "formats": "ipynb,auto:percent"
  },
  "kernelspec": {
   "display_name": "Python 3 (ipykernel)",
   "language": "python",
   "name": "python3"
  },
  "language_info": {
   "codemirror_mode": {
    "name": "ipython",
    "version": 3
   },
   "file_extension": ".py",
   "mimetype": "text/x-python",
   "name": "python",
   "nbconvert_exporter": "python",
   "pygments_lexer": "ipython3",
   "version": "3.7.16"
  },
  "pycharm": {
   "stem_cell": {
    "cell_type": "raw",
    "metadata": {
     "collapsed": false
    },
    "source": []
   }
  },
  "toc": {
   "base_numbering": 1,
   "nav_menu": {},
   "number_sections": true,
   "sideBar": true,
   "skip_h1_title": false,
   "title_cell": "Table of Contents",
   "title_sidebar": "Contents",
   "toc_cell": false,
   "toc_position": {},
   "toc_section_display": true,
   "toc_window_display": false
  }
 },
 "nbformat": 4,
 "nbformat_minor": 2
}

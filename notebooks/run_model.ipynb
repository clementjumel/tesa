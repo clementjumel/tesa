{
 "cells": [
  {
   "cell_type": "markdown",
   "metadata": {},
   "source": [
    "# Setup\n",
    "### Imports"
   ]
  },
  {
   "cell_type": "code",
   "execution_count": 1,
   "metadata": {
    "ExecuteTime": {
     "end_time": "2019-04-13T03:57:03.299844Z",
     "start_time": "2019-04-13T03:57:03.266445Z"
    },
    "pycharm": {
     "is_executing": false
    }
   },
   "outputs": [],
   "source": [
    "import sys\n",
    "sys.path.append('../')\n",
    "del sys\n",
    "\n",
    "%reload_ext autoreload\n",
    "%autoreload 2\n",
    "\n",
    "from toolbox.parsers import standard_parser, add_task_arguments, add_model_arguments\n",
    "from toolbox.utils import load_task, get_pretrained_model, to_class_name\n",
    "import modeling.models as models"
   ]
  },
  {
   "cell_type": "markdown",
   "metadata": {},
   "source": [
    "### Notebook functions"
   ]
  },
  {
   "cell_type": "code",
   "execution_count": 2,
   "metadata": {},
   "outputs": [],
   "source": [
    "from numpy import argmax, mean\n",
    "\n",
    "def run_models(model_names, word2vec, bart, args, train=False):\n",
    "    args.word2vec = word2vec\n",
    "    args.bart = bart\n",
    "    \n",
    "    pretrained_model = get_pretrained_model(args)\n",
    "    \n",
    "    for model_name in model_names:\n",
    "        args.model = model_name\n",
    "        print(model_name)\n",
    "\n",
    "        model = getattr(models, to_class_name(args.model))(args=args, pretrained_model=pretrained_model)\n",
    "        model.play(task=task, args=args)\n",
    "        \n",
    "        if train:\n",
    "            valid_scores = model.valid_scores['average_precision']\n",
    "            test_scores = model.test_scores['average_precision']\n",
    "\n",
    "            valid_scores = [mean(epoch_scores) for epoch_scores in valid_scores]\n",
    "            test_scores = [mean(epoch_scores) for epoch_scores in test_scores]\n",
    "\n",
    "            i_max = argmax(valid_scores)\n",
    "            print(\"max for epoch %i\" % (i_max+1))\n",
    "            print(\"valid score: %.5f\" % valid_scores[i_max])\n",
    "            print(\"test score: %.5f\" % test_scores[i_max])"
   ]
  },
  {
   "cell_type": "markdown",
   "metadata": {},
   "source": [
    "### Parameters"
   ]
  },
  {
   "cell_type": "code",
   "execution_count": 3,
   "metadata": {},
   "outputs": [],
   "source": [
    "ap = standard_parser()\n",
    "add_task_arguments(ap)\n",
    "add_model_arguments(ap)\n",
    "args = ap.parse_args([\"-m\", \"\",\n",
    "                      \"--root\", \"..\"])"
   ]
  },
  {
   "cell_type": "markdown",
   "metadata": {},
   "source": [
    "### Load the data"
   ]
  },
  {
   "cell_type": "code",
   "execution_count": 4,
   "metadata": {
    "scrolled": true
   },
   "outputs": [
    {
     "name": "stdout",
     "output_type": "stream",
     "text": [
      "Task loaded from ../results/modeling_task/context-dependent-same-type_50-25-25_rs24_bs4_cf-v0_tf-v0.pkl.\n",
      "\n"
     ]
    }
   ],
   "source": [
    "task = load_task(args)"
   ]
  },
  {
   "cell_type": "markdown",
   "metadata": {},
   "source": [
    "# Basic baselines"
   ]
  },
  {
   "cell_type": "code",
   "execution_count": 5,
   "metadata": {
    "scrolled": true
   },
   "outputs": [
    {
     "name": "stdout",
     "output_type": "stream",
     "text": [
      "random\n",
      "Evaluation on the valid loader...\n"
     ]
    },
    {
     "data": {
      "application/vnd.jupyter.widget-view+json": {
       "model_id": "8e8794c9f81d45ebac3822ddf0f3e157",
       "version_major": 2,
       "version_minor": 0
      },
      "text/plain": [
       "HBox(children=(FloatProgress(value=0.0, max=430.0), HTML(value='')))"
      ]
     },
     "metadata": {},
     "output_type": "display_data"
    },
    {
     "name": "stdout",
     "output_type": "stream",
     "text": [
      "\n",
      "average_precision: 0.22636 (+/-0.15610)\n",
      "precision_at_10: 0.11442 (+/-0.08478)\n",
      "recall_at_10: 0.41453 (+/-0.30461)\n",
      "ndcg_at_10: 0.26044 (+/-0.21611)\n",
      "reciprocal_best_rank: 0.30394 (+/-0.29875)\n",
      "reciprocal_average_rank: 0.09936 (+/-0.08649)\n",
      "\n",
      "Evaluation on the test loader...\n"
     ]
    },
    {
     "data": {
      "application/vnd.jupyter.widget-view+json": {
       "model_id": "1405cf98ac344d0fbdef897e891141df",
       "version_major": 2,
       "version_minor": 0
      },
      "text/plain": [
       "HBox(children=(FloatProgress(value=0.0, max=430.0), HTML(value='')))"
      ]
     },
     "metadata": {},
     "output_type": "display_data"
    },
    {
     "name": "stdout",
     "output_type": "stream",
     "text": [
      "\n",
      "average_precision: 0.22228 (+/-0.15120)\n",
      "precision_at_10: 0.11837 (+/-0.08687)\n",
      "recall_at_10: 0.44217 (+/-0.31678)\n",
      "ndcg_at_10: 0.26464 (+/-0.21455)\n",
      "reciprocal_best_rank: 0.28885 (+/-0.28183)\n",
      "reciprocal_average_rank: 0.09981 (+/-0.06371)\n",
      "\n",
      "frequency\n",
      "Learning answers counts...\n"
     ]
    },
    {
     "data": {
      "application/vnd.jupyter.widget-view+json": {
       "model_id": "d94dd088339848efa59374705a82b484",
       "version_major": 2,
       "version_minor": 0
      },
      "text/plain": [
       "HBox(children=(FloatProgress(value=0.0, max=858.0), HTML(value='')))"
      ]
     },
     "metadata": {},
     "output_type": "display_data"
    },
    {
     "name": "stdout",
     "output_type": "stream",
     "text": [
      "\n",
      "Evaluation on the valid loader...\n"
     ]
    },
    {
     "data": {
      "application/vnd.jupyter.widget-view+json": {
       "model_id": "99786c3f651b4acb999c06f7bcf090b3",
       "version_major": 2,
       "version_minor": 0
      },
      "text/plain": [
       "HBox(children=(FloatProgress(value=0.0, max=430.0), HTML(value='')))"
      ]
     },
     "metadata": {},
     "output_type": "display_data"
    },
    {
     "name": "stdout",
     "output_type": "stream",
     "text": [
      "\n",
      "average_precision: 0.55722 (+/-0.28929)\n",
      "precision_at_10: 0.17116 (+/-0.09575)\n",
      "recall_at_10: 0.63686 (+/-0.31829)\n",
      "ndcg_at_10: 0.60936 (+/-0.30469)\n",
      "reciprocal_best_rank: 0.77332 (+/-0.35105)\n",
      "reciprocal_average_rank: 0.21910 (+/-0.20481)\n",
      "\n",
      "Evaluation on the test loader...\n"
     ]
    },
    {
     "data": {
      "application/vnd.jupyter.widget-view+json": {
       "model_id": "cc9529e8d1444e7eb90623d57059ffc6",
       "version_major": 2,
       "version_minor": 0
      },
      "text/plain": [
       "HBox(children=(FloatProgress(value=0.0, max=430.0), HTML(value='')))"
      ]
     },
     "metadata": {},
     "output_type": "display_data"
    },
    {
     "name": "stdout",
     "output_type": "stream",
     "text": [
      "\n",
      "average_precision: 0.56964 (+/-0.30197)\n",
      "precision_at_10: 0.17372 (+/-0.09780)\n",
      "recall_at_10: 0.65539 (+/-0.32277)\n",
      "ndcg_at_10: 0.61954 (+/-0.31415)\n",
      "reciprocal_best_rank: 0.76132 (+/-0.35846)\n",
      "reciprocal_average_rank: 0.24323 (+/-0.22607)\n",
      "\n"
     ]
    }
   ],
   "source": [
    "run_models(model_names=[\"random\",\n",
    "                        \"frequency\"],\n",
    "           word2vec=False,\n",
    "           bart=False,\n",
    "           args=args)"
   ]
  },
  {
   "cell_type": "markdown",
   "metadata": {},
   "source": [
    "# Basic baselines"
   ]
  },
  {
   "cell_type": "code",
   "execution_count": 6,
   "metadata": {
    "scrolled": true
   },
   "outputs": [
    {
     "name": "stdout",
     "output_type": "stream",
     "text": [
      "summaries-count\n",
      "Evaluation on the valid loader...\n"
     ]
    },
    {
     "data": {
      "application/vnd.jupyter.widget-view+json": {
       "model_id": "48c4cce2b2ca4345be6f682d76c2e4c0",
       "version_major": 2,
       "version_minor": 0
      },
      "text/plain": [
       "HBox(children=(FloatProgress(value=0.0, max=430.0), HTML(value='')))"
      ]
     },
     "metadata": {},
     "output_type": "display_data"
    },
    {
     "name": "stdout",
     "output_type": "stream",
     "text": [
      "\n",
      "average_precision: 0.34912 (+/-0.24558)\n",
      "precision_at_10: 0.15023 (+/-0.09493)\n",
      "recall_at_10: 0.54527 (+/-0.31847)\n",
      "ndcg_at_10: 0.40917 (+/-0.28220)\n",
      "reciprocal_best_rank: 0.48637 (+/-0.38461)\n",
      "reciprocal_average_rank: 0.13998 (+/-0.13550)\n",
      "\n",
      "Evaluation on the test loader...\n"
     ]
    },
    {
     "data": {
      "application/vnd.jupyter.widget-view+json": {
       "model_id": "026cf1680abb4bd19ae054f60d747078",
       "version_major": 2,
       "version_minor": 0
      },
      "text/plain": [
       "HBox(children=(FloatProgress(value=0.0, max=430.0), HTML(value='')))"
      ]
     },
     "metadata": {},
     "output_type": "display_data"
    },
    {
     "name": "stdout",
     "output_type": "stream",
     "text": [
      "\n",
      "average_precision: 0.33686 (+/-0.23619)\n",
      "precision_at_10: 0.14791 (+/-0.09733)\n",
      "recall_at_10: 0.54837 (+/-0.32292)\n",
      "ndcg_at_10: 0.39944 (+/-0.27785)\n",
      "reciprocal_best_rank: 0.46726 (+/-0.37759)\n",
      "reciprocal_average_rank: 0.13358 (+/-0.11296)\n",
      "\n",
      "summaries-unique-count\n",
      "Evaluation on the valid loader...\n"
     ]
    },
    {
     "data": {
      "application/vnd.jupyter.widget-view+json": {
       "model_id": "5e541852b4864302b59199a04d5c2c01",
       "version_major": 2,
       "version_minor": 0
      },
      "text/plain": [
       "HBox(children=(FloatProgress(value=0.0, max=430.0), HTML(value='')))"
      ]
     },
     "metadata": {},
     "output_type": "display_data"
    },
    {
     "name": "stdout",
     "output_type": "stream",
     "text": [
      "\n",
      "average_precision: 0.32527 (+/-0.22800)\n",
      "precision_at_10: 0.14953 (+/-0.09468)\n",
      "recall_at_10: 0.54333 (+/-0.31712)\n",
      "ndcg_at_10: 0.38839 (+/-0.26976)\n",
      "reciprocal_best_rank: 0.44537 (+/-0.36249)\n",
      "reciprocal_average_rank: 0.13379 (+/-0.12807)\n",
      "\n",
      "Evaluation on the test loader...\n"
     ]
    },
    {
     "data": {
      "application/vnd.jupyter.widget-view+json": {
       "model_id": "dc966aac643f4b88854df6c2c7c1f656",
       "version_major": 2,
       "version_minor": 0
      },
      "text/plain": [
       "HBox(children=(FloatProgress(value=0.0, max=430.0), HTML(value='')))"
      ]
     },
     "metadata": {},
     "output_type": "display_data"
    },
    {
     "name": "stdout",
     "output_type": "stream",
     "text": [
      "\n",
      "average_precision: 0.32204 (+/-0.22354)\n",
      "precision_at_10: 0.14628 (+/-0.09656)\n",
      "recall_at_10: 0.54209 (+/-0.32136)\n",
      "ndcg_at_10: 0.38540 (+/-0.26897)\n",
      "reciprocal_best_rank: 0.44591 (+/-0.36189)\n",
      "reciprocal_average_rank: 0.12919 (+/-0.10784)\n",
      "\n",
      "summaries-overlap\n",
      "Evaluation on the valid loader...\n"
     ]
    },
    {
     "data": {
      "application/vnd.jupyter.widget-view+json": {
       "model_id": "fdbd62e1e33b40a0b46600c15fcde50f",
       "version_major": 2,
       "version_minor": 0
      },
      "text/plain": [
       "HBox(children=(FloatProgress(value=0.0, max=430.0), HTML(value='')))"
      ]
     },
     "metadata": {},
     "output_type": "display_data"
    },
    {
     "name": "stdout",
     "output_type": "stream",
     "text": [
      "\n",
      "average_precision: 0.32054 (+/-0.22950)\n",
      "precision_at_10: 0.14209 (+/-0.09485)\n",
      "recall_at_10: 0.51667 (+/-0.32319)\n",
      "ndcg_at_10: 0.37609 (+/-0.27523)\n",
      "reciprocal_best_rank: 0.44829 (+/-0.37278)\n",
      "reciprocal_average_rank: 0.12865 (+/-0.11853)\n",
      "\n",
      "Evaluation on the test loader...\n"
     ]
    },
    {
     "data": {
      "application/vnd.jupyter.widget-view+json": {
       "model_id": "eef64a1637f245bd834776d570dfc7d0",
       "version_major": 2,
       "version_minor": 0
      },
      "text/plain": [
       "HBox(children=(FloatProgress(value=0.0, max=430.0), HTML(value='')))"
      ]
     },
     "metadata": {},
     "output_type": "display_data"
    },
    {
     "name": "stdout",
     "output_type": "stream",
     "text": [
      "\n",
      "average_precision: 0.31849 (+/-0.22400)\n",
      "precision_at_10: 0.14070 (+/-0.09323)\n",
      "recall_at_10: 0.52543 (+/-0.31475)\n",
      "ndcg_at_10: 0.37921 (+/-0.26898)\n",
      "reciprocal_best_rank: 0.45814 (+/-0.37775)\n",
      "reciprocal_average_rank: 0.12474 (+/-0.10155)\n",
      "\n",
      "activated-summaries\n",
      "Evaluation on the valid loader...\n"
     ]
    },
    {
     "data": {
      "application/vnd.jupyter.widget-view+json": {
       "model_id": "1eae23e4d0f24ab4a820ac38185ba631",
       "version_major": 2,
       "version_minor": 0
      },
      "text/plain": [
       "HBox(children=(FloatProgress(value=0.0, max=430.0), HTML(value='')))"
      ]
     },
     "metadata": {},
     "output_type": "display_data"
    },
    {
     "name": "stdout",
     "output_type": "stream",
     "text": [
      "\n",
      "average_precision: 0.33479 (+/-0.23497)\n",
      "precision_at_10: 0.15000 (+/-0.09517)\n",
      "recall_at_10: 0.54411 (+/-0.31818)\n",
      "ndcg_at_10: 0.39639 (+/-0.27695)\n",
      "reciprocal_best_rank: 0.45860 (+/-0.36803)\n",
      "reciprocal_average_rank: 0.13718 (+/-0.13014)\n",
      "\n",
      "Evaluation on the test loader...\n"
     ]
    },
    {
     "data": {
      "application/vnd.jupyter.widget-view+json": {
       "model_id": "7a16d90fb8ea499b9cf479e7dda9cb4a",
       "version_major": 2,
       "version_minor": 0
      },
      "text/plain": [
       "HBox(children=(FloatProgress(value=0.0, max=430.0), HTML(value='')))"
      ]
     },
     "metadata": {},
     "output_type": "display_data"
    },
    {
     "name": "stdout",
     "output_type": "stream",
     "text": [
      "\n",
      "average_precision: 0.32865 (+/-0.22648)\n",
      "precision_at_10: 0.14767 (+/-0.09732)\n",
      "recall_at_10: 0.54702 (+/-0.32300)\n",
      "ndcg_at_10: 0.39205 (+/-0.27150)\n",
      "reciprocal_best_rank: 0.45015 (+/-0.36536)\n",
      "reciprocal_average_rank: 0.13422 (+/-0.12032)\n",
      "\n",
      "context-count\n",
      "Evaluation on the valid loader...\n"
     ]
    },
    {
     "data": {
      "application/vnd.jupyter.widget-view+json": {
       "model_id": "a1930e3e99844ec3aa311ebf8b1ea11b",
       "version_major": 2,
       "version_minor": 0
      },
      "text/plain": [
       "HBox(children=(FloatProgress(value=0.0, max=430.0), HTML(value='')))"
      ]
     },
     "metadata": {},
     "output_type": "display_data"
    },
    {
     "name": "stdout",
     "output_type": "stream",
     "text": [
      "\n",
      "average_precision: 0.28396 (+/-0.21318)\n",
      "precision_at_10: 0.13070 (+/-0.08911)\n",
      "recall_at_10: 0.47581 (+/-0.30818)\n",
      "ndcg_at_10: 0.33053 (+/-0.25754)\n",
      "reciprocal_best_rank: 0.38837 (+/-0.34978)\n",
      "reciprocal_average_rank: 0.11617 (+/-0.10418)\n",
      "\n",
      "Evaluation on the test loader...\n"
     ]
    },
    {
     "data": {
      "application/vnd.jupyter.widget-view+json": {
       "model_id": "7a6c75bc151449a5863020394bffd7d5",
       "version_major": 2,
       "version_minor": 0
      },
      "text/plain": [
       "HBox(children=(FloatProgress(value=0.0, max=430.0), HTML(value='')))"
      ]
     },
     "metadata": {},
     "output_type": "display_data"
    },
    {
     "name": "stdout",
     "output_type": "stream",
     "text": [
      "\n",
      "average_precision: 0.29733 (+/-0.22815)\n",
      "precision_at_10: 0.12651 (+/-0.08677)\n",
      "recall_at_10: 0.48202 (+/-0.32071)\n",
      "ndcg_at_10: 0.34209 (+/-0.27249)\n",
      "reciprocal_best_rank: 0.40713 (+/-0.36542)\n",
      "reciprocal_average_rank: 0.12488 (+/-0.12305)\n",
      "\n",
      "context-unique-count\n",
      "Evaluation on the valid loader...\n"
     ]
    },
    {
     "data": {
      "application/vnd.jupyter.widget-view+json": {
       "model_id": "a99abc289dd044d4b7e27ed058b139c4",
       "version_major": 2,
       "version_minor": 0
      },
      "text/plain": [
       "HBox(children=(FloatProgress(value=0.0, max=430.0), HTML(value='')))"
      ]
     },
     "metadata": {},
     "output_type": "display_data"
    },
    {
     "name": "stdout",
     "output_type": "stream",
     "text": [
      "\n",
      "average_precision: 0.28141 (+/-0.21178)\n",
      "precision_at_10: 0.13093 (+/-0.08942)\n",
      "recall_at_10: 0.47628 (+/-0.30822)\n",
      "ndcg_at_10: 0.32827 (+/-0.25692)\n",
      "reciprocal_best_rank: 0.38293 (+/-0.34726)\n",
      "reciprocal_average_rank: 0.11587 (+/-0.10280)\n",
      "\n",
      "Evaluation on the test loader...\n"
     ]
    },
    {
     "data": {
      "application/vnd.jupyter.widget-view+json": {
       "model_id": "583c1bb16984476ba7db545eb0742c86",
       "version_major": 2,
       "version_minor": 0
      },
      "text/plain": [
       "HBox(children=(FloatProgress(value=0.0, max=430.0), HTML(value='')))"
      ]
     },
     "metadata": {},
     "output_type": "display_data"
    },
    {
     "name": "stdout",
     "output_type": "stream",
     "text": [
      "\n",
      "average_precision: 0.29687 (+/-0.22553)\n",
      "precision_at_10: 0.12651 (+/-0.08677)\n",
      "recall_at_10: 0.48202 (+/-0.32071)\n",
      "ndcg_at_10: 0.34179 (+/-0.27107)\n",
      "reciprocal_best_rank: 0.40589 (+/-0.36193)\n",
      "reciprocal_average_rank: 0.12495 (+/-0.12250)\n",
      "\n",
      "summaries-context-count\n",
      "Evaluation on the valid loader...\n"
     ]
    },
    {
     "data": {
      "application/vnd.jupyter.widget-view+json": {
       "model_id": "8fdb561441994292a7ba44e1d0f192d8",
       "version_major": 2,
       "version_minor": 0
      },
      "text/plain": [
       "HBox(children=(FloatProgress(value=0.0, max=430.0), HTML(value='')))"
      ]
     },
     "metadata": {},
     "output_type": "display_data"
    },
    {
     "name": "stdout",
     "output_type": "stream",
     "text": [
      "\n",
      "average_precision: 0.36292 (+/-0.25151)\n",
      "precision_at_10: 0.15651 (+/-0.09617)\n",
      "recall_at_10: 0.56787 (+/-0.31630)\n",
      "ndcg_at_10: 0.42746 (+/-0.28373)\n",
      "reciprocal_best_rank: 0.50160 (+/-0.38437)\n",
      "reciprocal_average_rank: 0.14590 (+/-0.13808)\n",
      "\n",
      "Evaluation on the test loader...\n"
     ]
    },
    {
     "data": {
      "application/vnd.jupyter.widget-view+json": {
       "model_id": "b398c337f23b4e5c8c4a58d189e805c8",
       "version_major": 2,
       "version_minor": 0
      },
      "text/plain": [
       "HBox(children=(FloatProgress(value=0.0, max=430.0), HTML(value='')))"
      ]
     },
     "metadata": {},
     "output_type": "display_data"
    },
    {
     "name": "stdout",
     "output_type": "stream",
     "text": [
      "\n",
      "average_precision: 0.36568 (+/-0.24624)\n",
      "precision_at_10: 0.15395 (+/-0.09336)\n",
      "recall_at_10: 0.57306 (+/-0.31014)\n",
      "ndcg_at_10: 0.43183 (+/-0.27906)\n",
      "reciprocal_best_rank: 0.50596 (+/-0.37523)\n",
      "reciprocal_average_rank: 0.14589 (+/-0.12792)\n",
      "\n",
      "summaries-context-unique-count\n",
      "Evaluation on the valid loader...\n"
     ]
    },
    {
     "data": {
      "application/vnd.jupyter.widget-view+json": {
       "model_id": "c36b35ca6b424bcd815fe2e5e7e3b278",
       "version_major": 2,
       "version_minor": 0
      },
      "text/plain": [
       "HBox(children=(FloatProgress(value=0.0, max=430.0), HTML(value='')))"
      ]
     },
     "metadata": {},
     "output_type": "display_data"
    },
    {
     "name": "stdout",
     "output_type": "stream",
     "text": [
      "\n",
      "average_precision: 0.33708 (+/-0.23472)\n",
      "precision_at_10: 0.15674 (+/-0.09615)\n",
      "recall_at_10: 0.56884 (+/-0.31469)\n",
      "ndcg_at_10: 0.40562 (+/-0.27161)\n",
      "reciprocal_best_rank: 0.45553 (+/-0.36704)\n",
      "reciprocal_average_rank: 0.13894 (+/-0.12669)\n",
      "\n",
      "Evaluation on the test loader...\n"
     ]
    },
    {
     "data": {
      "application/vnd.jupyter.widget-view+json": {
       "model_id": "c1f53a3776d240a0a51c96bbb03cc942",
       "version_major": 2,
       "version_minor": 0
      },
      "text/plain": [
       "HBox(children=(FloatProgress(value=0.0, max=430.0), HTML(value='')))"
      ]
     },
     "metadata": {},
     "output_type": "display_data"
    },
    {
     "name": "stdout",
     "output_type": "stream",
     "text": [
      "\n",
      "average_precision: 0.34552 (+/-0.22807)\n",
      "precision_at_10: 0.15233 (+/-0.09090)\n",
      "recall_at_10: 0.56814 (+/-0.30622)\n",
      "ndcg_at_10: 0.41479 (+/-0.26523)\n",
      "reciprocal_best_rank: 0.48403 (+/-0.36530)\n",
      "reciprocal_average_rank: 0.13732 (+/-0.11068)\n",
      "\n",
      "summaries-context-overlap\n",
      "Evaluation on the valid loader...\n"
     ]
    },
    {
     "data": {
      "application/vnd.jupyter.widget-view+json": {
       "model_id": "3c0864e2341d45baa2cd759897565831",
       "version_major": 2,
       "version_minor": 0
      },
      "text/plain": [
       "HBox(children=(FloatProgress(value=0.0, max=430.0), HTML(value='')))"
      ]
     },
     "metadata": {},
     "output_type": "display_data"
    },
    {
     "name": "stdout",
     "output_type": "stream",
     "text": [
      "\n",
      "average_precision: 0.34308 (+/-0.23653)\n",
      "precision_at_10: 0.15256 (+/-0.09538)\n",
      "recall_at_10: 0.55651 (+/-0.32022)\n",
      "ndcg_at_10: 0.40748 (+/-0.27551)\n",
      "reciprocal_best_rank: 0.47332 (+/-0.37442)\n",
      "reciprocal_average_rank: 0.13820 (+/-0.12345)\n",
      "\n",
      "Evaluation on the test loader...\n"
     ]
    },
    {
     "data": {
      "application/vnd.jupyter.widget-view+json": {
       "model_id": "a69d18887a734d40b8d49aa63c88ccf8",
       "version_major": 2,
       "version_minor": 0
      },
      "text/plain": [
       "HBox(children=(FloatProgress(value=0.0, max=430.0), HTML(value='')))"
      ]
     },
     "metadata": {},
     "output_type": "display_data"
    },
    {
     "name": "stdout",
     "output_type": "stream",
     "text": [
      "\n",
      "average_precision: 0.35738 (+/-0.24029)\n",
      "precision_at_10: 0.15116 (+/-0.09092)\n",
      "recall_at_10: 0.56705 (+/-0.30651)\n",
      "ndcg_at_10: 0.42554 (+/-0.27597)\n",
      "reciprocal_best_rank: 0.50936 (+/-0.38161)\n",
      "reciprocal_average_rank: 0.14155 (+/-0.12728)\n",
      "\n"
     ]
    }
   ],
   "source": [
    "run_models(model_names=[\"summaries-count\",\n",
    "                        \"summaries-unique-count\",\n",
    "                        \"summaries-overlap\",\n",
    "                        \"activated-summaries\",\n",
    "                        \"context-count\",\n",
    "                        \"context-unique-count\",\n",
    "                        \"summaries-context-count\",\n",
    "                        \"summaries-context-unique-count\",\n",
    "                        \"summaries-context-overlap\"],\n",
    "           word2vec=False,\n",
    "           bart=False,\n",
    "           args=args)"
   ]
  },
  {
   "cell_type": "markdown",
   "metadata": {},
   "source": [
    "# Embedding baselines"
   ]
  },
  {
   "cell_type": "code",
   "execution_count": 7,
   "metadata": {
    "scrolled": true
   },
   "outputs": [
    {
     "name": "stdout",
     "output_type": "stream",
     "text": [
      "Word2Vec embedding loaded.\n",
      "\n",
      "summaries-average-embedding\n",
      "Evaluation on the valid loader...\n"
     ]
    },
    {
     "data": {
      "application/vnd.jupyter.widget-view+json": {
       "model_id": "714647e1404b46fd84afc9f0ba34f5cc",
       "version_major": 2,
       "version_minor": 0
      },
      "text/plain": [
       "HBox(children=(FloatProgress(value=0.0, max=430.0), HTML(value='')))"
      ]
     },
     "metadata": {},
     "output_type": "display_data"
    },
    {
     "name": "stdout",
     "output_type": "stream",
     "text": [
      "\n",
      "average_precision: 0.39109 (+/-0.28602)\n",
      "precision_at_10: 0.16558 (+/-0.10708)\n",
      "recall_at_10: 0.61597 (+/-0.35854)\n",
      "ndcg_at_10: 0.45504 (+/-0.32397)\n",
      "reciprocal_best_rank: 0.48865 (+/-0.38716)\n",
      "reciprocal_average_rank: 0.17855 (+/-0.16350)\n",
      "\n",
      "Evaluation on the test loader...\n"
     ]
    },
    {
     "data": {
      "application/vnd.jupyter.widget-view+json": {
       "model_id": "806f392cd9404a01a1bcfee80efb4c22",
       "version_major": 2,
       "version_minor": 0
      },
      "text/plain": [
       "HBox(children=(FloatProgress(value=0.0, max=430.0), HTML(value='')))"
      ]
     },
     "metadata": {},
     "output_type": "display_data"
    },
    {
     "name": "stdout",
     "output_type": "stream",
     "text": [
      "\n",
      "average_precision: 0.39204 (+/-0.27530)\n",
      "precision_at_10: 0.17093 (+/-0.10350)\n",
      "recall_at_10: 0.63729 (+/-0.34091)\n",
      "ndcg_at_10: 0.46488 (+/-0.30875)\n",
      "reciprocal_best_rank: 0.49770 (+/-0.38183)\n",
      "reciprocal_average_rank: 0.17841 (+/-0.16170)\n",
      "\n",
      "summaries-overlap-average-embedding\n",
      "Evaluation on the valid loader...\n"
     ]
    },
    {
     "data": {
      "application/vnd.jupyter.widget-view+json": {
       "model_id": "1c5a74a8e4ba4803b206ea03a83d4cde",
       "version_major": 2,
       "version_minor": 0
      },
      "text/plain": [
       "HBox(children=(FloatProgress(value=0.0, max=430.0), HTML(value='')))"
      ]
     },
     "metadata": {},
     "output_type": "display_data"
    },
    {
     "name": "stdout",
     "output_type": "stream",
     "text": [
      "\n",
      "average_precision: 0.41860 (+/-0.29707)\n",
      "precision_at_10: 0.16209 (+/-0.10535)\n",
      "recall_at_10: 0.60380 (+/-0.35590)\n",
      "ndcg_at_10: 0.47462 (+/-0.32953)\n",
      "reciprocal_best_rank: 0.54028 (+/-0.39514)\n",
      "reciprocal_average_rank: 0.19159 (+/-0.18540)\n",
      "\n",
      "Evaluation on the test loader...\n"
     ]
    },
    {
     "data": {
      "application/vnd.jupyter.widget-view+json": {
       "model_id": "3353355d84ba4a86864f6bbced9e74db",
       "version_major": 2,
       "version_minor": 0
      },
      "text/plain": [
       "HBox(children=(FloatProgress(value=0.0, max=430.0), HTML(value='')))"
      ]
     },
     "metadata": {},
     "output_type": "display_data"
    },
    {
     "name": "stdout",
     "output_type": "stream",
     "text": [
      "\n",
      "average_precision: 0.43155 (+/-0.29557)\n",
      "precision_at_10: 0.17302 (+/-0.10261)\n",
      "recall_at_10: 0.64829 (+/-0.33511)\n",
      "ndcg_at_10: 0.50019 (+/-0.32216)\n",
      "reciprocal_best_rank: 0.55139 (+/-0.39366)\n",
      "reciprocal_average_rank: 0.19934 (+/-0.18214)\n",
      "\n",
      "context-average-embedding\n",
      "Evaluation on the valid loader...\n"
     ]
    },
    {
     "data": {
      "application/vnd.jupyter.widget-view+json": {
       "model_id": "37c17cfc405b4010a7fc2f754aef7cac",
       "version_major": 2,
       "version_minor": 0
      },
      "text/plain": [
       "HBox(children=(FloatProgress(value=0.0, max=430.0), HTML(value='')))"
      ]
     },
     "metadata": {},
     "output_type": "display_data"
    },
    {
     "name": "stdout",
     "output_type": "stream",
     "text": [
      "\n",
      "average_precision: 0.35197 (+/-0.24655)\n",
      "precision_at_10: 0.16047 (+/-0.10171)\n",
      "recall_at_10: 0.58655 (+/-0.33626)\n",
      "ndcg_at_10: 0.41879 (+/-0.28795)\n",
      "reciprocal_best_rank: 0.46260 (+/-0.37300)\n",
      "reciprocal_average_rank: 0.15169 (+/-0.12753)\n",
      "\n",
      "Evaluation on the test loader...\n"
     ]
    },
    {
     "data": {
      "application/vnd.jupyter.widget-view+json": {
       "model_id": "adadbe8a84b144b290638e4bfccb6a16",
       "version_major": 2,
       "version_minor": 0
      },
      "text/plain": [
       "HBox(children=(FloatProgress(value=0.0, max=430.0), HTML(value='')))"
      ]
     },
     "metadata": {},
     "output_type": "display_data"
    },
    {
     "name": "stdout",
     "output_type": "stream",
     "text": [
      "\n",
      "average_precision: 0.34448 (+/-0.24716)\n",
      "precision_at_10: 0.15558 (+/-0.09743)\n",
      "recall_at_10: 0.58640 (+/-0.33688)\n",
      "ndcg_at_10: 0.40951 (+/-0.28696)\n",
      "reciprocal_best_rank: 0.43683 (+/-0.35627)\n",
      "reciprocal_average_rank: 0.15712 (+/-0.14195)\n",
      "\n",
      "summaries-context-average-embedding\n",
      "Evaluation on the valid loader...\n"
     ]
    },
    {
     "data": {
      "application/vnd.jupyter.widget-view+json": {
       "model_id": "c918cc13616748108b1a2097dead0280",
       "version_major": 2,
       "version_minor": 0
      },
      "text/plain": [
       "HBox(children=(FloatProgress(value=0.0, max=430.0), HTML(value='')))"
      ]
     },
     "metadata": {},
     "output_type": "display_data"
    },
    {
     "name": "stdout",
     "output_type": "stream",
     "text": [
      "\n",
      "average_precision: 0.38313 (+/-0.27692)\n",
      "precision_at_10: 0.16698 (+/-0.10445)\n",
      "recall_at_10: 0.62217 (+/-0.35095)\n",
      "ndcg_at_10: 0.45226 (+/-0.31223)\n",
      "reciprocal_best_rank: 0.48827 (+/-0.38374)\n",
      "reciprocal_average_rank: 0.17385 (+/-0.16188)\n",
      "\n",
      "Evaluation on the test loader...\n"
     ]
    },
    {
     "data": {
      "application/vnd.jupyter.widget-view+json": {
       "model_id": "d5156ad9cdde4e67b21a496f6681b6bf",
       "version_major": 2,
       "version_minor": 0
      },
      "text/plain": [
       "HBox(children=(FloatProgress(value=0.0, max=430.0), HTML(value='')))"
      ]
     },
     "metadata": {},
     "output_type": "display_data"
    },
    {
     "name": "stdout",
     "output_type": "stream",
     "text": [
      "\n",
      "average_precision: 0.38835 (+/-0.26742)\n",
      "precision_at_10: 0.17093 (+/-0.10077)\n",
      "recall_at_10: 0.63942 (+/-0.33672)\n",
      "ndcg_at_10: 0.46407 (+/-0.29945)\n",
      "reciprocal_best_rank: 0.50062 (+/-0.37678)\n",
      "reciprocal_average_rank: 0.17309 (+/-0.15413)\n",
      "\n",
      "summaries-context-overlap-average-embedding\n",
      "Evaluation on the valid loader...\n"
     ]
    },
    {
     "data": {
      "application/vnd.jupyter.widget-view+json": {
       "model_id": "df51a404248747d599f17aad523dc2de",
       "version_major": 2,
       "version_minor": 0
      },
      "text/plain": [
       "HBox(children=(FloatProgress(value=0.0, max=430.0), HTML(value='')))"
      ]
     },
     "metadata": {},
     "output_type": "display_data"
    },
    {
     "name": "stdout",
     "output_type": "stream",
     "text": [
      "\n",
      "average_precision: 0.37025 (+/-0.25873)\n",
      "precision_at_10: 0.16488 (+/-0.10275)\n",
      "recall_at_10: 0.60643 (+/-0.33570)\n",
      "ndcg_at_10: 0.43863 (+/-0.29564)\n",
      "reciprocal_best_rank: 0.47759 (+/-0.37601)\n",
      "reciprocal_average_rank: 0.16109 (+/-0.14503)\n",
      "\n",
      "Evaluation on the test loader...\n"
     ]
    },
    {
     "data": {
      "application/vnd.jupyter.widget-view+json": {
       "model_id": "1e6b19a3b42b4627b5ac01265469efc4",
       "version_major": 2,
       "version_minor": 0
      },
      "text/plain": [
       "HBox(children=(FloatProgress(value=0.0, max=430.0), HTML(value='')))"
      ]
     },
     "metadata": {},
     "output_type": "display_data"
    },
    {
     "name": "stdout",
     "output_type": "stream",
     "text": [
      "\n",
      "average_precision: 0.37074 (+/-0.25350)\n",
      "precision_at_10: 0.16558 (+/-0.10105)\n",
      "recall_at_10: 0.61996 (+/-0.33884)\n",
      "ndcg_at_10: 0.44403 (+/-0.29382)\n",
      "reciprocal_best_rank: 0.48036 (+/-0.36482)\n",
      "reciprocal_average_rank: 0.16686 (+/-0.14391)\n",
      "\n"
     ]
    }
   ],
   "source": [
    "run_models(model_names=[\"summaries-average-embedding\",\n",
    "                        \"summaries-overlap-average-embedding\",\n",
    "                        \"context-average-embedding\",\n",
    "                        \"summaries-context-average-embedding\",\n",
    "                        \"summaries-context-overlap-average-embedding\"],\n",
    "           word2vec=True,\n",
    "           bart=False,\n",
    "           args=args)"
   ]
  },
  {
   "cell_type": "markdown",
   "metadata": {},
   "source": [
    "### Custom classifier"
   ]
  },
  {
   "cell_type": "code",
   "execution_count": 5,
   "metadata": {
    "scrolled": true
   },
   "outputs": [
    {
     "name": "stdout",
     "output_type": "stream",
     "text": [
      "Word2Vec embedding loaded.\n",
      "\n",
      "custom-classifier\n",
      "Learning answers counts...\n"
     ]
    },
    {
     "data": {
      "application/vnd.jupyter.widget-view+json": {
       "model_id": "aa0fbd61cc224204b91aa2cb16a88c83",
       "version_major": 2,
       "version_minor": 0
      },
      "text/plain": [
       "HBox(children=(FloatProgress(value=0.0, max=858.0), HTML(value='')))"
      ]
     },
     "metadata": {},
     "output_type": "display_data"
    },
    {
     "name": "stdout",
     "output_type": "stream",
     "text": [
      "\n",
      "Training on the train loader...\n",
      "Epoch 1/50...\n"
     ]
    },
    {
     "data": {
      "application/vnd.jupyter.widget-view+json": {
       "model_id": "e411fd2e4f33410bbbb98af882baf88a",
       "version_major": 2,
       "version_minor": 0
      },
      "text/plain": [
       "HBox(children=(FloatProgress(value=0.0, max=858.0), HTML(value='')))"
      ]
     },
     "metadata": {},
     "output_type": "display_data"
    },
    {
     "name": "stdout",
     "output_type": "stream",
     "text": [
      "\n",
      "Evaluation on the valid loader...\n"
     ]
    },
    {
     "data": {
      "application/vnd.jupyter.widget-view+json": {
       "model_id": "bebd9311fff94c8aad2801067c083f9a",
       "version_major": 2,
       "version_minor": 0
      },
      "text/plain": [
       "HBox(children=(FloatProgress(value=0.0, max=430.0), HTML(value='')))"
      ]
     },
     "metadata": {},
     "output_type": "display_data"
    },
    {
     "name": "stdout",
     "output_type": "stream",
     "text": [
      "\n",
      "average_precision: 0.61979 (+/-0.27119)\n",
      "precision_at_10: 0.21349 (+/-0.09623)\n",
      "recall_at_10: 0.78023 (+/-0.27431)\n",
      "ndcg_at_10: 0.69812 (+/-0.26538)\n",
      "reciprocal_best_rank: 0.80310 (+/-0.31900)\n",
      "reciprocal_average_rank: 0.26655 (+/-0.20052)\n",
      "\n",
      "Evaluation on the test loader...\n"
     ]
    },
    {
     "data": {
      "application/vnd.jupyter.widget-view+json": {
       "model_id": "a9c1654b05cb442e8c61800cc353a2b8",
       "version_major": 2,
       "version_minor": 0
      },
      "text/plain": [
       "HBox(children=(FloatProgress(value=0.0, max=430.0), HTML(value='')))"
      ]
     },
     "metadata": {},
     "output_type": "display_data"
    },
    {
     "name": "stdout",
     "output_type": "stream",
     "text": [
      "\n",
      "average_precision: 0.62865 (+/-0.29135)\n",
      "precision_at_10: 0.20977 (+/-0.09595)\n",
      "recall_at_10: 0.78446 (+/-0.27987)\n",
      "ndcg_at_10: 0.70140 (+/-0.28301)\n",
      "reciprocal_best_rank: 0.79803 (+/-0.33071)\n",
      "reciprocal_average_rank: 0.28213 (+/-0.21728)\n",
      "\n",
      "Epoch 2/50...\n"
     ]
    },
    {
     "data": {
      "application/vnd.jupyter.widget-view+json": {
       "model_id": "1357986f82ec416aa7fe0814b6660d03",
       "version_major": 2,
       "version_minor": 0
      },
      "text/plain": [
       "HBox(children=(FloatProgress(value=0.0, max=858.0), HTML(value='')))"
      ]
     },
     "metadata": {},
     "output_type": "display_data"
    },
    {
     "name": "stdout",
     "output_type": "stream",
     "text": [
      "\n",
      "Evaluation on the valid loader...\n"
     ]
    },
    {
     "data": {
      "application/vnd.jupyter.widget-view+json": {
       "model_id": "f1c2af0d030d40619f082cbd82f5a05e",
       "version_major": 2,
       "version_minor": 0
      },
      "text/plain": [
       "HBox(children=(FloatProgress(value=0.0, max=430.0), HTML(value='')))"
      ]
     },
     "metadata": {},
     "output_type": "display_data"
    },
    {
     "name": "stdout",
     "output_type": "stream",
     "text": [
      "\n",
      "average_precision: 0.62887 (+/-0.26955)\n",
      "precision_at_10: 0.21581 (+/-0.09612)\n",
      "recall_at_10: 0.78973 (+/-0.27027)\n",
      "ndcg_at_10: 0.70762 (+/-0.26187)\n",
      "reciprocal_best_rank: 0.81077 (+/-0.31359)\n",
      "reciprocal_average_rank: 0.27300 (+/-0.20320)\n",
      "\n",
      "Evaluation on the test loader...\n"
     ]
    },
    {
     "data": {
      "application/vnd.jupyter.widget-view+json": {
       "model_id": "a0f131403e164accab02002107562143",
       "version_major": 2,
       "version_minor": 0
      },
      "text/plain": [
       "HBox(children=(FloatProgress(value=0.0, max=430.0), HTML(value='')))"
      ]
     },
     "metadata": {},
     "output_type": "display_data"
    },
    {
     "name": "stdout",
     "output_type": "stream",
     "text": [
      "\n",
      "average_precision: 0.64233 (+/-0.28542)\n",
      "precision_at_10: 0.21372 (+/-0.09461)\n",
      "recall_at_10: 0.80023 (+/-0.27439)\n",
      "ndcg_at_10: 0.71590 (+/-0.27487)\n",
      "reciprocal_best_rank: 0.80634 (+/-0.32249)\n",
      "reciprocal_average_rank: 0.29204 (+/-0.21686)\n",
      "\n",
      "Epoch 3/50...\n"
     ]
    },
    {
     "data": {
      "application/vnd.jupyter.widget-view+json": {
       "model_id": "e15a86713450439c9944bac1a692f5cd",
       "version_major": 2,
       "version_minor": 0
      },
      "text/plain": [
       "HBox(children=(FloatProgress(value=0.0, max=858.0), HTML(value='')))"
      ]
     },
     "metadata": {},
     "output_type": "display_data"
    },
    {
     "name": "stdout",
     "output_type": "stream",
     "text": [
      "\n",
      "Evaluation on the valid loader...\n"
     ]
    },
    {
     "data": {
      "application/vnd.jupyter.widget-view+json": {
       "model_id": "1ef800452c7f4fd9aa30ac2fd3b61109",
       "version_major": 2,
       "version_minor": 0
      },
      "text/plain": [
       "HBox(children=(FloatProgress(value=0.0, max=430.0), HTML(value='')))"
      ]
     },
     "metadata": {},
     "output_type": "display_data"
    },
    {
     "name": "stdout",
     "output_type": "stream",
     "text": [
      "\n",
      "average_precision: 0.63551 (+/-0.26899)\n",
      "precision_at_10: 0.21837 (+/-0.09431)\n",
      "recall_at_10: 0.80019 (+/-0.26251)\n",
      "ndcg_at_10: 0.71533 (+/-0.25731)\n",
      "reciprocal_best_rank: 0.81318 (+/-0.31122)\n",
      "reciprocal_average_rank: 0.27742 (+/-0.20450)\n",
      "\n",
      "Evaluation on the test loader...\n"
     ]
    },
    {
     "data": {
      "application/vnd.jupyter.widget-view+json": {
       "model_id": "d78ac2d00930433eb6cdf256d1fdcff8",
       "version_major": 2,
       "version_minor": 0
      },
      "text/plain": [
       "HBox(children=(FloatProgress(value=0.0, max=430.0), HTML(value='')))"
      ]
     },
     "metadata": {},
     "output_type": "display_data"
    },
    {
     "name": "stdout",
     "output_type": "stream",
     "text": [
      "\n",
      "average_precision: 0.65036 (+/-0.28246)\n",
      "precision_at_10: 0.21651 (+/-0.09242)\n",
      "recall_at_10: 0.81186 (+/-0.26221)\n",
      "ndcg_at_10: 0.72548 (+/-0.26837)\n",
      "reciprocal_best_rank: 0.81410 (+/-0.31661)\n",
      "reciprocal_average_rank: 0.29774 (+/-0.21705)\n",
      "\n",
      "Epoch 4/50...\n"
     ]
    },
    {
     "data": {
      "application/vnd.jupyter.widget-view+json": {
       "model_id": "10c34c89935b4874a694c475c538d3f6",
       "version_major": 2,
       "version_minor": 0
      },
      "text/plain": [
       "HBox(children=(FloatProgress(value=0.0, max=858.0), HTML(value='')))"
      ]
     },
     "metadata": {},
     "output_type": "display_data"
    },
    {
     "name": "stdout",
     "output_type": "stream",
     "text": [
      "\n",
      "Evaluation on the valid loader...\n"
     ]
    },
    {
     "data": {
      "application/vnd.jupyter.widget-view+json": {
       "model_id": "415b1865a4e3481da741e17ac80d0c17",
       "version_major": 2,
       "version_minor": 0
      },
      "text/plain": [
       "HBox(children=(FloatProgress(value=0.0, max=430.0), HTML(value='')))"
      ]
     },
     "metadata": {},
     "output_type": "display_data"
    },
    {
     "name": "stdout",
     "output_type": "stream",
     "text": [
      "\n",
      "average_precision: 0.63976 (+/-0.26892)\n",
      "precision_at_10: 0.22093 (+/-0.09390)\n",
      "recall_at_10: 0.80891 (+/-0.25540)\n",
      "ndcg_at_10: 0.72108 (+/-0.25455)\n",
      "reciprocal_best_rank: 0.81436 (+/-0.30914)\n",
      "reciprocal_average_rank: 0.28118 (+/-0.20560)\n",
      "\n",
      "Evaluation on the test loader...\n"
     ]
    },
    {
     "data": {
      "application/vnd.jupyter.widget-view+json": {
       "model_id": "a4f8f4c4bbb147228628c3547fa79f2c",
       "version_major": 2,
       "version_minor": 0
      },
      "text/plain": [
       "HBox(children=(FloatProgress(value=0.0, max=430.0), HTML(value='')))"
      ]
     },
     "metadata": {},
     "output_type": "display_data"
    },
    {
     "name": "stdout",
     "output_type": "stream",
     "text": [
      "\n",
      "average_precision: 0.65627 (+/-0.28072)\n",
      "precision_at_10: 0.22000 (+/-0.09236)\n",
      "recall_at_10: 0.82368 (+/-0.25578)\n",
      "ndcg_at_10: 0.73357 (+/-0.26491)\n",
      "reciprocal_best_rank: 0.81814 (+/-0.31296)\n",
      "reciprocal_average_rank: 0.30293 (+/-0.21662)\n",
      "\n",
      "Epoch 5/50...\n"
     ]
    },
    {
     "data": {
      "application/vnd.jupyter.widget-view+json": {
       "model_id": "5b438c88ef3e47e997f812b387708984",
       "version_major": 2,
       "version_minor": 0
      },
      "text/plain": [
       "HBox(children=(FloatProgress(value=0.0, max=858.0), HTML(value='')))"
      ]
     },
     "metadata": {},
     "output_type": "display_data"
    },
    {
     "name": "stdout",
     "output_type": "stream",
     "text": [
      "\n",
      "Evaluation on the valid loader...\n"
     ]
    },
    {
     "data": {
      "application/vnd.jupyter.widget-view+json": {
       "model_id": "c970879fe15c4d838eb5eed29b59ac1b",
       "version_major": 2,
       "version_minor": 0
      },
      "text/plain": [
       "HBox(children=(FloatProgress(value=0.0, max=430.0), HTML(value='')))"
      ]
     },
     "metadata": {},
     "output_type": "display_data"
    },
    {
     "name": "stdout",
     "output_type": "stream",
     "text": [
      "\n",
      "average_precision: 0.64326 (+/-0.26759)\n",
      "precision_at_10: 0.22233 (+/-0.09333)\n",
      "recall_at_10: 0.81415 (+/-0.25212)\n",
      "ndcg_at_10: 0.72521 (+/-0.25107)\n",
      "reciprocal_best_rank: 0.81616 (+/-0.30760)\n",
      "reciprocal_average_rank: 0.28315 (+/-0.20626)\n",
      "\n",
      "Evaluation on the test loader...\n"
     ]
    },
    {
     "data": {
      "application/vnd.jupyter.widget-view+json": {
       "model_id": "0e0f1168f0d74327b415f888c568f6c6",
       "version_major": 2,
       "version_minor": 0
      },
      "text/plain": [
       "HBox(children=(FloatProgress(value=0.0, max=430.0), HTML(value='')))"
      ]
     },
     "metadata": {},
     "output_type": "display_data"
    },
    {
     "name": "stdout",
     "output_type": "stream",
     "text": [
      "\n",
      "average_precision: 0.66371 (+/-0.27903)\n",
      "precision_at_10: 0.22209 (+/-0.09226)\n",
      "recall_at_10: 0.83151 (+/-0.24931)\n",
      "ndcg_at_10: 0.74104 (+/-0.25961)\n",
      "reciprocal_best_rank: 0.82212 (+/-0.30814)\n",
      "reciprocal_average_rank: 0.30867 (+/-0.21700)\n",
      "\n",
      "Epoch 6/50...\n"
     ]
    },
    {
     "data": {
      "application/vnd.jupyter.widget-view+json": {
       "model_id": "90f50d7789b04f509e4fdeb51654c856",
       "version_major": 2,
       "version_minor": 0
      },
      "text/plain": [
       "HBox(children=(FloatProgress(value=0.0, max=858.0), HTML(value='')))"
      ]
     },
     "metadata": {},
     "output_type": "display_data"
    },
    {
     "name": "stdout",
     "output_type": "stream",
     "text": [
      "\n",
      "Evaluation on the valid loader...\n"
     ]
    },
    {
     "data": {
      "application/vnd.jupyter.widget-view+json": {
       "model_id": "6240c7d6ed8f48569f0c5962bbb82027",
       "version_major": 2,
       "version_minor": 0
      },
      "text/plain": [
       "HBox(children=(FloatProgress(value=0.0, max=430.0), HTML(value='')))"
      ]
     },
     "metadata": {},
     "output_type": "display_data"
    },
    {
     "name": "stdout",
     "output_type": "stream",
     "text": [
      "\n",
      "average_precision: 0.64818 (+/-0.26515)\n",
      "precision_at_10: 0.22256 (+/-0.09365)\n",
      "recall_at_10: 0.81473 (+/-0.25226)\n",
      "ndcg_at_10: 0.72892 (+/-0.24973)\n",
      "reciprocal_best_rank: 0.82131 (+/-0.30411)\n",
      "reciprocal_average_rank: 0.28560 (+/-0.20594)\n",
      "\n",
      "Evaluation on the test loader...\n"
     ]
    },
    {
     "data": {
      "application/vnd.jupyter.widget-view+json": {
       "model_id": "a076563255244ad2a8e1ce5b091baf28",
       "version_major": 2,
       "version_minor": 0
      },
      "text/plain": [
       "HBox(children=(FloatProgress(value=0.0, max=430.0), HTML(value='')))"
      ]
     },
     "metadata": {},
     "output_type": "display_data"
    },
    {
     "name": "stdout",
     "output_type": "stream",
     "text": [
      "\n",
      "average_precision: 0.66962 (+/-0.27674)\n",
      "precision_at_10: 0.22349 (+/-0.09141)\n",
      "recall_at_10: 0.83868 (+/-0.24479)\n",
      "ndcg_at_10: 0.74735 (+/-0.25499)\n",
      "reciprocal_best_rank: 0.82701 (+/-0.30489)\n",
      "reciprocal_average_rank: 0.31240 (+/-0.21643)\n",
      "\n",
      "Epoch 7/50...\n"
     ]
    },
    {
     "data": {
      "application/vnd.jupyter.widget-view+json": {
       "model_id": "b4e1f07159b84df68b8f399c3f6c7332",
       "version_major": 2,
       "version_minor": 0
      },
      "text/plain": [
       "HBox(children=(FloatProgress(value=0.0, max=858.0), HTML(value='')))"
      ]
     },
     "metadata": {},
     "output_type": "display_data"
    },
    {
     "name": "stdout",
     "output_type": "stream",
     "text": [
      "\n",
      "Evaluation on the valid loader...\n"
     ]
    },
    {
     "data": {
      "application/vnd.jupyter.widget-view+json": {
       "model_id": "cbd68c3d9bd04a7c8f7c0673086f0c72",
       "version_major": 2,
       "version_minor": 0
      },
      "text/plain": [
       "HBox(children=(FloatProgress(value=0.0, max=430.0), HTML(value='')))"
      ]
     },
     "metadata": {},
     "output_type": "display_data"
    },
    {
     "name": "stdout",
     "output_type": "stream",
     "text": [
      "\n",
      "average_precision: 0.64942 (+/-0.26429)\n",
      "precision_at_10: 0.22395 (+/-0.09280)\n",
      "recall_at_10: 0.82132 (+/-0.24487)\n",
      "ndcg_at_10: 0.73156 (+/-0.24521)\n",
      "reciprocal_best_rank: 0.82113 (+/-0.30244)\n",
      "reciprocal_average_rank: 0.28661 (+/-0.20304)\n",
      "\n",
      "Evaluation on the test loader...\n"
     ]
    },
    {
     "data": {
      "application/vnd.jupyter.widget-view+json": {
       "model_id": "3d61278716244c1892c1e3736c537312",
       "version_major": 2,
       "version_minor": 0
      },
      "text/plain": [
       "HBox(children=(FloatProgress(value=0.0, max=430.0), HTML(value='')))"
      ]
     },
     "metadata": {},
     "output_type": "display_data"
    },
    {
     "name": "stdout",
     "output_type": "stream",
     "text": [
      "\n",
      "average_precision: 0.67411 (+/-0.27548)\n",
      "precision_at_10: 0.22488 (+/-0.09155)\n",
      "recall_at_10: 0.84360 (+/-0.24262)\n",
      "ndcg_at_10: 0.75161 (+/-0.25350)\n",
      "reciprocal_best_rank: 0.82908 (+/-0.30326)\n",
      "reciprocal_average_rank: 0.31601 (+/-0.21615)\n",
      "\n",
      "Epoch 8/50...\n"
     ]
    },
    {
     "data": {
      "application/vnd.jupyter.widget-view+json": {
       "model_id": "1c8a9541289149c5bf4449e2e05e6203",
       "version_major": 2,
       "version_minor": 0
      },
      "text/plain": [
       "HBox(children=(FloatProgress(value=0.0, max=858.0), HTML(value='')))"
      ]
     },
     "metadata": {},
     "output_type": "display_data"
    },
    {
     "name": "stdout",
     "output_type": "stream",
     "text": [
      "\n",
      "Evaluation on the valid loader...\n"
     ]
    },
    {
     "data": {
      "application/vnd.jupyter.widget-view+json": {
       "model_id": "346e3aeef0ba4753b747e7c541a57f38",
       "version_major": 2,
       "version_minor": 0
      },
      "text/plain": [
       "HBox(children=(FloatProgress(value=0.0, max=430.0), HTML(value='')))"
      ]
     },
     "metadata": {},
     "output_type": "display_data"
    },
    {
     "name": "stdout",
     "output_type": "stream",
     "text": [
      "\n",
      "average_precision: 0.65252 (+/-0.26268)\n",
      "precision_at_10: 0.22442 (+/-0.09268)\n",
      "recall_at_10: 0.82403 (+/-0.24221)\n",
      "ndcg_at_10: 0.73434 (+/-0.24329)\n",
      "reciprocal_best_rank: 0.82403 (+/-0.29940)\n",
      "reciprocal_average_rank: 0.28901 (+/-0.20423)\n",
      "\n",
      "Evaluation on the test loader...\n"
     ]
    },
    {
     "data": {
      "application/vnd.jupyter.widget-view+json": {
       "model_id": "a62bba475d624eaa9fc022af9b056f35",
       "version_major": 2,
       "version_minor": 0
      },
      "text/plain": [
       "HBox(children=(FloatProgress(value=0.0, max=430.0), HTML(value='')))"
      ]
     },
     "metadata": {},
     "output_type": "display_data"
    },
    {
     "name": "stdout",
     "output_type": "stream",
     "text": [
      "\n",
      "average_precision: 0.67968 (+/-0.27294)\n",
      "precision_at_10: 0.22628 (+/-0.09141)\n",
      "recall_at_10: 0.84903 (+/-0.24286)\n",
      "ndcg_at_10: 0.75729 (+/-0.25122)\n",
      "reciprocal_best_rank: 0.83383 (+/-0.30029)\n",
      "reciprocal_average_rank: 0.32085 (+/-0.21783)\n",
      "\n",
      "Epoch 9/50...\n"
     ]
    },
    {
     "data": {
      "application/vnd.jupyter.widget-view+json": {
       "model_id": "9be3260507164987b0a50370d257c009",
       "version_major": 2,
       "version_minor": 0
      },
      "text/plain": [
       "HBox(children=(FloatProgress(value=0.0, max=858.0), HTML(value='')))"
      ]
     },
     "metadata": {},
     "output_type": "display_data"
    },
    {
     "name": "stdout",
     "output_type": "stream",
     "text": [
      "\n",
      "Evaluation on the valid loader...\n"
     ]
    },
    {
     "data": {
      "application/vnd.jupyter.widget-view+json": {
       "model_id": "b04d5464a5e94d26a0d7a54a8bb32692",
       "version_major": 2,
       "version_minor": 0
      },
      "text/plain": [
       "HBox(children=(FloatProgress(value=0.0, max=430.0), HTML(value='')))"
      ]
     },
     "metadata": {},
     "output_type": "display_data"
    },
    {
     "name": "stdout",
     "output_type": "stream",
     "text": [
      "\n",
      "average_precision: 0.65364 (+/-0.26332)\n",
      "precision_at_10: 0.22558 (+/-0.09174)\n",
      "recall_at_10: 0.82888 (+/-0.23896)\n",
      "ndcg_at_10: 0.73621 (+/-0.24275)\n",
      "reciprocal_best_rank: 0.82305 (+/-0.29926)\n",
      "reciprocal_average_rank: 0.29093 (+/-0.20392)\n",
      "\n",
      "Evaluation on the test loader...\n"
     ]
    },
    {
     "data": {
      "application/vnd.jupyter.widget-view+json": {
       "model_id": "ea25ad357fbd485d9cb5bf0bab5d07f1",
       "version_major": 2,
       "version_minor": 0
      },
      "text/plain": [
       "HBox(children=(FloatProgress(value=0.0, max=430.0), HTML(value='')))"
      ]
     },
     "metadata": {},
     "output_type": "display_data"
    },
    {
     "name": "stdout",
     "output_type": "stream",
     "text": [
      "\n",
      "average_precision: 0.68255 (+/-0.27231)\n",
      "precision_at_10: 0.22791 (+/-0.09156)\n",
      "recall_at_10: 0.85407 (+/-0.24041)\n",
      "ndcg_at_10: 0.76039 (+/-0.25058)\n",
      "reciprocal_best_rank: 0.83306 (+/-0.30009)\n",
      "reciprocal_average_rank: 0.32488 (+/-0.21858)\n",
      "\n",
      "Epoch 10/50...\n"
     ]
    },
    {
     "data": {
      "application/vnd.jupyter.widget-view+json": {
       "model_id": "3feb5bd5f5314afebc736ed2a3991a60",
       "version_major": 2,
       "version_minor": 0
      },
      "text/plain": [
       "HBox(children=(FloatProgress(value=0.0, max=858.0), HTML(value='')))"
      ]
     },
     "metadata": {},
     "output_type": "display_data"
    },
    {
     "name": "stdout",
     "output_type": "stream",
     "text": [
      "\n",
      "Evaluation on the valid loader...\n"
     ]
    },
    {
     "data": {
      "application/vnd.jupyter.widget-view+json": {
       "model_id": "6ac7fcebfcae41d5aeb2ba335eab2261",
       "version_major": 2,
       "version_minor": 0
      },
      "text/plain": [
       "HBox(children=(FloatProgress(value=0.0, max=430.0), HTML(value='')))"
      ]
     },
     "metadata": {},
     "output_type": "display_data"
    },
    {
     "name": "stdout",
     "output_type": "stream",
     "text": [
      "\n",
      "average_precision: 0.65586 (+/-0.26429)\n",
      "precision_at_10: 0.22721 (+/-0.09114)\n",
      "recall_at_10: 0.83547 (+/-0.23716)\n",
      "ndcg_at_10: 0.73888 (+/-0.24230)\n",
      "reciprocal_best_rank: 0.82037 (+/-0.30021)\n",
      "reciprocal_average_rank: 0.29385 (+/-0.20408)\n",
      "\n",
      "Evaluation on the test loader...\n"
     ]
    },
    {
     "data": {
      "application/vnd.jupyter.widget-view+json": {
       "model_id": "8fbe5a523d6042f4ae0e2f1f8df0afba",
       "version_major": 2,
       "version_minor": 0
      },
      "text/plain": [
       "HBox(children=(FloatProgress(value=0.0, max=430.0), HTML(value='')))"
      ]
     },
     "metadata": {},
     "output_type": "display_data"
    },
    {
     "name": "stdout",
     "output_type": "stream",
     "text": [
      "\n",
      "average_precision: 0.68524 (+/-0.27176)\n",
      "precision_at_10: 0.22907 (+/-0.09184)\n",
      "recall_at_10: 0.85802 (+/-0.23937)\n",
      "ndcg_at_10: 0.76285 (+/-0.24952)\n",
      "reciprocal_best_rank: 0.83078 (+/-0.30059)\n",
      "reciprocal_average_rank: 0.32798 (+/-0.22091)\n",
      "\n",
      "Epoch 11/50...\n"
     ]
    },
    {
     "data": {
      "application/vnd.jupyter.widget-view+json": {
       "model_id": "6f40ec996f4746d0828a61b9610d8753",
       "version_major": 2,
       "version_minor": 0
      },
      "text/plain": [
       "HBox(children=(FloatProgress(value=0.0, max=858.0), HTML(value='')))"
      ]
     },
     "metadata": {},
     "output_type": "display_data"
    },
    {
     "name": "stdout",
     "output_type": "stream",
     "text": [
      "\n",
      "Evaluation on the valid loader...\n"
     ]
    },
    {
     "data": {
      "application/vnd.jupyter.widget-view+json": {
       "model_id": "54a74642d25c40019f3dbf514229f642",
       "version_major": 2,
       "version_minor": 0
      },
      "text/plain": [
       "HBox(children=(FloatProgress(value=0.0, max=430.0), HTML(value='')))"
      ]
     },
     "metadata": {},
     "output_type": "display_data"
    },
    {
     "name": "stdout",
     "output_type": "stream",
     "text": [
      "\n",
      "average_precision: 0.65696 (+/-0.26217)\n",
      "precision_at_10: 0.22698 (+/-0.09159)\n",
      "recall_at_10: 0.83430 (+/-0.23818)\n",
      "ndcg_at_10: 0.73898 (+/-0.24256)\n",
      "reciprocal_best_rank: 0.82092 (+/-0.30085)\n",
      "reciprocal_average_rank: 0.29466 (+/-0.20249)\n",
      "\n",
      "Evaluation on the test loader...\n"
     ]
    },
    {
     "data": {
      "application/vnd.jupyter.widget-view+json": {
       "model_id": "82614906303c416286697717551c57ce",
       "version_major": 2,
       "version_minor": 0
      },
      "text/plain": [
       "HBox(children=(FloatProgress(value=0.0, max=430.0), HTML(value='')))"
      ]
     },
     "metadata": {},
     "output_type": "display_data"
    },
    {
     "name": "stdout",
     "output_type": "stream",
     "text": [
      "\n",
      "average_precision: 0.68827 (+/-0.27246)\n",
      "precision_at_10: 0.23140 (+/-0.09234)\n",
      "recall_at_10: 0.86558 (+/-0.23516)\n",
      "ndcg_at_10: 0.76713 (+/-0.24800)\n",
      "reciprocal_best_rank: 0.83095 (+/-0.30007)\n",
      "reciprocal_average_rank: 0.33165 (+/-0.22092)\n",
      "\n",
      "Epoch 12/50...\n"
     ]
    },
    {
     "data": {
      "application/vnd.jupyter.widget-view+json": {
       "model_id": "cb064a4c748745e3882a3769eca5b9ac",
       "version_major": 2,
       "version_minor": 0
      },
      "text/plain": [
       "HBox(children=(FloatProgress(value=0.0, max=858.0), HTML(value='')))"
      ]
     },
     "metadata": {},
     "output_type": "display_data"
    },
    {
     "name": "stdout",
     "output_type": "stream",
     "text": [
      "\n",
      "Evaluation on the valid loader...\n"
     ]
    },
    {
     "data": {
      "application/vnd.jupyter.widget-view+json": {
       "model_id": "c8da1c5036664a6da2d8e5a459b04d86",
       "version_major": 2,
       "version_minor": 0
      },
      "text/plain": [
       "HBox(children=(FloatProgress(value=0.0, max=430.0), HTML(value='')))"
      ]
     },
     "metadata": {},
     "output_type": "display_data"
    },
    {
     "name": "stdout",
     "output_type": "stream",
     "text": [
      "\n",
      "average_precision: 0.66170 (+/-0.26315)\n",
      "precision_at_10: 0.22814 (+/-0.09238)\n",
      "recall_at_10: 0.83760 (+/-0.23967)\n",
      "ndcg_at_10: 0.74279 (+/-0.24262)\n",
      "reciprocal_best_rank: 0.82303 (+/-0.30072)\n",
      "reciprocal_average_rank: 0.29809 (+/-0.20394)\n",
      "\n",
      "Evaluation on the test loader...\n"
     ]
    },
    {
     "data": {
      "application/vnd.jupyter.widget-view+json": {
       "model_id": "6122ba23f2e14c48b5c2b78f93c71bdd",
       "version_major": 2,
       "version_minor": 0
      },
      "text/plain": [
       "HBox(children=(FloatProgress(value=0.0, max=430.0), HTML(value='')))"
      ]
     },
     "metadata": {},
     "output_type": "display_data"
    },
    {
     "name": "stdout",
     "output_type": "stream",
     "text": [
      "\n",
      "average_precision: 0.69410 (+/-0.27129)\n",
      "precision_at_10: 0.23070 (+/-0.09295)\n",
      "recall_at_10: 0.86267 (+/-0.23715)\n",
      "ndcg_at_10: 0.77008 (+/-0.24909)\n",
      "reciprocal_best_rank: 0.83796 (+/-0.29671)\n",
      "reciprocal_average_rank: 0.33528 (+/-0.22246)\n",
      "\n",
      "Epoch 13/50...\n"
     ]
    },
    {
     "data": {
      "application/vnd.jupyter.widget-view+json": {
       "model_id": "ca26a2216c7d46dbbd1dfb4dbab863b6",
       "version_major": 2,
       "version_minor": 0
      },
      "text/plain": [
       "HBox(children=(FloatProgress(value=0.0, max=858.0), HTML(value='')))"
      ]
     },
     "metadata": {},
     "output_type": "display_data"
    },
    {
     "name": "stdout",
     "output_type": "stream",
     "text": [
      "\n",
      "Evaluation on the valid loader...\n"
     ]
    },
    {
     "data": {
      "application/vnd.jupyter.widget-view+json": {
       "model_id": "f24936640b4f458db6f43fd19bf16c56",
       "version_major": 2,
       "version_minor": 0
      },
      "text/plain": [
       "HBox(children=(FloatProgress(value=0.0, max=430.0), HTML(value='')))"
      ]
     },
     "metadata": {},
     "output_type": "display_data"
    },
    {
     "name": "stdout",
     "output_type": "stream",
     "text": [
      "\n",
      "average_precision: 0.66509 (+/-0.26187)\n",
      "precision_at_10: 0.22907 (+/-0.09334)\n",
      "recall_at_10: 0.83961 (+/-0.23970)\n",
      "ndcg_at_10: 0.74564 (+/-0.24316)\n",
      "reciprocal_best_rank: 0.82466 (+/-0.29969)\n",
      "reciprocal_average_rank: 0.30032 (+/-0.20314)\n",
      "\n",
      "Evaluation on the test loader...\n"
     ]
    },
    {
     "data": {
      "application/vnd.jupyter.widget-view+json": {
       "model_id": "b4018472a67148edb34cf323c6b0a51b",
       "version_major": 2,
       "version_minor": 0
      },
      "text/plain": [
       "HBox(children=(FloatProgress(value=0.0, max=430.0), HTML(value='')))"
      ]
     },
     "metadata": {},
     "output_type": "display_data"
    },
    {
     "name": "stdout",
     "output_type": "stream",
     "text": [
      "\n",
      "average_precision: 0.69532 (+/-0.27206)\n",
      "precision_at_10: 0.23116 (+/-0.09453)\n",
      "recall_at_10: 0.86151 (+/-0.24247)\n",
      "ndcg_at_10: 0.77051 (+/-0.25281)\n",
      "reciprocal_best_rank: 0.83846 (+/-0.29622)\n",
      "reciprocal_average_rank: 0.33615 (+/-0.22293)\n",
      "\n",
      "Epoch 14/50...\n"
     ]
    },
    {
     "data": {
      "application/vnd.jupyter.widget-view+json": {
       "model_id": "9f571dce967b4086acfb793e636ff8ad",
       "version_major": 2,
       "version_minor": 0
      },
      "text/plain": [
       "HBox(children=(FloatProgress(value=0.0, max=858.0), HTML(value='')))"
      ]
     },
     "metadata": {},
     "output_type": "display_data"
    },
    {
     "name": "stdout",
     "output_type": "stream",
     "text": [
      "\n",
      "Evaluation on the valid loader...\n"
     ]
    },
    {
     "data": {
      "application/vnd.jupyter.widget-view+json": {
       "model_id": "7f9b934b43cb4cf5bd656461f9ff6e17",
       "version_major": 2,
       "version_minor": 0
      },
      "text/plain": [
       "HBox(children=(FloatProgress(value=0.0, max=430.0), HTML(value='')))"
      ]
     },
     "metadata": {},
     "output_type": "display_data"
    },
    {
     "name": "stdout",
     "output_type": "stream",
     "text": [
      "\n",
      "average_precision: 0.66712 (+/-0.26159)\n",
      "precision_at_10: 0.22953 (+/-0.09245)\n",
      "recall_at_10: 0.84233 (+/-0.23779)\n",
      "ndcg_at_10: 0.74773 (+/-0.24227)\n",
      "reciprocal_best_rank: 0.82603 (+/-0.29905)\n",
      "reciprocal_average_rank: 0.30175 (+/-0.20281)\n",
      "\n",
      "Evaluation on the test loader...\n"
     ]
    },
    {
     "data": {
      "application/vnd.jupyter.widget-view+json": {
       "model_id": "01391f3613034d71b4c5a285b584452f",
       "version_major": 2,
       "version_minor": 0
      },
      "text/plain": [
       "HBox(children=(FloatProgress(value=0.0, max=430.0), HTML(value='')))"
      ]
     },
     "metadata": {},
     "output_type": "display_data"
    },
    {
     "name": "stdout",
     "output_type": "stream",
     "text": [
      "\n",
      "average_precision: 0.69675 (+/-0.27126)\n",
      "precision_at_10: 0.23093 (+/-0.09522)\n",
      "recall_at_10: 0.85996 (+/-0.24325)\n",
      "ndcg_at_10: 0.77071 (+/-0.25303)\n",
      "reciprocal_best_rank: 0.83809 (+/-0.29544)\n",
      "reciprocal_average_rank: 0.33678 (+/-0.22247)\n",
      "\n",
      "Epoch 15/50...\n"
     ]
    },
    {
     "data": {
      "application/vnd.jupyter.widget-view+json": {
       "model_id": "8637d3316bdd4cdcbd4e303055c3792f",
       "version_major": 2,
       "version_minor": 0
      },
      "text/plain": [
       "HBox(children=(FloatProgress(value=0.0, max=858.0), HTML(value='')))"
      ]
     },
     "metadata": {},
     "output_type": "display_data"
    },
    {
     "name": "stdout",
     "output_type": "stream",
     "text": [
      "\n",
      "Evaluation on the valid loader...\n"
     ]
    },
    {
     "data": {
      "application/vnd.jupyter.widget-view+json": {
       "model_id": "e28bab437fd24f9ab217ee03d240fbf8",
       "version_major": 2,
       "version_minor": 0
      },
      "text/plain": [
       "HBox(children=(FloatProgress(value=0.0, max=430.0), HTML(value='')))"
      ]
     },
     "metadata": {},
     "output_type": "display_data"
    },
    {
     "name": "stdout",
     "output_type": "stream",
     "text": [
      "\n",
      "average_precision: 0.66820 (+/-0.26079)\n",
      "precision_at_10: 0.22907 (+/-0.09158)\n",
      "recall_at_10: 0.84194 (+/-0.23821)\n",
      "ndcg_at_10: 0.74806 (+/-0.24159)\n",
      "reciprocal_best_rank: 0.82585 (+/-0.29792)\n",
      "reciprocal_average_rank: 0.30282 (+/-0.20449)\n",
      "\n",
      "Evaluation on the test loader...\n"
     ]
    },
    {
     "data": {
      "application/vnd.jupyter.widget-view+json": {
       "model_id": "b2b1d388f290453bbef4dc122fab8887",
       "version_major": 2,
       "version_minor": 0
      },
      "text/plain": [
       "HBox(children=(FloatProgress(value=0.0, max=430.0), HTML(value='')))"
      ]
     },
     "metadata": {},
     "output_type": "display_data"
    },
    {
     "name": "stdout",
     "output_type": "stream",
     "text": [
      "\n",
      "average_precision: 0.69952 (+/-0.27053)\n",
      "precision_at_10: 0.23209 (+/-0.09446)\n",
      "recall_at_10: 0.86461 (+/-0.23840)\n",
      "ndcg_at_10: 0.77437 (+/-0.25085)\n",
      "reciprocal_best_rank: 0.84104 (+/-0.29377)\n",
      "reciprocal_average_rank: 0.33794 (+/-0.22236)\n",
      "\n",
      "Epoch 16/50...\n"
     ]
    },
    {
     "data": {
      "application/vnd.jupyter.widget-view+json": {
       "model_id": "36b2e483667241e594ed389ebe9a72c8",
       "version_major": 2,
       "version_minor": 0
      },
      "text/plain": [
       "HBox(children=(FloatProgress(value=0.0, max=858.0), HTML(value='')))"
      ]
     },
     "metadata": {},
     "output_type": "display_data"
    },
    {
     "name": "stdout",
     "output_type": "stream",
     "text": [
      "\n",
      "Evaluation on the valid loader...\n"
     ]
    },
    {
     "data": {
      "application/vnd.jupyter.widget-view+json": {
       "model_id": "c8c4dfcb9fd9418d9383349a14d4076c",
       "version_major": 2,
       "version_minor": 0
      },
      "text/plain": [
       "HBox(children=(FloatProgress(value=0.0, max=430.0), HTML(value='')))"
      ]
     },
     "metadata": {},
     "output_type": "display_data"
    },
    {
     "name": "stdout",
     "output_type": "stream",
     "text": [
      "\n",
      "average_precision: 0.66956 (+/-0.26101)\n",
      "precision_at_10: 0.22814 (+/-0.09187)\n",
      "recall_at_10: 0.83903 (+/-0.24096)\n",
      "ndcg_at_10: 0.74781 (+/-0.24312)\n",
      "reciprocal_best_rank: 0.82765 (+/-0.29830)\n",
      "reciprocal_average_rank: 0.30343 (+/-0.20427)\n",
      "\n",
      "Evaluation on the test loader...\n"
     ]
    },
    {
     "data": {
      "application/vnd.jupyter.widget-view+json": {
       "model_id": "85696b0f4dd04f3fa6b32247a3711b00",
       "version_major": 2,
       "version_minor": 0
      },
      "text/plain": [
       "HBox(children=(FloatProgress(value=0.0, max=430.0), HTML(value='')))"
      ]
     },
     "metadata": {},
     "output_type": "display_data"
    },
    {
     "name": "stdout",
     "output_type": "stream",
     "text": [
      "\n",
      "average_precision: 0.70099 (+/-0.27073)\n",
      "precision_at_10: 0.23140 (+/-0.09408)\n",
      "recall_at_10: 0.86229 (+/-0.23624)\n",
      "ndcg_at_10: 0.77438 (+/-0.25013)\n",
      "reciprocal_best_rank: 0.84293 (+/-0.29380)\n",
      "reciprocal_average_rank: 0.33868 (+/-0.22227)\n",
      "\n",
      "Epoch 17/50...\n"
     ]
    },
    {
     "data": {
      "application/vnd.jupyter.widget-view+json": {
       "model_id": "1505cf348668466d89718c2f46cbbf7c",
       "version_major": 2,
       "version_minor": 0
      },
      "text/plain": [
       "HBox(children=(FloatProgress(value=0.0, max=858.0), HTML(value='')))"
      ]
     },
     "metadata": {},
     "output_type": "display_data"
    },
    {
     "name": "stdout",
     "output_type": "stream",
     "text": [
      "\n",
      "Evaluation on the valid loader...\n"
     ]
    },
    {
     "data": {
      "application/vnd.jupyter.widget-view+json": {
       "model_id": "d5e72b7983444e9bb74044ce9d81729a",
       "version_major": 2,
       "version_minor": 0
      },
      "text/plain": [
       "HBox(children=(FloatProgress(value=0.0, max=430.0), HTML(value='')))"
      ]
     },
     "metadata": {},
     "output_type": "display_data"
    },
    {
     "name": "stdout",
     "output_type": "stream",
     "text": [
      "\n",
      "average_precision: 0.67017 (+/-0.26004)\n",
      "precision_at_10: 0.22860 (+/-0.09148)\n",
      "recall_at_10: 0.84058 (+/-0.23924)\n",
      "ndcg_at_10: 0.74877 (+/-0.24247)\n",
      "reciprocal_best_rank: 0.82775 (+/-0.29809)\n",
      "reciprocal_average_rank: 0.30386 (+/-0.20391)\n",
      "\n",
      "Evaluation on the test loader...\n"
     ]
    },
    {
     "data": {
      "application/vnd.jupyter.widget-view+json": {
       "model_id": "70484182b2f04a15bbd3aa7d8c57ba56",
       "version_major": 2,
       "version_minor": 0
      },
      "text/plain": [
       "HBox(children=(FloatProgress(value=0.0, max=430.0), HTML(value='')))"
      ]
     },
     "metadata": {},
     "output_type": "display_data"
    },
    {
     "name": "stdout",
     "output_type": "stream",
     "text": [
      "\n",
      "average_precision: 0.70160 (+/-0.27062)\n",
      "precision_at_10: 0.23047 (+/-0.09389)\n",
      "recall_at_10: 0.85957 (+/-0.23853)\n",
      "ndcg_at_10: 0.77384 (+/-0.25075)\n",
      "reciprocal_best_rank: 0.84477 (+/-0.29248)\n",
      "reciprocal_average_rank: 0.33890 (+/-0.22216)\n",
      "\n",
      "Epoch 18/50...\n"
     ]
    },
    {
     "data": {
      "application/vnd.jupyter.widget-view+json": {
       "model_id": "46547cf9245b41cea5f037eca3152441",
       "version_major": 2,
       "version_minor": 0
      },
      "text/plain": [
       "HBox(children=(FloatProgress(value=0.0, max=858.0), HTML(value='')))"
      ]
     },
     "metadata": {},
     "output_type": "display_data"
    },
    {
     "name": "stdout",
     "output_type": "stream",
     "text": [
      "\n",
      "Evaluation on the valid loader...\n"
     ]
    },
    {
     "data": {
      "application/vnd.jupyter.widget-view+json": {
       "model_id": "eae56c0a6dd14b0e996cf09488faadf6",
       "version_major": 2,
       "version_minor": 0
      },
      "text/plain": [
       "HBox(children=(FloatProgress(value=0.0, max=430.0), HTML(value='')))"
      ]
     },
     "metadata": {},
     "output_type": "display_data"
    },
    {
     "name": "stdout",
     "output_type": "stream",
     "text": [
      "\n",
      "average_precision: 0.66958 (+/-0.25953)\n",
      "precision_at_10: 0.22907 (+/-0.09107)\n",
      "recall_at_10: 0.84291 (+/-0.23698)\n",
      "ndcg_at_10: 0.74919 (+/-0.24114)\n",
      "reciprocal_best_rank: 0.82759 (+/-0.29830)\n",
      "reciprocal_average_rank: 0.30317 (+/-0.20313)\n",
      "\n",
      "Evaluation on the test loader...\n"
     ]
    },
    {
     "data": {
      "application/vnd.jupyter.widget-view+json": {
       "model_id": "6c549d9994174c4ebe8edc3a773b7a61",
       "version_major": 2,
       "version_minor": 0
      },
      "text/plain": [
       "HBox(children=(FloatProgress(value=0.0, max=430.0), HTML(value='')))"
      ]
     },
     "metadata": {},
     "output_type": "display_data"
    },
    {
     "name": "stdout",
     "output_type": "stream",
     "text": [
      "\n",
      "average_precision: 0.70262 (+/-0.27101)\n",
      "precision_at_10: 0.23047 (+/-0.09463)\n",
      "recall_at_10: 0.85919 (+/-0.24247)\n",
      "ndcg_at_10: 0.77449 (+/-0.25228)\n",
      "reciprocal_best_rank: 0.84665 (+/-0.29244)\n",
      "reciprocal_average_rank: 0.33996 (+/-0.22252)\n",
      "\n",
      "Epoch 19/50...\n"
     ]
    },
    {
     "data": {
      "application/vnd.jupyter.widget-view+json": {
       "model_id": "c9fbf54495244d5089aff8f0c8ab702b",
       "version_major": 2,
       "version_minor": 0
      },
      "text/plain": [
       "HBox(children=(FloatProgress(value=0.0, max=858.0), HTML(value='')))"
      ]
     },
     "metadata": {},
     "output_type": "display_data"
    },
    {
     "name": "stdout",
     "output_type": "stream",
     "text": [
      "\n",
      "Evaluation on the valid loader...\n"
     ]
    },
    {
     "data": {
      "application/vnd.jupyter.widget-view+json": {
       "model_id": "43ab833385a745b9b8927e19c9d06d1a",
       "version_major": 2,
       "version_minor": 0
      },
      "text/plain": [
       "HBox(children=(FloatProgress(value=0.0, max=430.0), HTML(value='')))"
      ]
     },
     "metadata": {},
     "output_type": "display_data"
    },
    {
     "name": "stdout",
     "output_type": "stream",
     "text": [
      "\n",
      "average_precision: 0.67090 (+/-0.26004)\n",
      "precision_at_10: 0.22953 (+/-0.09092)\n",
      "recall_at_10: 0.84465 (+/-0.23598)\n",
      "ndcg_at_10: 0.75045 (+/-0.24072)\n",
      "reciprocal_best_rank: 0.82721 (+/-0.29725)\n",
      "reciprocal_average_rank: 0.30492 (+/-0.20452)\n",
      "\n",
      "Evaluation on the test loader...\n"
     ]
    },
    {
     "data": {
      "application/vnd.jupyter.widget-view+json": {
       "model_id": "3e400817f97e48689a9fc5bd3c81f7e3",
       "version_major": 2,
       "version_minor": 0
      },
      "text/plain": [
       "HBox(children=(FloatProgress(value=0.0, max=430.0), HTML(value='')))"
      ]
     },
     "metadata": {},
     "output_type": "display_data"
    },
    {
     "name": "stdout",
     "output_type": "stream",
     "text": [
      "\n",
      "average_precision: 0.70205 (+/-0.27094)\n",
      "precision_at_10: 0.23047 (+/-0.09439)\n",
      "recall_at_10: 0.85957 (+/-0.24202)\n",
      "ndcg_at_10: 0.77381 (+/-0.25146)\n",
      "reciprocal_best_rank: 0.84412 (+/-0.29359)\n",
      "reciprocal_average_rank: 0.34018 (+/-0.22229)\n",
      "\n",
      "Epoch 20/50...\n"
     ]
    },
    {
     "data": {
      "application/vnd.jupyter.widget-view+json": {
       "model_id": "601af62b16b04d06a8588c448650efd2",
       "version_major": 2,
       "version_minor": 0
      },
      "text/plain": [
       "HBox(children=(FloatProgress(value=0.0, max=858.0), HTML(value='')))"
      ]
     },
     "metadata": {},
     "output_type": "display_data"
    },
    {
     "name": "stdout",
     "output_type": "stream",
     "text": [
      "\n",
      "Evaluation on the valid loader...\n"
     ]
    },
    {
     "data": {
      "application/vnd.jupyter.widget-view+json": {
       "model_id": "95dd18b435ec4cb58fcc4b752d56eaea",
       "version_major": 2,
       "version_minor": 0
      },
      "text/plain": [
       "HBox(children=(FloatProgress(value=0.0, max=430.0), HTML(value='')))"
      ]
     },
     "metadata": {},
     "output_type": "display_data"
    },
    {
     "name": "stdout",
     "output_type": "stream",
     "text": [
      "\n",
      "average_precision: 0.67167 (+/-0.25945)\n",
      "precision_at_10: 0.22953 (+/-0.08990)\n",
      "recall_at_10: 0.84562 (+/-0.23113)\n",
      "ndcg_at_10: 0.75123 (+/-0.23801)\n",
      "reciprocal_best_rank: 0.82797 (+/-0.29570)\n",
      "reciprocal_average_rank: 0.30588 (+/-0.20442)\n",
      "\n",
      "Evaluation on the test loader...\n"
     ]
    },
    {
     "data": {
      "application/vnd.jupyter.widget-view+json": {
       "model_id": "d44a661e19494be1afc097c2fe99d3fe",
       "version_major": 2,
       "version_minor": 0
      },
      "text/plain": [
       "HBox(children=(FloatProgress(value=0.0, max=430.0), HTML(value='')))"
      ]
     },
     "metadata": {},
     "output_type": "display_data"
    },
    {
     "name": "stdout",
     "output_type": "stream",
     "text": [
      "\n",
      "average_precision: 0.70164 (+/-0.27068)\n",
      "precision_at_10: 0.23093 (+/-0.09324)\n",
      "recall_at_10: 0.86267 (+/-0.23844)\n",
      "ndcg_at_10: 0.77373 (+/-0.25004)\n",
      "reciprocal_best_rank: 0.84047 (+/-0.29468)\n",
      "reciprocal_average_rank: 0.34025 (+/-0.21955)\n",
      "\n",
      "Epoch 21/50...\n"
     ]
    },
    {
     "data": {
      "application/vnd.jupyter.widget-view+json": {
       "model_id": "f136c0b457a747a5b5caac07f2c55740",
       "version_major": 2,
       "version_minor": 0
      },
      "text/plain": [
       "HBox(children=(FloatProgress(value=0.0, max=858.0), HTML(value='')))"
      ]
     },
     "metadata": {},
     "output_type": "display_data"
    },
    {
     "name": "stdout",
     "output_type": "stream",
     "text": [
      "\n",
      "Evaluation on the valid loader...\n"
     ]
    },
    {
     "data": {
      "application/vnd.jupyter.widget-view+json": {
       "model_id": "3e90d4d4e1e843cdb0769c3df981bde6",
       "version_major": 2,
       "version_minor": 0
      },
      "text/plain": [
       "HBox(children=(FloatProgress(value=0.0, max=430.0), HTML(value='')))"
      ]
     },
     "metadata": {},
     "output_type": "display_data"
    },
    {
     "name": "stdout",
     "output_type": "stream",
     "text": [
      "\n",
      "average_precision: 0.67285 (+/-0.25933)\n",
      "precision_at_10: 0.22907 (+/-0.09005)\n",
      "recall_at_10: 0.84388 (+/-0.23216)\n",
      "ndcg_at_10: 0.75147 (+/-0.23887)\n",
      "reciprocal_best_rank: 0.83012 (+/-0.29553)\n",
      "reciprocal_average_rank: 0.30627 (+/-0.20483)\n",
      "\n",
      "Evaluation on the test loader...\n"
     ]
    },
    {
     "data": {
      "application/vnd.jupyter.widget-view+json": {
       "model_id": "e306408178504282a24feb7add680736",
       "version_major": 2,
       "version_minor": 0
      },
      "text/plain": [
       "HBox(children=(FloatProgress(value=0.0, max=430.0), HTML(value='')))"
      ]
     },
     "metadata": {},
     "output_type": "display_data"
    },
    {
     "name": "stdout",
     "output_type": "stream",
     "text": [
      "\n",
      "average_precision: 0.70219 (+/-0.27023)\n",
      "precision_at_10: 0.23070 (+/-0.09320)\n",
      "recall_at_10: 0.86190 (+/-0.23853)\n",
      "ndcg_at_10: 0.77394 (+/-0.24968)\n",
      "reciprocal_best_rank: 0.84155 (+/-0.29267)\n",
      "reciprocal_average_rank: 0.34076 (+/-0.22112)\n",
      "\n",
      "Epoch 22/50...\n"
     ]
    },
    {
     "data": {
      "application/vnd.jupyter.widget-view+json": {
       "model_id": "ac14fe3e0a4b49c2ab71ca33b22b5957",
       "version_major": 2,
       "version_minor": 0
      },
      "text/plain": [
       "HBox(children=(FloatProgress(value=0.0, max=858.0), HTML(value='')))"
      ]
     },
     "metadata": {},
     "output_type": "display_data"
    },
    {
     "name": "stdout",
     "output_type": "stream",
     "text": [
      "\n",
      "Evaluation on the valid loader...\n"
     ]
    },
    {
     "data": {
      "application/vnd.jupyter.widget-view+json": {
       "model_id": "6f32f1053cbd474998555559c963d669",
       "version_major": 2,
       "version_minor": 0
      },
      "text/plain": [
       "HBox(children=(FloatProgress(value=0.0, max=430.0), HTML(value='')))"
      ]
     },
     "metadata": {},
     "output_type": "display_data"
    },
    {
     "name": "stdout",
     "output_type": "stream",
     "text": [
      "\n",
      "average_precision: 0.67354 (+/-0.25909)\n",
      "precision_at_10: 0.22953 (+/-0.09015)\n",
      "recall_at_10: 0.84581 (+/-0.23414)\n",
      "ndcg_at_10: 0.75251 (+/-0.23898)\n",
      "reciprocal_best_rank: 0.83023 (+/-0.29558)\n",
      "reciprocal_average_rank: 0.30691 (+/-0.20493)\n",
      "\n",
      "Evaluation on the test loader...\n"
     ]
    },
    {
     "data": {
      "application/vnd.jupyter.widget-view+json": {
       "model_id": "a1c95a9a997a42dbb23a87eb7bc60458",
       "version_major": 2,
       "version_minor": 0
      },
      "text/plain": [
       "HBox(children=(FloatProgress(value=0.0, max=430.0), HTML(value='')))"
      ]
     },
     "metadata": {},
     "output_type": "display_data"
    },
    {
     "name": "stdout",
     "output_type": "stream",
     "text": [
      "\n",
      "average_precision: 0.70053 (+/-0.27117)\n",
      "precision_at_10: 0.23093 (+/-0.09274)\n",
      "recall_at_10: 0.86306 (+/-0.23553)\n",
      "ndcg_at_10: 0.77316 (+/-0.24918)\n",
      "reciprocal_best_rank: 0.84006 (+/-0.29366)\n",
      "reciprocal_average_rank: 0.34000 (+/-0.22141)\n",
      "\n",
      "Epoch 23/50...\n"
     ]
    },
    {
     "data": {
      "application/vnd.jupyter.widget-view+json": {
       "model_id": "8468a8122d3c43c9b1c38eb80a85645a",
       "version_major": 2,
       "version_minor": 0
      },
      "text/plain": [
       "HBox(children=(FloatProgress(value=0.0, max=858.0), HTML(value='')))"
      ]
     },
     "metadata": {},
     "output_type": "display_data"
    },
    {
     "name": "stdout",
     "output_type": "stream",
     "text": [
      "\n",
      "Evaluation on the valid loader...\n"
     ]
    },
    {
     "data": {
      "application/vnd.jupyter.widget-view+json": {
       "model_id": "f58b23fad76f4208a840bdc2063bad02",
       "version_major": 2,
       "version_minor": 0
      },
      "text/plain": [
       "HBox(children=(FloatProgress(value=0.0, max=430.0), HTML(value='')))"
      ]
     },
     "metadata": {},
     "output_type": "display_data"
    },
    {
     "name": "stdout",
     "output_type": "stream",
     "text": [
      "\n",
      "average_precision: 0.67297 (+/-0.25893)\n",
      "precision_at_10: 0.22930 (+/-0.09036)\n",
      "recall_at_10: 0.84465 (+/-0.23461)\n",
      "ndcg_at_10: 0.75155 (+/-0.23895)\n",
      "reciprocal_best_rank: 0.82894 (+/-0.29619)\n",
      "reciprocal_average_rank: 0.30657 (+/-0.20463)\n",
      "\n",
      "Evaluation on the test loader...\n"
     ]
    },
    {
     "data": {
      "application/vnd.jupyter.widget-view+json": {
       "model_id": "cf64ca0e3b44495c97c9ba55096d34ec",
       "version_major": 2,
       "version_minor": 0
      },
      "text/plain": [
       "HBox(children=(FloatProgress(value=0.0, max=430.0), HTML(value='')))"
      ]
     },
     "metadata": {},
     "output_type": "display_data"
    },
    {
     "name": "stdout",
     "output_type": "stream",
     "text": [
      "\n",
      "average_precision: 0.70011 (+/-0.26988)\n",
      "precision_at_10: 0.23116 (+/-0.09279)\n",
      "recall_at_10: 0.86384 (+/-0.23543)\n",
      "ndcg_at_10: 0.77335 (+/-0.24831)\n",
      "reciprocal_best_rank: 0.84047 (+/-0.29307)\n",
      "reciprocal_average_rank: 0.33909 (+/-0.21885)\n",
      "\n",
      "Epoch 24/50...\n"
     ]
    },
    {
     "data": {
      "application/vnd.jupyter.widget-view+json": {
       "model_id": "a905a7ff96af4d21bdd5a3324336bbe8",
       "version_major": 2,
       "version_minor": 0
      },
      "text/plain": [
       "HBox(children=(FloatProgress(value=0.0, max=858.0), HTML(value='')))"
      ]
     },
     "metadata": {},
     "output_type": "display_data"
    },
    {
     "name": "stdout",
     "output_type": "stream",
     "text": [
      "\n",
      "Evaluation on the valid loader...\n"
     ]
    },
    {
     "data": {
      "application/vnd.jupyter.widget-view+json": {
       "model_id": "b3ffa850daf6450f98bcdc36ca7a0de3",
       "version_major": 2,
       "version_minor": 0
      },
      "text/plain": [
       "HBox(children=(FloatProgress(value=0.0, max=430.0), HTML(value='')))"
      ]
     },
     "metadata": {},
     "output_type": "display_data"
    },
    {
     "name": "stdout",
     "output_type": "stream",
     "text": [
      "\n",
      "average_precision: 0.67360 (+/-0.25841)\n",
      "precision_at_10: 0.22814 (+/-0.08983)\n",
      "recall_at_10: 0.84097 (+/-0.23548)\n",
      "ndcg_at_10: 0.75073 (+/-0.23927)\n",
      "reciprocal_best_rank: 0.83046 (+/-0.29540)\n",
      "reciprocal_average_rank: 0.30648 (+/-0.20465)\n",
      "\n",
      "Evaluation on the test loader...\n"
     ]
    },
    {
     "data": {
      "application/vnd.jupyter.widget-view+json": {
       "model_id": "2d35f97f158f42b297c649975498a8e5",
       "version_major": 2,
       "version_minor": 0
      },
      "text/plain": [
       "HBox(children=(FloatProgress(value=0.0, max=430.0), HTML(value='')))"
      ]
     },
     "metadata": {},
     "output_type": "display_data"
    },
    {
     "name": "stdout",
     "output_type": "stream",
     "text": [
      "\n",
      "average_precision: 0.70100 (+/-0.26996)\n",
      "precision_at_10: 0.23093 (+/-0.09274)\n",
      "recall_at_10: 0.86306 (+/-0.23553)\n",
      "ndcg_at_10: 0.77383 (+/-0.24853)\n",
      "reciprocal_best_rank: 0.84264 (+/-0.29272)\n",
      "reciprocal_average_rank: 0.33938 (+/-0.21893)\n",
      "\n",
      "Epoch 25/50...\n"
     ]
    },
    {
     "data": {
      "application/vnd.jupyter.widget-view+json": {
       "model_id": "09bdbf15900f4918ab4ebbfe59cb1b9f",
       "version_major": 2,
       "version_minor": 0
      },
      "text/plain": [
       "HBox(children=(FloatProgress(value=0.0, max=858.0), HTML(value='')))"
      ]
     },
     "metadata": {},
     "output_type": "display_data"
    },
    {
     "name": "stdout",
     "output_type": "stream",
     "text": [
      "\n",
      "Evaluation on the valid loader...\n"
     ]
    },
    {
     "data": {
      "application/vnd.jupyter.widget-view+json": {
       "model_id": "708613fc01784917961b6a894a0644f7",
       "version_major": 2,
       "version_minor": 0
      },
      "text/plain": [
       "HBox(children=(FloatProgress(value=0.0, max=430.0), HTML(value='')))"
      ]
     },
     "metadata": {},
     "output_type": "display_data"
    },
    {
     "name": "stdout",
     "output_type": "stream",
     "text": [
      "\n",
      "average_precision: 0.67283 (+/-0.25828)\n",
      "precision_at_10: 0.22860 (+/-0.08968)\n",
      "recall_at_10: 0.84271 (+/-0.23449)\n",
      "ndcg_at_10: 0.75077 (+/-0.23891)\n",
      "reciprocal_best_rank: 0.82946 (+/-0.29567)\n",
      "reciprocal_average_rank: 0.30598 (+/-0.20444)\n",
      "\n",
      "Evaluation on the test loader...\n"
     ]
    },
    {
     "data": {
      "application/vnd.jupyter.widget-view+json": {
       "model_id": "89ae3e22939a4f12b825439bc251b5cc",
       "version_major": 2,
       "version_minor": 0
      },
      "text/plain": [
       "HBox(children=(FloatProgress(value=0.0, max=430.0), HTML(value='')))"
      ]
     },
     "metadata": {},
     "output_type": "display_data"
    },
    {
     "name": "stdout",
     "output_type": "stream",
     "text": [
      "\n",
      "average_precision: 0.70083 (+/-0.27031)\n",
      "precision_at_10: 0.23093 (+/-0.09274)\n",
      "recall_at_10: 0.86306 (+/-0.23553)\n",
      "ndcg_at_10: 0.77353 (+/-0.24866)\n",
      "reciprocal_best_rank: 0.84144 (+/-0.29317)\n",
      "reciprocal_average_rank: 0.33935 (+/-0.21900)\n",
      "\n",
      "Epoch 26/50...\n"
     ]
    },
    {
     "data": {
      "application/vnd.jupyter.widget-view+json": {
       "model_id": "5de93088f1194daabc4838105cbe6074",
       "version_major": 2,
       "version_minor": 0
      },
      "text/plain": [
       "HBox(children=(FloatProgress(value=0.0, max=858.0), HTML(value='')))"
      ]
     },
     "metadata": {},
     "output_type": "display_data"
    },
    {
     "name": "stdout",
     "output_type": "stream",
     "text": [
      "\n",
      "Evaluation on the valid loader...\n"
     ]
    },
    {
     "data": {
      "application/vnd.jupyter.widget-view+json": {
       "model_id": "793836e40a41456e9e3694fca43bfec4",
       "version_major": 2,
       "version_minor": 0
      },
      "text/plain": [
       "HBox(children=(FloatProgress(value=0.0, max=430.0), HTML(value='')))"
      ]
     },
     "metadata": {},
     "output_type": "display_data"
    },
    {
     "name": "stdout",
     "output_type": "stream",
     "text": [
      "\n",
      "average_precision: 0.67258 (+/-0.25927)\n",
      "precision_at_10: 0.22860 (+/-0.09020)\n",
      "recall_at_10: 0.84252 (+/-0.23570)\n",
      "ndcg_at_10: 0.75052 (+/-0.24031)\n",
      "reciprocal_best_rank: 0.82906 (+/-0.29624)\n",
      "reciprocal_average_rank: 0.30579 (+/-0.20443)\n",
      "\n",
      "Evaluation on the test loader...\n"
     ]
    },
    {
     "data": {
      "application/vnd.jupyter.widget-view+json": {
       "model_id": "a189aed4b09e42cea67bbabf94b2455a",
       "version_major": 2,
       "version_minor": 0
      },
      "text/plain": [
       "HBox(children=(FloatProgress(value=0.0, max=430.0), HTML(value='')))"
      ]
     },
     "metadata": {},
     "output_type": "display_data"
    },
    {
     "name": "stdout",
     "output_type": "stream",
     "text": [
      "\n",
      "average_precision: 0.69974 (+/-0.27032)\n",
      "precision_at_10: 0.23116 (+/-0.09354)\n",
      "recall_at_10: 0.86306 (+/-0.23614)\n",
      "ndcg_at_10: 0.77280 (+/-0.24862)\n",
      "reciprocal_best_rank: 0.83997 (+/-0.29391)\n",
      "reciprocal_average_rank: 0.33869 (+/-0.21888)\n",
      "\n",
      "Epoch 27/50...\n"
     ]
    },
    {
     "data": {
      "application/vnd.jupyter.widget-view+json": {
       "model_id": "6dc0e4a0bed14ebc9b0c8964ab994c3d",
       "version_major": 2,
       "version_minor": 0
      },
      "text/plain": [
       "HBox(children=(FloatProgress(value=0.0, max=858.0), HTML(value='')))"
      ]
     },
     "metadata": {},
     "output_type": "display_data"
    },
    {
     "name": "stdout",
     "output_type": "stream",
     "text": [
      "\n",
      "Evaluation on the valid loader...\n"
     ]
    },
    {
     "data": {
      "application/vnd.jupyter.widget-view+json": {
       "model_id": "1b12488a61ee4512ad57ed1d00c55e08",
       "version_major": 2,
       "version_minor": 0
      },
      "text/plain": [
       "HBox(children=(FloatProgress(value=0.0, max=430.0), HTML(value='')))"
      ]
     },
     "metadata": {},
     "output_type": "display_data"
    },
    {
     "name": "stdout",
     "output_type": "stream",
     "text": [
      "\n",
      "average_precision: 0.67227 (+/-0.25921)\n",
      "precision_at_10: 0.22860 (+/-0.09045)\n",
      "recall_at_10: 0.84233 (+/-0.23581)\n",
      "ndcg_at_10: 0.75024 (+/-0.24031)\n",
      "reciprocal_best_rank: 0.82890 (+/-0.29661)\n",
      "reciprocal_average_rank: 0.30562 (+/-0.20447)\n",
      "\n",
      "Evaluation on the test loader...\n"
     ]
    },
    {
     "data": {
      "application/vnd.jupyter.widget-view+json": {
       "model_id": "6892d2d4fddb48aebf2fa5ce42cf21bc",
       "version_major": 2,
       "version_minor": 0
      },
      "text/plain": [
       "HBox(children=(FloatProgress(value=0.0, max=430.0), HTML(value='')))"
      ]
     },
     "metadata": {},
     "output_type": "display_data"
    },
    {
     "name": "stdout",
     "output_type": "stream",
     "text": [
      "\n",
      "average_precision: 0.70001 (+/-0.27105)\n",
      "precision_at_10: 0.23116 (+/-0.09354)\n",
      "recall_at_10: 0.86306 (+/-0.23614)\n",
      "ndcg_at_10: 0.77269 (+/-0.24924)\n",
      "reciprocal_best_rank: 0.83875 (+/-0.29441)\n",
      "reciprocal_average_rank: 0.33941 (+/-0.21941)\n",
      "\n",
      "Epoch 28/50...\n"
     ]
    },
    {
     "data": {
      "application/vnd.jupyter.widget-view+json": {
       "model_id": "234d68ab072043628075f0b566d9ae75",
       "version_major": 2,
       "version_minor": 0
      },
      "text/plain": [
       "HBox(children=(FloatProgress(value=0.0, max=858.0), HTML(value='')))"
      ]
     },
     "metadata": {},
     "output_type": "display_data"
    },
    {
     "name": "stdout",
     "output_type": "stream",
     "text": [
      "\n",
      "Evaluation on the valid loader...\n"
     ]
    },
    {
     "data": {
      "application/vnd.jupyter.widget-view+json": {
       "model_id": "d689bf786ff741cc8a42f37af61c7225",
       "version_major": 2,
       "version_minor": 0
      },
      "text/plain": [
       "HBox(children=(FloatProgress(value=0.0, max=430.0), HTML(value='')))"
      ]
     },
     "metadata": {},
     "output_type": "display_data"
    },
    {
     "name": "stdout",
     "output_type": "stream",
     "text": [
      "\n",
      "average_precision: 0.67355 (+/-0.25873)\n",
      "precision_at_10: 0.22860 (+/-0.09045)\n",
      "recall_at_10: 0.84233 (+/-0.23581)\n",
      "ndcg_at_10: 0.75136 (+/-0.24012)\n",
      "reciprocal_best_rank: 0.83122 (+/-0.29598)\n",
      "reciprocal_average_rank: 0.30587 (+/-0.20417)\n",
      "\n",
      "Evaluation on the test loader...\n"
     ]
    },
    {
     "data": {
      "application/vnd.jupyter.widget-view+json": {
       "model_id": "5b39667292114630badd616669e2684a",
       "version_major": 2,
       "version_minor": 0
      },
      "text/plain": [
       "HBox(children=(FloatProgress(value=0.0, max=430.0), HTML(value='')))"
      ]
     },
     "metadata": {},
     "output_type": "display_data"
    },
    {
     "name": "stdout",
     "output_type": "stream",
     "text": [
      "\n",
      "average_precision: 0.70049 (+/-0.27117)\n",
      "precision_at_10: 0.23116 (+/-0.09354)\n",
      "recall_at_10: 0.86287 (+/-0.23566)\n",
      "ndcg_at_10: 0.77286 (+/-0.24956)\n",
      "reciprocal_best_rank: 0.83877 (+/-0.29437)\n",
      "reciprocal_average_rank: 0.33981 (+/-0.21947)\n",
      "\n",
      "Epoch 29/50...\n"
     ]
    },
    {
     "data": {
      "application/vnd.jupyter.widget-view+json": {
       "model_id": "33ae348407d5498bb6c5b8cc1ce3d4b6",
       "version_major": 2,
       "version_minor": 0
      },
      "text/plain": [
       "HBox(children=(FloatProgress(value=0.0, max=858.0), HTML(value='')))"
      ]
     },
     "metadata": {},
     "output_type": "display_data"
    },
    {
     "name": "stdout",
     "output_type": "stream",
     "text": [
      "\n",
      "Evaluation on the valid loader...\n"
     ]
    },
    {
     "data": {
      "application/vnd.jupyter.widget-view+json": {
       "model_id": "97e581681bd947598c56eaf1cfce8d24",
       "version_major": 2,
       "version_minor": 0
      },
      "text/plain": [
       "HBox(children=(FloatProgress(value=0.0, max=430.0), HTML(value='')))"
      ]
     },
     "metadata": {},
     "output_type": "display_data"
    },
    {
     "name": "stdout",
     "output_type": "stream",
     "text": [
      "\n",
      "average_precision: 0.67367 (+/-0.25847)\n",
      "precision_at_10: 0.22860 (+/-0.09020)\n",
      "recall_at_10: 0.84252 (+/-0.23570)\n",
      "ndcg_at_10: 0.75153 (+/-0.24028)\n",
      "reciprocal_best_rank: 0.83154 (+/-0.29538)\n",
      "reciprocal_average_rank: 0.30589 (+/-0.20409)\n",
      "\n",
      "Evaluation on the test loader...\n"
     ]
    },
    {
     "data": {
      "application/vnd.jupyter.widget-view+json": {
       "model_id": "678c034d13d44c55ab59e67fdc6ebb85",
       "version_major": 2,
       "version_minor": 0
      },
      "text/plain": [
       "HBox(children=(FloatProgress(value=0.0, max=430.0), HTML(value='')))"
      ]
     },
     "metadata": {},
     "output_type": "display_data"
    },
    {
     "name": "stdout",
     "output_type": "stream",
     "text": [
      "\n",
      "average_precision: 0.70014 (+/-0.27094)\n",
      "precision_at_10: 0.23070 (+/-0.09320)\n",
      "recall_at_10: 0.86151 (+/-0.23572)\n",
      "ndcg_at_10: 0.77222 (+/-0.24959)\n",
      "reciprocal_best_rank: 0.83915 (+/-0.29381)\n",
      "reciprocal_average_rank: 0.33929 (+/-0.21921)\n",
      "\n",
      "Epoch 30/50...\n"
     ]
    },
    {
     "data": {
      "application/vnd.jupyter.widget-view+json": {
       "model_id": "ee0d6f4bcae24f45b198153adef87fa0",
       "version_major": 2,
       "version_minor": 0
      },
      "text/plain": [
       "HBox(children=(FloatProgress(value=0.0, max=858.0), HTML(value='')))"
      ]
     },
     "metadata": {},
     "output_type": "display_data"
    },
    {
     "name": "stdout",
     "output_type": "stream",
     "text": [
      "\n",
      "Evaluation on the valid loader...\n"
     ]
    },
    {
     "data": {
      "application/vnd.jupyter.widget-view+json": {
       "model_id": "732a7209b0dd472f86a4740b737557db",
       "version_major": 2,
       "version_minor": 0
      },
      "text/plain": [
       "HBox(children=(FloatProgress(value=0.0, max=430.0), HTML(value='')))"
      ]
     },
     "metadata": {},
     "output_type": "display_data"
    },
    {
     "name": "stdout",
     "output_type": "stream",
     "text": [
      "\n",
      "average_precision: 0.67471 (+/-0.25824)\n",
      "precision_at_10: 0.22860 (+/-0.08994)\n",
      "recall_at_10: 0.84271 (+/-0.23559)\n",
      "ndcg_at_10: 0.75257 (+/-0.24027)\n",
      "reciprocal_best_rank: 0.83371 (+/-0.29505)\n",
      "reciprocal_average_rank: 0.30590 (+/-0.20415)\n",
      "\n",
      "Evaluation on the test loader...\n"
     ]
    },
    {
     "data": {
      "application/vnd.jupyter.widget-view+json": {
       "model_id": "158e5acb785a494081cf57d97a39d3fa",
       "version_major": 2,
       "version_minor": 0
      },
      "text/plain": [
       "HBox(children=(FloatProgress(value=0.0, max=430.0), HTML(value='')))"
      ]
     },
     "metadata": {},
     "output_type": "display_data"
    },
    {
     "name": "stdout",
     "output_type": "stream",
     "text": [
      "\n",
      "average_precision: 0.70016 (+/-0.27072)\n",
      "precision_at_10: 0.23116 (+/-0.09304)\n",
      "recall_at_10: 0.86345 (+/-0.23507)\n",
      "ndcg_at_10: 0.77304 (+/-0.24918)\n",
      "reciprocal_best_rank: 0.83975 (+/-0.29286)\n",
      "reciprocal_average_rank: 0.33909 (+/-0.21920)\n",
      "\n",
      "Epoch 31/50...\n"
     ]
    },
    {
     "data": {
      "application/vnd.jupyter.widget-view+json": {
       "model_id": "3d6c62dff28f4768bb4032c5517c9529",
       "version_major": 2,
       "version_minor": 0
      },
      "text/plain": [
       "HBox(children=(FloatProgress(value=0.0, max=858.0), HTML(value='')))"
      ]
     },
     "metadata": {},
     "output_type": "display_data"
    },
    {
     "name": "stdout",
     "output_type": "stream",
     "text": [
      "\n",
      "Evaluation on the valid loader...\n"
     ]
    },
    {
     "data": {
      "application/vnd.jupyter.widget-view+json": {
       "model_id": "b2dcdcc8b214496c8eef5993a7bb641c",
       "version_major": 2,
       "version_minor": 0
      },
      "text/plain": [
       "HBox(children=(FloatProgress(value=0.0, max=430.0), HTML(value='')))"
      ]
     },
     "metadata": {},
     "output_type": "display_data"
    },
    {
     "name": "stdout",
     "output_type": "stream",
     "text": [
      "\n",
      "average_precision: 0.67415 (+/-0.25951)\n",
      "precision_at_10: 0.22767 (+/-0.08997)\n",
      "recall_at_10: 0.83961 (+/-0.23760)\n",
      "ndcg_at_10: 0.75065 (+/-0.24197)\n",
      "reciprocal_best_rank: 0.83131 (+/-0.29581)\n",
      "reciprocal_average_rank: 0.30610 (+/-0.20473)\n",
      "\n",
      "Evaluation on the test loader...\n"
     ]
    },
    {
     "data": {
      "application/vnd.jupyter.widget-view+json": {
       "model_id": "ffe3fc338ed34c738e178318315310e3",
       "version_major": 2,
       "version_minor": 0
      },
      "text/plain": [
       "HBox(children=(FloatProgress(value=0.0, max=430.0), HTML(value='')))"
      ]
     },
     "metadata": {},
     "output_type": "display_data"
    },
    {
     "name": "stdout",
     "output_type": "stream",
     "text": [
      "\n",
      "average_precision: 0.70047 (+/-0.27086)\n",
      "precision_at_10: 0.23140 (+/-0.09259)\n",
      "recall_at_10: 0.86461 (+/-0.23201)\n",
      "ndcg_at_10: 0.77359 (+/-0.24817)\n",
      "reciprocal_best_rank: 0.83969 (+/-0.29298)\n",
      "reciprocal_average_rank: 0.33913 (+/-0.21916)\n",
      "\n",
      "Epoch 32/50...\n"
     ]
    },
    {
     "data": {
      "application/vnd.jupyter.widget-view+json": {
       "model_id": "dca8f06bb18c4be3978056b25eb74628",
       "version_major": 2,
       "version_minor": 0
      },
      "text/plain": [
       "HBox(children=(FloatProgress(value=0.0, max=858.0), HTML(value='')))"
      ]
     },
     "metadata": {},
     "output_type": "display_data"
    },
    {
     "name": "stdout",
     "output_type": "stream",
     "text": [
      "\n",
      "Evaluation on the valid loader...\n"
     ]
    },
    {
     "data": {
      "application/vnd.jupyter.widget-view+json": {
       "model_id": "fad3da9674a44747b054b6b55b051b9e",
       "version_major": 2,
       "version_minor": 0
      },
      "text/plain": [
       "HBox(children=(FloatProgress(value=0.0, max=430.0), HTML(value='')))"
      ]
     },
     "metadata": {},
     "output_type": "display_data"
    },
    {
     "name": "stdout",
     "output_type": "stream",
     "text": [
      "\n",
      "average_precision: 0.67296 (+/-0.25934)\n",
      "precision_at_10: 0.22767 (+/-0.09049)\n",
      "recall_at_10: 0.83903 (+/-0.23995)\n",
      "ndcg_at_10: 0.74962 (+/-0.24288)\n",
      "reciprocal_best_rank: 0.83007 (+/-0.29633)\n",
      "reciprocal_average_rank: 0.30484 (+/-0.20227)\n",
      "\n",
      "Evaluation on the test loader...\n"
     ]
    },
    {
     "data": {
      "application/vnd.jupyter.widget-view+json": {
       "model_id": "5bb14b13e8154ae99db1703cc6b2a575",
       "version_major": 2,
       "version_minor": 0
      },
      "text/plain": [
       "HBox(children=(FloatProgress(value=0.0, max=430.0), HTML(value='')))"
      ]
     },
     "metadata": {},
     "output_type": "display_data"
    },
    {
     "name": "stdout",
     "output_type": "stream",
     "text": [
      "\n",
      "average_precision: 0.70053 (+/-0.27108)\n",
      "precision_at_10: 0.23163 (+/-0.09238)\n",
      "recall_at_10: 0.86422 (+/-0.23136)\n",
      "ndcg_at_10: 0.77382 (+/-0.24819)\n",
      "reciprocal_best_rank: 0.84089 (+/-0.29254)\n",
      "reciprocal_average_rank: 0.33893 (+/-0.21918)\n",
      "\n",
      "Epoch 33/50...\n"
     ]
    },
    {
     "data": {
      "application/vnd.jupyter.widget-view+json": {
       "model_id": "040934fec62e46acb99d9da58d301ec8",
       "version_major": 2,
       "version_minor": 0
      },
      "text/plain": [
       "HBox(children=(FloatProgress(value=0.0, max=858.0), HTML(value='')))"
      ]
     },
     "metadata": {},
     "output_type": "display_data"
    },
    {
     "name": "stdout",
     "output_type": "stream",
     "text": [
      "\n",
      "Evaluation on the valid loader...\n"
     ]
    },
    {
     "data": {
      "application/vnd.jupyter.widget-view+json": {
       "model_id": "9f98061d13604c6db9819e893be27bc1",
       "version_major": 2,
       "version_minor": 0
      },
      "text/plain": [
       "HBox(children=(FloatProgress(value=0.0, max=430.0), HTML(value='')))"
      ]
     },
     "metadata": {},
     "output_type": "display_data"
    },
    {
     "name": "stdout",
     "output_type": "stream",
     "text": [
      "\n",
      "average_precision: 0.67400 (+/-0.25971)\n",
      "precision_at_10: 0.22698 (+/-0.09108)\n",
      "recall_at_10: 0.83554 (+/-0.24122)\n",
      "ndcg_at_10: 0.74927 (+/-0.24328)\n",
      "reciprocal_best_rank: 0.83148 (+/-0.29553)\n",
      "reciprocal_average_rank: 0.30611 (+/-0.20501)\n",
      "\n",
      "Evaluation on the test loader...\n"
     ]
    },
    {
     "data": {
      "application/vnd.jupyter.widget-view+json": {
       "model_id": "88f17c60978d4131b0c70e55022b66f9",
       "version_major": 2,
       "version_minor": 0
      },
      "text/plain": [
       "HBox(children=(FloatProgress(value=0.0, max=430.0), HTML(value='')))"
      ]
     },
     "metadata": {},
     "output_type": "display_data"
    },
    {
     "name": "stdout",
     "output_type": "stream",
     "text": [
      "\n",
      "average_precision: 0.70016 (+/-0.27198)\n",
      "precision_at_10: 0.23186 (+/-0.09218)\n",
      "recall_at_10: 0.86539 (+/-0.23079)\n",
      "ndcg_at_10: 0.77392 (+/-0.24852)\n",
      "reciprocal_best_rank: 0.84050 (+/-0.29311)\n",
      "reciprocal_average_rank: 0.33873 (+/-0.21939)\n",
      "\n",
      "Epoch 34/50...\n"
     ]
    },
    {
     "data": {
      "application/vnd.jupyter.widget-view+json": {
       "model_id": "fdfaf3c7fe424a879ed5594554c1d8b4",
       "version_major": 2,
       "version_minor": 0
      },
      "text/plain": [
       "HBox(children=(FloatProgress(value=0.0, max=858.0), HTML(value='')))"
      ]
     },
     "metadata": {},
     "output_type": "display_data"
    },
    {
     "name": "stdout",
     "output_type": "stream",
     "text": [
      "\n",
      "Evaluation on the valid loader...\n"
     ]
    },
    {
     "data": {
      "application/vnd.jupyter.widget-view+json": {
       "model_id": "99f777d5ccb944e8baaf34c4187ffa97",
       "version_major": 2,
       "version_minor": 0
      },
      "text/plain": [
       "HBox(children=(FloatProgress(value=0.0, max=430.0), HTML(value='')))"
      ]
     },
     "metadata": {},
     "output_type": "display_data"
    },
    {
     "name": "stdout",
     "output_type": "stream",
     "text": [
      "\n",
      "average_precision: 0.67331 (+/-0.26015)\n",
      "precision_at_10: 0.22698 (+/-0.09082)\n",
      "recall_at_10: 0.83612 (+/-0.24131)\n",
      "ndcg_at_10: 0.74879 (+/-0.24350)\n",
      "reciprocal_best_rank: 0.82993 (+/-0.29662)\n",
      "reciprocal_average_rank: 0.30592 (+/-0.20504)\n",
      "\n",
      "Evaluation on the test loader...\n"
     ]
    },
    {
     "data": {
      "application/vnd.jupyter.widget-view+json": {
       "model_id": "7c212c8e3a9a4fb09fd8eefa04d2ffd5",
       "version_major": 2,
       "version_minor": 0
      },
      "text/plain": [
       "HBox(children=(FloatProgress(value=0.0, max=430.0), HTML(value='')))"
      ]
     },
     "metadata": {},
     "output_type": "display_data"
    },
    {
     "name": "stdout",
     "output_type": "stream",
     "text": [
      "\n",
      "average_precision: 0.70103 (+/-0.27197)\n",
      "precision_at_10: 0.23186 (+/-0.09218)\n",
      "recall_at_10: 0.86539 (+/-0.23079)\n",
      "ndcg_at_10: 0.77480 (+/-0.24864)\n",
      "reciprocal_best_rank: 0.84280 (+/-0.29245)\n",
      "reciprocal_average_rank: 0.33901 (+/-0.21938)\n",
      "\n",
      "Epoch 35/50...\n"
     ]
    },
    {
     "data": {
      "application/vnd.jupyter.widget-view+json": {
       "model_id": "61e550c66e8a493b88fbadd8c9861b6e",
       "version_major": 2,
       "version_minor": 0
      },
      "text/plain": [
       "HBox(children=(FloatProgress(value=0.0, max=858.0), HTML(value='')))"
      ]
     },
     "metadata": {},
     "output_type": "display_data"
    },
    {
     "name": "stdout",
     "output_type": "stream",
     "text": [
      "\n",
      "Evaluation on the valid loader...\n"
     ]
    },
    {
     "data": {
      "application/vnd.jupyter.widget-view+json": {
       "model_id": "7a494b1eda2d4fc5a36fe9a20405ac93",
       "version_major": 2,
       "version_minor": 0
      },
      "text/plain": [
       "HBox(children=(FloatProgress(value=0.0, max=430.0), HTML(value='')))"
      ]
     },
     "metadata": {},
     "output_type": "display_data"
    },
    {
     "name": "stdout",
     "output_type": "stream",
     "text": [
      "\n",
      "average_precision: 0.67357 (+/-0.25999)\n",
      "precision_at_10: 0.22721 (+/-0.09088)\n",
      "recall_at_10: 0.83690 (+/-0.24130)\n",
      "ndcg_at_10: 0.74941 (+/-0.24330)\n",
      "reciprocal_best_rank: 0.83102 (+/-0.29648)\n",
      "reciprocal_average_rank: 0.30604 (+/-0.20502)\n",
      "\n",
      "Evaluation on the test loader...\n"
     ]
    },
    {
     "data": {
      "application/vnd.jupyter.widget-view+json": {
       "model_id": "2a2a7395deaf4893a84d064824dd17ee",
       "version_major": 2,
       "version_minor": 0
      },
      "text/plain": [
       "HBox(children=(FloatProgress(value=0.0, max=430.0), HTML(value='')))"
      ]
     },
     "metadata": {},
     "output_type": "display_data"
    },
    {
     "name": "stdout",
     "output_type": "stream",
     "text": [
      "\n",
      "average_precision: 0.70105 (+/-0.27205)\n",
      "precision_at_10: 0.23140 (+/-0.09234)\n",
      "recall_at_10: 0.86364 (+/-0.23196)\n",
      "ndcg_at_10: 0.77416 (+/-0.24923)\n",
      "reciprocal_best_rank: 0.84275 (+/-0.29256)\n",
      "reciprocal_average_rank: 0.33893 (+/-0.21945)\n",
      "\n",
      "Epoch 36/50...\n"
     ]
    },
    {
     "data": {
      "application/vnd.jupyter.widget-view+json": {
       "model_id": "cd96a8d9c5a14f35ab90723d232fec01",
       "version_major": 2,
       "version_minor": 0
      },
      "text/plain": [
       "HBox(children=(FloatProgress(value=0.0, max=858.0), HTML(value='')))"
      ]
     },
     "metadata": {},
     "output_type": "display_data"
    },
    {
     "name": "stdout",
     "output_type": "stream",
     "text": [
      "\n",
      "Evaluation on the valid loader...\n"
     ]
    },
    {
     "data": {
      "application/vnd.jupyter.widget-view+json": {
       "model_id": "722bd02031254b08a1f293b93b1192d3",
       "version_major": 2,
       "version_minor": 0
      },
      "text/plain": [
       "HBox(children=(FloatProgress(value=0.0, max=430.0), HTML(value='')))"
      ]
     },
     "metadata": {},
     "output_type": "display_data"
    },
    {
     "name": "stdout",
     "output_type": "stream",
     "text": [
      "\n",
      "average_precision: 0.67424 (+/-0.25928)\n",
      "precision_at_10: 0.22721 (+/-0.09088)\n",
      "recall_at_10: 0.83690 (+/-0.24130)\n",
      "ndcg_at_10: 0.75005 (+/-0.24279)\n",
      "reciprocal_best_rank: 0.83224 (+/-0.29606)\n",
      "reciprocal_average_rank: 0.30631 (+/-0.20489)\n",
      "\n",
      "Evaluation on the test loader...\n"
     ]
    },
    {
     "data": {
      "application/vnd.jupyter.widget-view+json": {
       "model_id": "ce3c14bbbf7e4858b03fc2e11ad14804",
       "version_major": 2,
       "version_minor": 0
      },
      "text/plain": [
       "HBox(children=(FloatProgress(value=0.0, max=430.0), HTML(value='')))"
      ]
     },
     "metadata": {},
     "output_type": "display_data"
    },
    {
     "name": "stdout",
     "output_type": "stream",
     "text": [
      "\n",
      "average_precision: 0.70205 (+/-0.27289)\n",
      "precision_at_10: 0.23093 (+/-0.09274)\n",
      "recall_at_10: 0.86132 (+/-0.23309)\n",
      "ndcg_at_10: 0.77396 (+/-0.25103)\n",
      "reciprocal_best_rank: 0.84334 (+/-0.29292)\n",
      "reciprocal_average_rank: 0.34028 (+/-0.22174)\n",
      "\n",
      "Epoch 37/50...\n"
     ]
    },
    {
     "data": {
      "application/vnd.jupyter.widget-view+json": {
       "model_id": "06d06a06bea74249b4484b81629d84ad",
       "version_major": 2,
       "version_minor": 0
      },
      "text/plain": [
       "HBox(children=(FloatProgress(value=0.0, max=858.0), HTML(value='')))"
      ]
     },
     "metadata": {},
     "output_type": "display_data"
    },
    {
     "name": "stdout",
     "output_type": "stream",
     "text": [
      "\n",
      "Evaluation on the valid loader...\n"
     ]
    },
    {
     "data": {
      "application/vnd.jupyter.widget-view+json": {
       "model_id": "e672e21e0c3f40ec8502dcabe889f50a",
       "version_major": 2,
       "version_minor": 0
      },
      "text/plain": [
       "HBox(children=(FloatProgress(value=0.0, max=430.0), HTML(value='')))"
      ]
     },
     "metadata": {},
     "output_type": "display_data"
    },
    {
     "name": "stdout",
     "output_type": "stream",
     "text": [
      "\n",
      "average_precision: 0.67436 (+/-0.25902)\n",
      "precision_at_10: 0.22721 (+/-0.09063)\n",
      "recall_at_10: 0.83729 (+/-0.24089)\n",
      "ndcg_at_10: 0.75029 (+/-0.24223)\n",
      "reciprocal_best_rank: 0.83244 (+/-0.29561)\n",
      "reciprocal_average_rank: 0.30637 (+/-0.20490)\n",
      "\n",
      "Evaluation on the test loader...\n"
     ]
    },
    {
     "data": {
      "application/vnd.jupyter.widget-view+json": {
       "model_id": "caf3251414ab45f2b43727c790b8d0d8",
       "version_major": 2,
       "version_minor": 0
      },
      "text/plain": [
       "HBox(children=(FloatProgress(value=0.0, max=430.0), HTML(value='')))"
      ]
     },
     "metadata": {},
     "output_type": "display_data"
    },
    {
     "name": "stdout",
     "output_type": "stream",
     "text": [
      "\n",
      "average_precision: 0.70222 (+/-0.27286)\n",
      "precision_at_10: 0.23093 (+/-0.09274)\n",
      "recall_at_10: 0.86132 (+/-0.23309)\n",
      "ndcg_at_10: 0.77407 (+/-0.25104)\n",
      "reciprocal_best_rank: 0.84346 (+/-0.29273)\n",
      "reciprocal_average_rank: 0.34057 (+/-0.22182)\n",
      "\n",
      "Epoch 38/50...\n"
     ]
    },
    {
     "data": {
      "application/vnd.jupyter.widget-view+json": {
       "model_id": "b5fe1e3f1b254689b3d228847c3a50a8",
       "version_major": 2,
       "version_minor": 0
      },
      "text/plain": [
       "HBox(children=(FloatProgress(value=0.0, max=858.0), HTML(value='')))"
      ]
     },
     "metadata": {},
     "output_type": "display_data"
    },
    {
     "name": "stdout",
     "output_type": "stream",
     "text": [
      "\n",
      "Evaluation on the valid loader...\n"
     ]
    },
    {
     "data": {
      "application/vnd.jupyter.widget-view+json": {
       "model_id": "435e2e81afba4b61a30e2178b863b238",
       "version_major": 2,
       "version_minor": 0
      },
      "text/plain": [
       "HBox(children=(FloatProgress(value=0.0, max=430.0), HTML(value='')))"
      ]
     },
     "metadata": {},
     "output_type": "display_data"
    },
    {
     "name": "stdout",
     "output_type": "stream",
     "text": [
      "\n",
      "average_precision: 0.67398 (+/-0.25874)\n",
      "precision_at_10: 0.22721 (+/-0.09063)\n",
      "recall_at_10: 0.83729 (+/-0.24089)\n",
      "ndcg_at_10: 0.75012 (+/-0.24211)\n",
      "reciprocal_best_rank: 0.83244 (+/-0.29561)\n",
      "reciprocal_average_rank: 0.30609 (+/-0.20439)\n",
      "\n",
      "Evaluation on the test loader...\n"
     ]
    },
    {
     "data": {
      "application/vnd.jupyter.widget-view+json": {
       "model_id": "34b8ce5b23ff48f88e1044b6f2492cfa",
       "version_major": 2,
       "version_minor": 0
      },
      "text/plain": [
       "HBox(children=(FloatProgress(value=0.0, max=430.0), HTML(value='')))"
      ]
     },
     "metadata": {},
     "output_type": "display_data"
    },
    {
     "name": "stdout",
     "output_type": "stream",
     "text": [
      "\n",
      "average_precision: 0.70249 (+/-0.27284)\n",
      "precision_at_10: 0.23070 (+/-0.09270)\n",
      "recall_at_10: 0.86054 (+/-0.23318)\n",
      "ndcg_at_10: 0.77387 (+/-0.25089)\n",
      "reciprocal_best_rank: 0.84357 (+/-0.29254)\n",
      "reciprocal_average_rank: 0.34080 (+/-0.22190)\n",
      "\n",
      "Epoch 39/50...\n"
     ]
    },
    {
     "data": {
      "application/vnd.jupyter.widget-view+json": {
       "model_id": "f75d213a17264fdab7cd772c82d2ec0a",
       "version_major": 2,
       "version_minor": 0
      },
      "text/plain": [
       "HBox(children=(FloatProgress(value=0.0, max=858.0), HTML(value='')))"
      ]
     },
     "metadata": {},
     "output_type": "display_data"
    },
    {
     "name": "stdout",
     "output_type": "stream",
     "text": [
      "\n",
      "Evaluation on the valid loader...\n"
     ]
    },
    {
     "data": {
      "application/vnd.jupyter.widget-view+json": {
       "model_id": "6d7dc94050104051b6b544a2a000a923",
       "version_major": 2,
       "version_minor": 0
      },
      "text/plain": [
       "HBox(children=(FloatProgress(value=0.0, max=430.0), HTML(value='')))"
      ]
     },
     "metadata": {},
     "output_type": "display_data"
    },
    {
     "name": "stdout",
     "output_type": "stream",
     "text": [
      "\n",
      "average_precision: 0.67393 (+/-0.25907)\n",
      "precision_at_10: 0.22674 (+/-0.09076)\n",
      "recall_at_10: 0.83574 (+/-0.24198)\n",
      "ndcg_at_10: 0.74945 (+/-0.24282)\n",
      "reciprocal_best_rank: 0.83241 (+/-0.29568)\n",
      "reciprocal_average_rank: 0.30619 (+/-0.20450)\n",
      "\n",
      "Evaluation on the test loader...\n"
     ]
    },
    {
     "data": {
      "application/vnd.jupyter.widget-view+json": {
       "model_id": "2aa1c02a10e7462eaa7e3996f33cfb14",
       "version_major": 2,
       "version_minor": 0
      },
      "text/plain": [
       "HBox(children=(FloatProgress(value=0.0, max=430.0), HTML(value='')))"
      ]
     },
     "metadata": {},
     "output_type": "display_data"
    },
    {
     "name": "stdout",
     "output_type": "stream",
     "text": [
      "\n",
      "average_precision: 0.70340 (+/-0.27319)\n",
      "precision_at_10: 0.23070 (+/-0.09270)\n",
      "recall_at_10: 0.86054 (+/-0.23318)\n",
      "ndcg_at_10: 0.77437 (+/-0.25107)\n",
      "reciprocal_best_rank: 0.84397 (+/-0.29194)\n",
      "reciprocal_average_rank: 0.34176 (+/-0.22243)\n",
      "\n",
      "Epoch 40/50...\n"
     ]
    },
    {
     "data": {
      "application/vnd.jupyter.widget-view+json": {
       "model_id": "3b025e45aded40eba8af52d993f54cd7",
       "version_major": 2,
       "version_minor": 0
      },
      "text/plain": [
       "HBox(children=(FloatProgress(value=0.0, max=858.0), HTML(value='')))"
      ]
     },
     "metadata": {},
     "output_type": "display_data"
    },
    {
     "name": "stdout",
     "output_type": "stream",
     "text": [
      "\n",
      "Evaluation on the valid loader...\n"
     ]
    },
    {
     "data": {
      "application/vnd.jupyter.widget-view+json": {
       "model_id": "c09e2e2e9a504e7a861b0c61748f5259",
       "version_major": 2,
       "version_minor": 0
      },
      "text/plain": [
       "HBox(children=(FloatProgress(value=0.0, max=430.0), HTML(value='')))"
      ]
     },
     "metadata": {},
     "output_type": "display_data"
    },
    {
     "name": "stdout",
     "output_type": "stream",
     "text": [
      "\n",
      "average_precision: 0.67346 (+/-0.25949)\n",
      "precision_at_10: 0.22698 (+/-0.09057)\n",
      "recall_at_10: 0.83690 (+/-0.24157)\n",
      "ndcg_at_10: 0.74951 (+/-0.24300)\n",
      "reciprocal_best_rank: 0.83193 (+/-0.29642)\n",
      "reciprocal_average_rank: 0.30591 (+/-0.20448)\n",
      "\n",
      "Evaluation on the test loader...\n"
     ]
    },
    {
     "data": {
      "application/vnd.jupyter.widget-view+json": {
       "model_id": "228d3f54569348f1b4ce8df8eea3fb27",
       "version_major": 2,
       "version_minor": 0
      },
      "text/plain": [
       "HBox(children=(FloatProgress(value=0.0, max=430.0), HTML(value='')))"
      ]
     },
     "metadata": {},
     "output_type": "display_data"
    },
    {
     "name": "stdout",
     "output_type": "stream",
     "text": [
      "\n",
      "average_precision: 0.70348 (+/-0.27307)\n",
      "precision_at_10: 0.23116 (+/-0.09204)\n",
      "recall_at_10: 0.86287 (+/-0.22955)\n",
      "ndcg_at_10: 0.77520 (+/-0.24976)\n",
      "reciprocal_best_rank: 0.84399 (+/-0.29188)\n",
      "reciprocal_average_rank: 0.34176 (+/-0.22240)\n",
      "\n",
      "Epoch 41/50...\n"
     ]
    },
    {
     "data": {
      "application/vnd.jupyter.widget-view+json": {
       "model_id": "71473f1a58f64a80a7d3ef0027cf9262",
       "version_major": 2,
       "version_minor": 0
      },
      "text/plain": [
       "HBox(children=(FloatProgress(value=0.0, max=858.0), HTML(value='')))"
      ]
     },
     "metadata": {},
     "output_type": "display_data"
    },
    {
     "name": "stdout",
     "output_type": "stream",
     "text": [
      "\n",
      "Evaluation on the valid loader...\n"
     ]
    },
    {
     "data": {
      "application/vnd.jupyter.widget-view+json": {
       "model_id": "475f279f08c941d2b27790901d67818e",
       "version_major": 2,
       "version_minor": 0
      },
      "text/plain": [
       "HBox(children=(FloatProgress(value=0.0, max=430.0), HTML(value='')))"
      ]
     },
     "metadata": {},
     "output_type": "display_data"
    },
    {
     "name": "stdout",
     "output_type": "stream",
     "text": [
      "\n",
      "average_precision: 0.67312 (+/-0.25972)\n",
      "precision_at_10: 0.22744 (+/-0.09068)\n",
      "recall_at_10: 0.83826 (+/-0.24104)\n",
      "ndcg_at_10: 0.74970 (+/-0.24261)\n",
      "reciprocal_best_rank: 0.83080 (+/-0.29666)\n",
      "reciprocal_average_rank: 0.30591 (+/-0.20453)\n",
      "\n",
      "Evaluation on the test loader...\n"
     ]
    },
    {
     "data": {
      "application/vnd.jupyter.widget-view+json": {
       "model_id": "a165efe796be4f67be49709ce39ac095",
       "version_major": 2,
       "version_minor": 0
      },
      "text/plain": [
       "HBox(children=(FloatProgress(value=0.0, max=430.0), HTML(value='')))"
      ]
     },
     "metadata": {},
     "output_type": "display_data"
    },
    {
     "name": "stdout",
     "output_type": "stream",
     "text": [
      "\n",
      "average_precision: 0.70205 (+/-0.27327)\n",
      "precision_at_10: 0.23140 (+/-0.09234)\n",
      "recall_at_10: 0.86345 (+/-0.22958)\n",
      "ndcg_at_10: 0.77430 (+/-0.24986)\n",
      "reciprocal_best_rank: 0.84170 (+/-0.29256)\n",
      "reciprocal_average_rank: 0.34118 (+/-0.22211)\n",
      "\n",
      "Epoch 42/50...\n"
     ]
    },
    {
     "data": {
      "application/vnd.jupyter.widget-view+json": {
       "model_id": "cd093b465be642f7adbc70783ba792f8",
       "version_major": 2,
       "version_minor": 0
      },
      "text/plain": [
       "HBox(children=(FloatProgress(value=0.0, max=858.0), HTML(value='')))"
      ]
     },
     "metadata": {},
     "output_type": "display_data"
    },
    {
     "name": "stdout",
     "output_type": "stream",
     "text": [
      "\n",
      "Evaluation on the valid loader...\n"
     ]
    },
    {
     "data": {
      "application/vnd.jupyter.widget-view+json": {
       "model_id": "448f5e865b2c42e1aa88dbf6fae9c3fe",
       "version_major": 2,
       "version_minor": 0
      },
      "text/plain": [
       "HBox(children=(FloatProgress(value=0.0, max=430.0), HTML(value='')))"
      ]
     },
     "metadata": {},
     "output_type": "display_data"
    },
    {
     "name": "stdout",
     "output_type": "stream",
     "text": [
      "\n",
      "average_precision: 0.67347 (+/-0.26007)\n",
      "precision_at_10: 0.22744 (+/-0.09068)\n",
      "recall_at_10: 0.83826 (+/-0.24104)\n",
      "ndcg_at_10: 0.74985 (+/-0.24284)\n",
      "reciprocal_best_rank: 0.83076 (+/-0.29674)\n",
      "reciprocal_average_rank: 0.30632 (+/-0.20460)\n",
      "\n",
      "Evaluation on the test loader...\n"
     ]
    },
    {
     "data": {
      "application/vnd.jupyter.widget-view+json": {
       "model_id": "e93ba9c06c5c4b19a0263610b32a1326",
       "version_major": 2,
       "version_minor": 0
      },
      "text/plain": [
       "HBox(children=(FloatProgress(value=0.0, max=430.0), HTML(value='')))"
      ]
     },
     "metadata": {},
     "output_type": "display_data"
    },
    {
     "name": "stdout",
     "output_type": "stream",
     "text": [
      "\n",
      "average_precision: 0.70246 (+/-0.27270)\n",
      "precision_at_10: 0.23163 (+/-0.09213)\n",
      "recall_at_10: 0.86461 (+/-0.22900)\n",
      "ndcg_at_10: 0.77518 (+/-0.24884)\n",
      "reciprocal_best_rank: 0.84299 (+/-0.29189)\n",
      "reciprocal_average_rank: 0.34115 (+/-0.22202)\n",
      "\n",
      "Epoch 43/50...\n"
     ]
    },
    {
     "data": {
      "application/vnd.jupyter.widget-view+json": {
       "model_id": "0f53c57bfe1a47cc8c08ba6e55b9b543",
       "version_major": 2,
       "version_minor": 0
      },
      "text/plain": [
       "HBox(children=(FloatProgress(value=0.0, max=858.0), HTML(value='')))"
      ]
     },
     "metadata": {},
     "output_type": "display_data"
    },
    {
     "name": "stdout",
     "output_type": "stream",
     "text": [
      "\n",
      "Evaluation on the valid loader...\n"
     ]
    },
    {
     "data": {
      "application/vnd.jupyter.widget-view+json": {
       "model_id": "69304f0080534946bfaa6eb08dd29714",
       "version_major": 2,
       "version_minor": 0
      },
      "text/plain": [
       "HBox(children=(FloatProgress(value=0.0, max=430.0), HTML(value='')))"
      ]
     },
     "metadata": {},
     "output_type": "display_data"
    },
    {
     "name": "stdout",
     "output_type": "stream",
     "text": [
      "\n",
      "average_precision: 0.67311 (+/-0.26013)\n",
      "precision_at_10: 0.22744 (+/-0.09068)\n",
      "recall_at_10: 0.83826 (+/-0.24104)\n",
      "ndcg_at_10: 0.74968 (+/-0.24289)\n",
      "reciprocal_best_rank: 0.83076 (+/-0.29674)\n",
      "reciprocal_average_rank: 0.30618 (+/-0.20467)\n",
      "\n",
      "Evaluation on the test loader...\n"
     ]
    },
    {
     "data": {
      "application/vnd.jupyter.widget-view+json": {
       "model_id": "2960f6887a374d64a3825e23958e65c7",
       "version_major": 2,
       "version_minor": 0
      },
      "text/plain": [
       "HBox(children=(FloatProgress(value=0.0, max=430.0), HTML(value='')))"
      ]
     },
     "metadata": {},
     "output_type": "display_data"
    },
    {
     "name": "stdout",
     "output_type": "stream",
     "text": [
      "\n",
      "average_precision: 0.70221 (+/-0.27225)\n",
      "precision_at_10: 0.23186 (+/-0.09243)\n",
      "recall_at_10: 0.86519 (+/-0.22902)\n",
      "ndcg_at_10: 0.77534 (+/-0.24863)\n",
      "reciprocal_best_rank: 0.84299 (+/-0.29189)\n",
      "reciprocal_average_rank: 0.34084 (+/-0.22152)\n",
      "\n",
      "Epoch 44/50...\n"
     ]
    },
    {
     "data": {
      "application/vnd.jupyter.widget-view+json": {
       "model_id": "ff2c517f19024174b7a02c90b8fef614",
       "version_major": 2,
       "version_minor": 0
      },
      "text/plain": [
       "HBox(children=(FloatProgress(value=0.0, max=858.0), HTML(value='')))"
      ]
     },
     "metadata": {},
     "output_type": "display_data"
    },
    {
     "name": "stdout",
     "output_type": "stream",
     "text": [
      "\n",
      "Evaluation on the valid loader...\n"
     ]
    },
    {
     "data": {
      "application/vnd.jupyter.widget-view+json": {
       "model_id": "f78325b5541a4a248980114804291d32",
       "version_major": 2,
       "version_minor": 0
      },
      "text/plain": [
       "HBox(children=(FloatProgress(value=0.0, max=430.0), HTML(value='')))"
      ]
     },
     "metadata": {},
     "output_type": "display_data"
    },
    {
     "name": "stdout",
     "output_type": "stream",
     "text": [
      "\n",
      "average_precision: 0.67284 (+/-0.26065)\n",
      "precision_at_10: 0.22791 (+/-0.09054)\n",
      "recall_at_10: 0.83981 (+/-0.23993)\n",
      "ndcg_at_10: 0.74991 (+/-0.24256)\n",
      "reciprocal_best_rank: 0.82960 (+/-0.29706)\n",
      "reciprocal_average_rank: 0.30627 (+/-0.20460)\n",
      "\n",
      "Evaluation on the test loader...\n"
     ]
    },
    {
     "data": {
      "application/vnd.jupyter.widget-view+json": {
       "model_id": "0ff92b5ac45c4eaf8921fd09e9f54f79",
       "version_major": 2,
       "version_minor": 0
      },
      "text/plain": [
       "HBox(children=(FloatProgress(value=0.0, max=430.0), HTML(value='')))"
      ]
     },
     "metadata": {},
     "output_type": "display_data"
    },
    {
     "name": "stdout",
     "output_type": "stream",
     "text": [
      "\n",
      "average_precision: 0.70141 (+/-0.27201)\n",
      "precision_at_10: 0.23140 (+/-0.09234)\n",
      "recall_at_10: 0.86364 (+/-0.22923)\n",
      "ndcg_at_10: 0.77412 (+/-0.24839)\n",
      "reciprocal_best_rank: 0.84188 (+/-0.29211)\n",
      "reciprocal_average_rank: 0.34029 (+/-0.22115)\n",
      "\n",
      "Epoch 45/50...\n"
     ]
    },
    {
     "data": {
      "application/vnd.jupyter.widget-view+json": {
       "model_id": "b3a0b331f0cf4dc7b052eadcc612235c",
       "version_major": 2,
       "version_minor": 0
      },
      "text/plain": [
       "HBox(children=(FloatProgress(value=0.0, max=858.0), HTML(value='')))"
      ]
     },
     "metadata": {},
     "output_type": "display_data"
    },
    {
     "name": "stdout",
     "output_type": "stream",
     "text": [
      "\n",
      "Evaluation on the valid loader...\n"
     ]
    },
    {
     "data": {
      "application/vnd.jupyter.widget-view+json": {
       "model_id": "e8da1d8f34994d229ae448c42893ccf1",
       "version_major": 2,
       "version_minor": 0
      },
      "text/plain": [
       "HBox(children=(FloatProgress(value=0.0, max=430.0), HTML(value='')))"
      ]
     },
     "metadata": {},
     "output_type": "display_data"
    },
    {
     "name": "stdout",
     "output_type": "stream",
     "text": [
      "\n",
      "average_precision: 0.67263 (+/-0.26070)\n",
      "precision_at_10: 0.22767 (+/-0.09100)\n",
      "recall_at_10: 0.83864 (+/-0.24277)\n",
      "ndcg_at_10: 0.74942 (+/-0.24369)\n",
      "reciprocal_best_rank: 0.82958 (+/-0.29711)\n",
      "reciprocal_average_rank: 0.30612 (+/-0.20465)\n",
      "\n",
      "Evaluation on the test loader...\n"
     ]
    },
    {
     "data": {
      "application/vnd.jupyter.widget-view+json": {
       "model_id": "fce655679c1244698715278b5fc16500",
       "version_major": 2,
       "version_minor": 0
      },
      "text/plain": [
       "HBox(children=(FloatProgress(value=0.0, max=430.0), HTML(value='')))"
      ]
     },
     "metadata": {},
     "output_type": "display_data"
    },
    {
     "name": "stdout",
     "output_type": "stream",
     "text": [
      "\n",
      "average_precision: 0.70161 (+/-0.27165)\n",
      "precision_at_10: 0.23140 (+/-0.09234)\n",
      "recall_at_10: 0.86364 (+/-0.22923)\n",
      "ndcg_at_10: 0.77430 (+/-0.24808)\n",
      "reciprocal_best_rank: 0.84211 (+/-0.29167)\n",
      "reciprocal_average_rank: 0.34032 (+/-0.22100)\n",
      "\n",
      "Epoch 46/50...\n"
     ]
    },
    {
     "data": {
      "application/vnd.jupyter.widget-view+json": {
       "model_id": "6b501f502d25464f90da606a729c8786",
       "version_major": 2,
       "version_minor": 0
      },
      "text/plain": [
       "HBox(children=(FloatProgress(value=0.0, max=858.0), HTML(value='')))"
      ]
     },
     "metadata": {},
     "output_type": "display_data"
    },
    {
     "name": "stdout",
     "output_type": "stream",
     "text": [
      "\n",
      "Evaluation on the valid loader...\n"
     ]
    },
    {
     "data": {
      "application/vnd.jupyter.widget-view+json": {
       "model_id": "27230b39b2f04fada5899c3a4c426312",
       "version_major": 2,
       "version_minor": 0
      },
      "text/plain": [
       "HBox(children=(FloatProgress(value=0.0, max=430.0), HTML(value='')))"
      ]
     },
     "metadata": {},
     "output_type": "display_data"
    },
    {
     "name": "stdout",
     "output_type": "stream",
     "text": [
      "\n",
      "average_precision: 0.67277 (+/-0.26059)\n",
      "precision_at_10: 0.22791 (+/-0.09131)\n",
      "recall_at_10: 0.83922 (+/-0.24286)\n",
      "ndcg_at_10: 0.74972 (+/-0.24354)\n",
      "reciprocal_best_rank: 0.82956 (+/-0.29714)\n",
      "reciprocal_average_rank: 0.30630 (+/-0.20458)\n",
      "\n",
      "Evaluation on the test loader...\n"
     ]
    },
    {
     "data": {
      "application/vnd.jupyter.widget-view+json": {
       "model_id": "8a241ba762b648cd9fe635143bcf7300",
       "version_major": 2,
       "version_minor": 0
      },
      "text/plain": [
       "HBox(children=(FloatProgress(value=0.0, max=430.0), HTML(value='')))"
      ]
     },
     "metadata": {},
     "output_type": "display_data"
    },
    {
     "name": "stdout",
     "output_type": "stream",
     "text": [
      "\n",
      "average_precision: 0.70109 (+/-0.27158)\n",
      "precision_at_10: 0.23140 (+/-0.09234)\n",
      "recall_at_10: 0.86364 (+/-0.22923)\n",
      "ndcg_at_10: 0.77400 (+/-0.24799)\n",
      "reciprocal_best_rank: 0.84213 (+/-0.29162)\n",
      "reciprocal_average_rank: 0.34000 (+/-0.22107)\n",
      "\n",
      "Epoch 47/50...\n"
     ]
    },
    {
     "data": {
      "application/vnd.jupyter.widget-view+json": {
       "model_id": "85c4b8af29a44742b2665ff08022096e",
       "version_major": 2,
       "version_minor": 0
      },
      "text/plain": [
       "HBox(children=(FloatProgress(value=0.0, max=858.0), HTML(value='')))"
      ]
     },
     "metadata": {},
     "output_type": "display_data"
    },
    {
     "name": "stdout",
     "output_type": "stream",
     "text": [
      "\n",
      "Evaluation on the valid loader...\n"
     ]
    },
    {
     "data": {
      "application/vnd.jupyter.widget-view+json": {
       "model_id": "9134fb7b01be4a4e9acf95f8f3bc4f6c",
       "version_major": 2,
       "version_minor": 0
      },
      "text/plain": [
       "HBox(children=(FloatProgress(value=0.0, max=430.0), HTML(value='')))"
      ]
     },
     "metadata": {},
     "output_type": "display_data"
    },
    {
     "name": "stdout",
     "output_type": "stream",
     "text": [
      "\n",
      "average_precision: 0.67329 (+/-0.26055)\n",
      "precision_at_10: 0.22791 (+/-0.09131)\n",
      "recall_at_10: 0.83922 (+/-0.24286)\n",
      "ndcg_at_10: 0.75019 (+/-0.24347)\n",
      "reciprocal_best_rank: 0.83073 (+/-0.29683)\n",
      "reciprocal_average_rank: 0.30634 (+/-0.20462)\n",
      "\n",
      "Evaluation on the test loader...\n"
     ]
    },
    {
     "data": {
      "application/vnd.jupyter.widget-view+json": {
       "model_id": "29777bb4b4664213afd35c08fbcb09b7",
       "version_major": 2,
       "version_minor": 0
      },
      "text/plain": [
       "HBox(children=(FloatProgress(value=0.0, max=430.0), HTML(value='')))"
      ]
     },
     "metadata": {},
     "output_type": "display_data"
    },
    {
     "name": "stdout",
     "output_type": "stream",
     "text": [
      "\n",
      "average_precision: 0.70165 (+/-0.27173)\n",
      "precision_at_10: 0.23163 (+/-0.09238)\n",
      "recall_at_10: 0.86442 (+/-0.22913)\n",
      "ndcg_at_10: 0.77459 (+/-0.24817)\n",
      "reciprocal_best_rank: 0.84213 (+/-0.29162)\n",
      "reciprocal_average_rank: 0.34058 (+/-0.22139)\n",
      "\n",
      "Epoch 48/50...\n"
     ]
    },
    {
     "data": {
      "application/vnd.jupyter.widget-view+json": {
       "model_id": "a9e2adfefe4c44c9a3baef1328771204",
       "version_major": 2,
       "version_minor": 0
      },
      "text/plain": [
       "HBox(children=(FloatProgress(value=0.0, max=858.0), HTML(value='')))"
      ]
     },
     "metadata": {},
     "output_type": "display_data"
    },
    {
     "name": "stdout",
     "output_type": "stream",
     "text": [
      "\n",
      "Evaluation on the valid loader...\n"
     ]
    },
    {
     "data": {
      "application/vnd.jupyter.widget-view+json": {
       "model_id": "8ab5ec4f6aa942d0baced4eadffdb5cb",
       "version_major": 2,
       "version_minor": 0
      },
      "text/plain": [
       "HBox(children=(FloatProgress(value=0.0, max=430.0), HTML(value='')))"
      ]
     },
     "metadata": {},
     "output_type": "display_data"
    },
    {
     "name": "stdout",
     "output_type": "stream",
     "text": [
      "\n",
      "average_precision: 0.67412 (+/-0.26057)\n",
      "precision_at_10: 0.22860 (+/-0.09071)\n",
      "recall_at_10: 0.84194 (+/-0.24023)\n",
      "ndcg_at_10: 0.75164 (+/-0.24252)\n",
      "reciprocal_best_rank: 0.83102 (+/-0.29625)\n",
      "reciprocal_average_rank: 0.30720 (+/-0.20505)\n",
      "\n",
      "Evaluation on the test loader...\n"
     ]
    },
    {
     "data": {
      "application/vnd.jupyter.widget-view+json": {
       "model_id": "8a378f8b306842f3a42feb5ffdacd361",
       "version_major": 2,
       "version_minor": 0
      },
      "text/plain": [
       "HBox(children=(FloatProgress(value=0.0, max=430.0), HTML(value='')))"
      ]
     },
     "metadata": {},
     "output_type": "display_data"
    },
    {
     "name": "stdout",
     "output_type": "stream",
     "text": [
      "\n",
      "average_precision: 0.70241 (+/-0.27176)\n",
      "precision_at_10: 0.23186 (+/-0.09218)\n",
      "recall_at_10: 0.86558 (+/-0.22854)\n",
      "ndcg_at_10: 0.77545 (+/-0.24752)\n",
      "reciprocal_best_rank: 0.84254 (+/-0.29101)\n",
      "reciprocal_average_rank: 0.34127 (+/-0.22175)\n",
      "\n",
      "Epoch 49/50...\n"
     ]
    },
    {
     "data": {
      "application/vnd.jupyter.widget-view+json": {
       "model_id": "b5ed226f7a2949849c0fc3f4fe62f85b",
       "version_major": 2,
       "version_minor": 0
      },
      "text/plain": [
       "HBox(children=(FloatProgress(value=0.0, max=858.0), HTML(value='')))"
      ]
     },
     "metadata": {},
     "output_type": "display_data"
    },
    {
     "name": "stdout",
     "output_type": "stream",
     "text": [
      "\n",
      "Evaluation on the valid loader...\n"
     ]
    },
    {
     "data": {
      "application/vnd.jupyter.widget-view+json": {
       "model_id": "da232f2ab965417da60d44878e2f29e5",
       "version_major": 2,
       "version_minor": 0
      },
      "text/plain": [
       "HBox(children=(FloatProgress(value=0.0, max=430.0), HTML(value='')))"
      ]
     },
     "metadata": {},
     "output_type": "display_data"
    },
    {
     "name": "stdout",
     "output_type": "stream",
     "text": [
      "\n",
      "average_precision: 0.67401 (+/-0.26044)\n",
      "precision_at_10: 0.22884 (+/-0.09025)\n",
      "recall_at_10: 0.84310 (+/-0.23735)\n",
      "ndcg_at_10: 0.75198 (+/-0.24134)\n",
      "reciprocal_best_rank: 0.83104 (+/-0.29620)\n",
      "reciprocal_average_rank: 0.30706 (+/-0.20487)\n",
      "\n",
      "Evaluation on the test loader...\n"
     ]
    },
    {
     "data": {
      "application/vnd.jupyter.widget-view+json": {
       "model_id": "2e274d34810d40ce900f740b4695d29a",
       "version_major": 2,
       "version_minor": 0
      },
      "text/plain": [
       "HBox(children=(FloatProgress(value=0.0, max=430.0), HTML(value='')))"
      ]
     },
     "metadata": {},
     "output_type": "display_data"
    },
    {
     "name": "stdout",
     "output_type": "stream",
     "text": [
      "\n",
      "average_precision: 0.70282 (+/-0.27125)\n",
      "precision_at_10: 0.23233 (+/-0.09151)\n",
      "recall_at_10: 0.86907 (+/-0.22417)\n",
      "ndcg_at_10: 0.77684 (+/-0.24483)\n",
      "reciprocal_best_rank: 0.84334 (+/-0.28979)\n",
      "reciprocal_average_rank: 0.34154 (+/-0.22158)\n",
      "\n",
      "Epoch 50/50...\n"
     ]
    },
    {
     "data": {
      "application/vnd.jupyter.widget-view+json": {
       "model_id": "ce6705f87b754881802903d209d4a947",
       "version_major": 2,
       "version_minor": 0
      },
      "text/plain": [
       "HBox(children=(FloatProgress(value=0.0, max=858.0), HTML(value='')))"
      ]
     },
     "metadata": {},
     "output_type": "display_data"
    },
    {
     "name": "stdout",
     "output_type": "stream",
     "text": [
      "\n",
      "Evaluation on the valid loader...\n"
     ]
    },
    {
     "data": {
      "application/vnd.jupyter.widget-view+json": {
       "model_id": "20bb583e2a444e57a887aa834f5d065c",
       "version_major": 2,
       "version_minor": 0
      },
      "text/plain": [
       "HBox(children=(FloatProgress(value=0.0, max=430.0), HTML(value='')))"
      ]
     },
     "metadata": {},
     "output_type": "display_data"
    },
    {
     "name": "stdout",
     "output_type": "stream",
     "text": [
      "\n",
      "average_precision: 0.67421 (+/-0.26045)\n",
      "precision_at_10: 0.22860 (+/-0.09020)\n",
      "recall_at_10: 0.84233 (+/-0.23738)\n",
      "ndcg_at_10: 0.75179 (+/-0.24128)\n",
      "reciprocal_best_rank: 0.83104 (+/-0.29620)\n",
      "reciprocal_average_rank: 0.30727 (+/-0.20491)\n",
      "\n",
      "Evaluation on the test loader...\n"
     ]
    },
    {
     "data": {
      "application/vnd.jupyter.widget-view+json": {
       "model_id": "1e7bf5ae896f46f0b2b12dbc5b236fb0",
       "version_major": 2,
       "version_minor": 0
      },
      "text/plain": [
       "HBox(children=(FloatProgress(value=0.0, max=430.0), HTML(value='')))"
      ]
     },
     "metadata": {},
     "output_type": "display_data"
    },
    {
     "name": "stdout",
     "output_type": "stream",
     "text": [
      "\n",
      "average_precision: 0.70186 (+/-0.27187)\n",
      "precision_at_10: 0.23209 (+/-0.09146)\n",
      "recall_at_10: 0.86849 (+/-0.22480)\n",
      "ndcg_at_10: 0.77565 (+/-0.24550)\n",
      "reciprocal_best_rank: 0.84102 (+/-0.29053)\n",
      "reciprocal_average_rank: 0.34155 (+/-0.22159)\n",
      "\n",
      "max for epoch 30\n",
      "valid score: 0.67471\n",
      "test score: 0.70016\n"
     ]
    }
   ],
   "source": [
    "run_models(model_names=[\"custom-classifier\"],\n",
    "           word2vec=True,\n",
    "           bart=False,\n",
    "           args=args,\n",
    "           train=True)"
   ]
  },
  {
   "cell_type": "code",
   "execution_count": null,
   "metadata": {},
   "outputs": [],
   "source": []
  }
 ],
 "metadata": {
  "jupytext": {
   "formats": "ipynb,auto:percent"
  },
  "kernelspec": {
   "display_name": "Python 3 (ipykernel)",
   "language": "python",
   "name": "python3"
  },
  "language_info": {
   "codemirror_mode": {
    "name": "ipython",
    "version": 3
   },
   "file_extension": ".py",
   "mimetype": "text/x-python",
   "name": "python",
   "nbconvert_exporter": "python",
   "pygments_lexer": "ipython3",
   "version": "3.7.16"
  },
  "pycharm": {
   "stem_cell": {
    "cell_type": "raw",
    "metadata": {
     "collapsed": false
    },
    "source": []
   }
  },
  "toc": {
   "base_numbering": 1,
   "nav_menu": {},
   "number_sections": true,
   "sideBar": true,
   "skip_h1_title": false,
   "title_cell": "Table of Contents",
   "title_sidebar": "Contents",
   "toc_cell": false,
   "toc_position": {},
   "toc_section_display": true,
   "toc_window_display": false
  }
 },
 "nbformat": 4,
 "nbformat_minor": 2
}
